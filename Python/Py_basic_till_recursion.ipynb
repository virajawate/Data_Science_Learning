{
 "cells": [
  {
   "cell_type": "code",
   "execution_count": 111,
   "metadata": {},
   "outputs": [
    {
     "name": "stdout",
     "output_type": "stream",
     "text": [
      "['False', 'None', 'True', 'and', 'as', 'assert', 'async', 'await', 'break', 'class', 'continue', 'def', 'del', 'elif', 'else', 'except', 'finally', 'for', 'from', 'global', 'if', 'import', 'in', 'is', 'lambda', 'nonlocal', 'not', 'or', 'pass', 'raise', 'return', 'try', 'while', 'with', 'yield']\n",
      "['_', 'case', 'match']\n"
     ]
    }
   ],
   "source": [
    "import keyword as rev\n",
    "print(rev.kwlist)\n",
    "print(rev.softkwlist)"
   ]
  },
  {
   "cell_type": "code",
   "execution_count": 112,
   "metadata": {},
   "outputs": [
    {
     "data": {
      "text/plain": [
       "'c:\\\\Users\\\\viraj\\\\Documents\\\\Viraj-Doc\\\\Mtech\\\\Coding\\\\Python\\\\Learning_DS'"
      ]
     },
     "execution_count": 112,
     "metadata": {},
     "output_type": "execute_result"
    }
   ],
   "source": [
    "%pwd"
   ]
  },
  {
   "cell_type": "code",
   "execution_count": 113,
   "metadata": {},
   "outputs": [],
   "source": [
    "none = 10"
   ]
  },
  {
   "cell_type": "code",
   "execution_count": 114,
   "metadata": {},
   "outputs": [
    {
     "data": {
      "text/plain": [
       "10"
      ]
     },
     "execution_count": 114,
     "metadata": {},
     "output_type": "execute_result"
    }
   ],
   "source": [
    "none"
   ]
  },
  {
   "cell_type": "code",
   "execution_count": 115,
   "metadata": {},
   "outputs": [
    {
     "ename": "SyntaxError",
     "evalue": "invalid syntax (2000605024.py, line 1)",
     "output_type": "error",
     "traceback": [
      "\u001b[1;36m  Cell \u001b[1;32mIn[115], line 1\u001b[1;36m\u001b[0m\n\u001b[1;33m    class = 10\u001b[0m\n\u001b[1;37m          ^\u001b[0m\n\u001b[1;31mSyntaxError\u001b[0m\u001b[1;31m:\u001b[0m invalid syntax\n"
     ]
    }
   ],
   "source": [
    "class = 10\n",
    "return = 5\n",
    "if = 'hello'\n",
    "else = 23.23\n",
    "print(class,return,if,else)"
   ]
  },
  {
   "cell_type": "code",
   "execution_count": 116,
   "metadata": {},
   "outputs": [
    {
     "name": "stdout",
     "output_type": "stream",
     "text": [
      "10 5 hello 23.23\n"
     ]
    }
   ],
   "source": [
    "_class = 10\n",
    "_return = 5\n",
    "_if = 'hello'\n",
    "_else = 23.23\n",
    "print(_class,_return,_if,_else)"
   ]
  },
  {
   "cell_type": "code",
   "execution_count": 117,
   "metadata": {},
   "outputs": [
    {
     "name": "stdout",
     "output_type": "stream",
     "text": [
      "33.230000000000004\n"
     ]
    }
   ],
   "source": [
    "c = _class + _else\n",
    "print(c)"
   ]
  },
  {
   "cell_type": "code",
   "execution_count": 118,
   "metadata": {},
   "outputs": [
    {
     "name": "stdout",
     "output_type": "stream",
     "text": [
      "lower UPPER\n"
     ]
    }
   ],
   "source": [
    "up_strg = 'lower'\n",
    "UP_STRG = 'UPPER'\n",
    "print(up_strg, UP_STRG)"
   ]
  },
  {
   "cell_type": "code",
   "execution_count": 119,
   "metadata": {},
   "outputs": [],
   "source": [
    "def add(a, b):\n",
    "    \"\"\"\n",
    "    This Function adds 2 numbers\n",
    "\n",
    "    Parameters:\n",
    "    a (int) = 1st Number\n",
    "    b (int) = 2nd Number\n",
    "\n",
    "    Returns:\n",
    "    (int) : Sum of the parameters\n",
    "    \"\"\"\n",
    "\n",
    "    return a+b"
   ]
  },
  {
   "cell_type": "code",
   "execution_count": 120,
   "metadata": {},
   "outputs": [
    {
     "name": "stdout",
     "output_type": "stream",
     "text": [
      "3\n",
      "\n",
      "    This Function adds 2 numbers\n",
      "\n",
      "    Parameters:\n",
      "    a (int) = 1st Number\n",
      "    b (int) = 2nd Number\n",
      "\n",
      "    Returns:\n",
      "    (int) : Sum of the parameters\n",
      "    \n",
      "{}\n",
      "<code object add at 0x000001CF2B0AB910, file \"C:\\Users\\viraj\\AppData\\Local\\Temp\\ipykernel_18748\\209730688.py\", line 1>\n"
     ]
    }
   ],
   "source": [
    "print(add(1,2))\n",
    "print(add.__doc__)\n",
    "print(add.__annotations__)\n",
    "print(add.__code__)"
   ]
  },
  {
   "cell_type": "code",
   "execution_count": 122,
   "metadata": {},
   "outputs": [
    {
     "ename": "SyntaxError",
     "evalue": "invalid decimal literal (2311339134.py, line 1)",
     "output_type": "error",
     "traceback": [
      "\u001b[1;36m  Cell \u001b[1;32mIn[122], line 1\u001b[1;36m\u001b[0m\n\u001b[1;33m    1var = 20\u001b[0m\n\u001b[1;37m    ^\u001b[0m\n\u001b[1;31mSyntaxError\u001b[0m\u001b[1;31m:\u001b[0m invalid decimal literal\n"
     ]
    }
   ],
   "source": [
    "1var = 20"
   ]
  },
  {
   "cell_type": "code",
   "execution_count": 123,
   "metadata": {},
   "outputs": [
    {
     "ename": "SyntaxError",
     "evalue": "invalid syntax (2086002629.py, line 1)",
     "output_type": "error",
     "traceback": [
      "\u001b[1;36m  Cell \u001b[1;32mIn[123], line 1\u001b[1;36m\u001b[0m\n\u001b[1;33m    $asd = 342\u001b[0m\n\u001b[1;37m    ^\u001b[0m\n\u001b[1;31mSyntaxError\u001b[0m\u001b[1;31m:\u001b[0m invalid syntax\n"
     ]
    }
   ],
   "source": [
    "$asd = 342"
   ]
  },
  {
   "cell_type": "code",
   "execution_count": 124,
   "metadata": {},
   "outputs": [
    {
     "ename": "SyntaxError",
     "evalue": "invalid syntax (3827246077.py, line 1)",
     "output_type": "error",
     "traceback": [
      "\u001b[1;36m  Cell \u001b[1;32mIn[124], line 1\u001b[1;36m\u001b[0m\n\u001b[1;33m    var up = 323\u001b[0m\n\u001b[1;37m        ^\u001b[0m\n\u001b[1;31mSyntaxError\u001b[0m\u001b[1;31m:\u001b[0m invalid syntax\n"
     ]
    }
   ],
   "source": [
    "var up = 323"
   ]
  },
  {
   "cell_type": "code",
   "execution_count": 125,
   "metadata": {},
   "outputs": [
    {
     "ename": "SyntaxError",
     "evalue": "invalid syntax (2964353401.py, line 1)",
     "output_type": "error",
     "traceback": [
      "\u001b[1;36m  Cell \u001b[1;32mIn[125], line 1\u001b[1;36m\u001b[0m\n\u001b[1;33m    for = 321\u001b[0m\n\u001b[1;37m        ^\u001b[0m\n\u001b[1;31mSyntaxError\u001b[0m\u001b[1;31m:\u001b[0m invalid syntax\n"
     ]
    }
   ],
   "source": [
    "for = 321"
   ]
  },
  {
   "cell_type": "code",
   "execution_count": 126,
   "metadata": {},
   "outputs": [
    {
     "name": "stdout",
     "output_type": "stream",
     "text": [
      "32 342\n"
     ]
    }
   ],
   "source": [
    "var1 = 32\n",
    "second_var = 342\n",
    "print(var1, second_var)"
   ]
  },
  {
   "cell_type": "code",
   "execution_count": 127,
   "metadata": {},
   "outputs": [],
   "source": [
    "# Defining Function\n",
    "def helloWorld():\n",
    "    print(\"Helo, How you doing....\")"
   ]
  },
  {
   "cell_type": "code",
   "execution_count": 128,
   "metadata": {},
   "outputs": [
    {
     "name": "stdout",
     "output_type": "stream",
     "text": [
      "Helo, How you doing....\n"
     ]
    }
   ],
   "source": [
    "# Calling Function\n",
    "helloWorld()"
   ]
  },
  {
   "cell_type": "code",
   "execution_count": 129,
   "metadata": {},
   "outputs": [
    {
     "ename": "ValueError",
     "evalue": "invalid literal for int() with base 10: ''",
     "output_type": "error",
     "traceback": [
      "\u001b[1;31m---------------------------------------------------------------------------\u001b[0m",
      "\u001b[1;31mValueError\u001b[0m                                Traceback (most recent call last)",
      "Cell \u001b[1;32mIn[129], line 1\u001b[0m\n\u001b[1;32m----> 1\u001b[0m x \u001b[39m=\u001b[39m \u001b[39mint\u001b[39m(\u001b[39minput\u001b[39m(\u001b[39m\"\u001b[39m\u001b[39mNumber :\u001b[39m\u001b[39m\"\u001b[39m))\n\u001b[0;32m      2\u001b[0m \u001b[39mif\u001b[39;00m x\u001b[39m>\u001b[39m\u001b[39m123\u001b[39m:\n\u001b[0;32m      3\u001b[0m     \u001b[39mprint\u001b[39m(\u001b[39m\"\u001b[39m\u001b[39mx is more than 123\u001b[39m\u001b[39m\"\u001b[39m)\n",
      "\u001b[1;31mValueError\u001b[0m: invalid literal for int() with base 10: ''"
     ]
    }
   ],
   "source": [
    "x = int(input(\"Number :\"))\n",
    "if x>123:\n",
    "    print(\"x is more than 123\")"
   ]
  },
  {
   "cell_type": "code",
   "execution_count": null,
   "metadata": {},
   "outputs": [
    {
     "name": "stdout",
     "output_type": "stream",
     "text": [
      "Hello 0\n",
      "Hello 1\n",
      "Hello 2\n",
      "Hello 3\n"
     ]
    }
   ],
   "source": [
    "for i in range(4):\n",
    "    print(\"Hello\", i)"
   ]
  },
  {
   "cell_type": "code",
   "execution_count": null,
   "metadata": {},
   "outputs": [
    {
     "name": "stdout",
     "output_type": "stream",
     "text": [
      "71 414\n"
     ]
    }
   ],
   "source": [
    "sum =  1 + 23 + \\\n",
    "    4 + 43\n",
    "add = (324 + 2 + 32 +\n",
    "    \t21 + 23 + 12)\n",
    "print(sum, add)"
   ]
  },
  {
   "cell_type": "code",
   "execution_count": null,
   "metadata": {},
   "outputs": [
    {
     "name": "stdout",
     "output_type": "stream",
     "text": [
      "3113\n"
     ]
    }
   ],
   "source": [
    "a =2 ; r = 3111; print(a+r)"
   ]
  },
  {
   "cell_type": "code",
   "execution_count": null,
   "metadata": {},
   "outputs": [
    {
     "name": "stdout",
     "output_type": "stream",
     "text": [
      "['apples', 'graphes', 'tamatoo']\n",
      "['carrot', 'raddish', 21, 3.32, [3, 2, 14, 3]]\n"
     ]
    }
   ],
   "source": [
    "# Homogeneous List\n",
    "fruits = [\"apples\", \"graphes\", \"tamatoo\"]\n",
    "print(fruits)\n",
    "# Heterogeneous List\n",
    "salad = [\"carrot\", \"raddish\", 21, 3.32, [3,2,14,3]]\n",
    "print(salad)"
   ]
  },
  {
   "cell_type": "code",
   "execution_count": null,
   "metadata": {},
   "outputs": [
    {
     "name": "stdout",
     "output_type": "stream",
     "text": [
      "323\n",
      "1\n"
     ]
    }
   ],
   "source": [
    "#Index Slicing\n",
    "Listed = [1,23,323,32]\n",
    "print(Listed[2])\n",
    "print(Listed[0])"
   ]
  },
  {
   "cell_type": "code",
   "execution_count": null,
   "metadata": {},
   "outputs": [
    {
     "name": "stdout",
     "output_type": "stream",
     "text": [
      "(32, 32, 21)\n",
      "(12, 12.2, 'string', [21, 34, 654], 31)\n",
      "12\n",
      "('string', [21, 34, 654])\n"
     ]
    }
   ],
   "source": [
    "# Tuples\n",
    "# Homogeneous Tuples\n",
    "tups = (32,32,21)\n",
    "print(tups)\n",
    "\n",
    "# Heterogeneous Tuples\n",
    "tuped = (12,12.2,\"string\", [21,34,654],(31))\n",
    "print(tuped)\n",
    "\n",
    "#Slicing \n",
    "print(tuped[0])\n",
    "print(tuped[2:4])"
   ]
  },
  {
   "cell_type": "code",
   "execution_count": null,
   "metadata": {},
   "outputs": [
    {
     "name": "stdout",
     "output_type": "stream",
     "text": [
      "{'Name 1': 'Ravi', 'Marks 1': 89, 'Name 2': 'Siddarth', 'Marks 2': 90}\n",
      "{'Color': 'R', 'Z': 2, '(x, y)': (3, 6)}\n",
      "{'Name': 'Sid', 'Marks': 90}\n",
      "Name of the Moive - Intersteller\n",
      "Length of the Movie - 3.5\n",
      "Ravi\n",
      "Sid\n"
     ]
    }
   ],
   "source": [
    "# Dictionaries\n",
    "# Homogeneous Dictionaries\n",
    "students = {\"Name 1\": \"Ravi\", \"Marks 1\": 89,\n",
    "            \"Name 2\": \"Siddarth\", \"Marks 2\": 90}\n",
    "print(students)\n",
    "\n",
    "# Heterogeneous Dictionaries\n",
    "PointCould = {\"Color\": \"R\", \"Z\": 2, \"(x, y)\": (3, 6)}\n",
    "print(PointCould)\n",
    "\n",
    "# Unique Keys\n",
    "student_list = {\"Name\": \"Ravish\", \"Marks\": 89, \n",
    "                \"Name\": \"Sid\", \"Marks\": 90} \n",
    "# Same Keys gets updated\n",
    "print(student_list)\n",
    "\n",
    "# Accessing Values\n",
    "Dict = {\"Movie_name\": \"Intersteller\", \"Length\": 3.5}\n",
    "print(\"Name of the Moive -\", Dict[\"Movie_name\"])\n",
    "print(\"Length of the Movie -\", Dict[\"Length\"])\n",
    "print(students[\"Name 1\"])\n",
    "print(student_list[\"Name\"])"
   ]
  },
  {
   "cell_type": "code",
   "execution_count": null,
   "metadata": {},
   "outputs": [
    {
     "name": "stdout",
     "output_type": "stream",
     "text": [
      "{2, 43, 5, 6}\n",
      "{'Red', 'Green', 'Blue'}\n",
      "{'Ted', 42, 'Green', 332}\n"
     ]
    }
   ],
   "source": [
    "# Set\n",
    "# Homogeneous Set\n",
    "Values = { 2, 5, 6, 43}\n",
    "print(Values)\n",
    "\n",
    "Color = {\"Red\", \"Green\", \"Blue\"}\n",
    "print(Color)\n",
    "\n",
    "# Heterogenous Set\n",
    "seted = {\"Green\", 42, \"Ted\", 332}\n",
    "print(seted)"
   ]
  },
  {
   "cell_type": "code",
   "execution_count": null,
   "metadata": {},
   "outputs": [
    {
     "name": "stdout",
     "output_type": "stream",
     "text": [
      "<class 'int'>\n"
     ]
    }
   ],
   "source": [
    "x = 213\n",
    "print(type(x))"
   ]
  },
  {
   "cell_type": "code",
   "execution_count": null,
   "metadata": {},
   "outputs": [
    {
     "name": "stdout",
     "output_type": "stream",
     "text": [
      "53\n",
      "8\n"
     ]
    }
   ],
   "source": [
    "# Explicite Type Casting\n",
    "\n",
    "adding_string = \"5\" + str(3)\n",
    "adding_int    = int(\"5\") + 3\n",
    "\n",
    "print(adding_string)\n",
    "print(adding_int)"
   ]
  },
  {
   "cell_type": "code",
   "execution_count": null,
   "metadata": {},
   "outputs": [
    {
     "name": "stdout",
     "output_type": "stream",
     "text": [
      "4\n"
     ]
    }
   ],
   "source": [
    "listing = [1, 2, 4, 5, 7, 83]\n",
    "ires = listing[2]\n",
    "print(ires)"
   ]
  },
  {
   "cell_type": "code",
   "execution_count": null,
   "metadata": {},
   "outputs": [
    {
     "name": "stdout",
     "output_type": "stream",
     "text": [
      "7\n"
     ]
    }
   ],
   "source": [
    "new_listing = listing[4] if len(listing) > 5 else None\n",
    "print(new_listing)"
   ]
  },
  {
   "cell_type": "code",
   "execution_count": null,
   "metadata": {},
   "outputs": [
    {
     "name": "stdout",
     "output_type": "stream",
     "text": [
      "Welcome to Data\n",
      "Hello 4 !!!!!\n"
     ]
    },
    {
     "data": {
      "text/plain": [
       "'\\n\\nf before string is denoted formatted string literal\\nF-string for short\\n\\n{} - curls evaluated and inserted the value of variables\\n\\n'"
      ]
     },
     "execution_count": 32,
     "metadata": {},
     "output_type": "execute_result"
    }
   ],
   "source": [
    "print(\"Welcome to Data\")\n",
    "name = input(\"Enter your name :\")\n",
    "print(f\"Hello {name} !!!!!\")\n",
    "'''\n",
    "\n",
    "f before string is denoted formatted string literal\n",
    "F-string for short\n",
    "\n",
    "{} - curls evaluated and inserted the value of variables\n",
    "\n",
    "'''"
   ]
  },
  {
   "cell_type": "code",
   "execution_count": null,
   "metadata": {},
   "outputs": [
    {
     "name": "stdout",
     "output_type": "stream",
     "text": [
      "Sum of 32 and 23 is 55\n"
     ]
    }
   ],
   "source": [
    "num1 = int(input(\"Enter Number :\"))\n",
    "num2 = int(input(\"Enter Adder  :\"))\n",
    "sum = num1 + num2\n",
    "\n",
    "print(f\"Sum of {num1} and {num2} is {sum}\")"
   ]
  },
  {
   "cell_type": "code",
   "execution_count": null,
   "metadata": {},
   "outputs": [
    {
     "name": "stdout",
     "output_type": "stream",
     "text": [
      "Marks of Maths is  400 \n",
      " and of English is  900\n"
     ]
    }
   ],
   "source": [
    "Math = 400\n",
    "English = 900\n",
    "print(\"Marks of Maths is \", Math, \"\\n and of English is \", English)"
   ]
  },
  {
   "cell_type": "code",
   "execution_count": null,
   "metadata": {},
   "outputs": [
    {
     "name": "stdout",
     "output_type": "stream",
     "text": [
      "Sum is 55 of 32 and 23\n",
      "Product is 736 of 32 and 23\n",
      "Quotient is 1.391304347826087 and reminder is 9 of 32 and 23\n"
     ]
    }
   ],
   "source": [
    "difference = num1 - num2 \n",
    "product = num1 * num2 \n",
    "if num2 != 0:\n",
    "    quotient = num1 / num2\n",
    "    reminder = num1 % num2\n",
    "else:\n",
    "    quotient = \"Underfined (infinite)\"\n",
    "    reminder = \"Underfined (infinite)\"\n",
    "\n",
    "print(f\"Sum is {sum} of {num1} and {num2}\")\n",
    "print(f\"Product is {product} of {num1} and {num2}\")\n",
    "print(f\"Quotient is {quotient} and reminder is {reminder} of {num1} and {num2}\")\n",
    "\n"
   ]
  },
  {
   "cell_type": "code",
   "execution_count": null,
   "metadata": {},
   "outputs": [
    {
     "name": "stdout",
     "output_type": "stream",
     "text": [
      "55\n",
      "9\n",
      "1.391304347826087\n",
      "736\n",
      "1\n",
      "41538374868278621028243970633760768\n",
      "9\n"
     ]
    }
   ],
   "source": [
    "print(num1 + num2)\n",
    "print(num1 - num2)\n",
    "print(num1 / num2)\n",
    "print(num1 * num2)\n",
    "print(num1 // num2)\n",
    "print(num1 ** num2)\n",
    "print(num1 % num2)"
   ]
  },
  {
   "cell_type": "code",
   "execution_count": 130,
   "metadata": {},
   "outputs": [
    {
     "name": "stdout",
     "output_type": "stream",
     "text": [
      "False\n",
      "True\n",
      "False\n",
      "True\n",
      "True\n",
      "False\n"
     ]
    }
   ],
   "source": [
    "# Bitwise operator\n",
    "print(num1 == num2)\n",
    "print(num1 != num2)\n",
    "\n",
    "#Logical operator\n",
    "\"\"\"\n",
    "AND\n",
    "OR\n",
    "NOT\n",
    "XOR\n",
    "\"\"\"\n",
    "print((num1 == num2) and (num1 != num2))\n",
    "print(num1 == num2 or num1 != num2)\n",
    "print(not num1 == num2)\n",
    "print(num1 == num2 ^ num1 != num2)"
   ]
  },
  {
   "cell_type": "code",
   "execution_count": 131,
   "metadata": {},
   "outputs": [
    {
     "name": "stdout",
     "output_type": "stream",
     "text": [
      "A =  10\n",
      "5\n",
      "10\n",
      "0b1010\n",
      "A operation =  15\n",
      "10\n",
      "30\n",
      "15.0\n"
     ]
    }
   ],
   "source": [
    "A = 10\n",
    "print(\"A = \",A)\n",
    "# Right shift\n",
    "rigth = A >> 1\n",
    "print(rigth)\n",
    "\n",
    "# Left shift\n",
    "left = rigth << 1\n",
    "print(left)\n",
    "\n",
    "# Binary Convert\n",
    "print(bin(A))\n",
    "\n",
    "# Assignment operator\n",
    "ass = A\n",
    "ass += 5\n",
    "print(\"A operation = \", ass)\n",
    "ass -= 5\n",
    "print(ass)\n",
    "ass *= 3\n",
    "print(ass)\n",
    "ass /= 2\n",
    "print(ass)\n"
   ]
  },
  {
   "cell_type": "code",
   "execution_count": 132,
   "metadata": {},
   "outputs": [
    {
     "name": "stdout",
     "output_type": "stream",
     "text": [
      "Bad\n"
     ]
    }
   ],
   "source": [
    "score = int(input(\"Enter your marks : \"))\n",
    "if score > 90:\n",
    "    print(\"Distinction\")\n",
    "elif score > 80:\n",
    "    print(\"Excellent\")\n",
    "elif score > 70:\n",
    "    print(\"Very Good\")\n",
    "elif score < 60:\n",
    "    print(\"Improve\")\n",
    "else :\n",
    "    print(\"Bad\")"
   ]
  },
  {
   "cell_type": "code",
   "execution_count": 133,
   "metadata": {},
   "outputs": [
    {
     "name": "stdout",
     "output_type": "stream",
     "text": [
      "90 num1 is the largest.\n"
     ]
    }
   ],
   "source": [
    "num1 = 90\n",
    "num2 = 40\n",
    "num3 = 9\n",
    "\n",
    "if (num1 >= num2) and (num1 >= num3):\n",
    "    print(num1,\"num1 is the largest.\")\n",
    "elif (num2 >= num1) and (num2 >= num3):\n",
    "    print(num2,\"num2 is the largest.\")\n",
    "else:\n",
    "    print(num3,\"num3 is the largest.\")"
   ]
  },
  {
   "cell_type": "code",
   "execution_count": 134,
   "metadata": {},
   "outputs": [
    {
     "name": "stdout",
     "output_type": "stream",
     "text": [
      "90 + 40 = 130\n"
     ]
    }
   ],
   "source": [
    "choice = input(\"Enter the operation :\")\n",
    "if choice == \"add\":\n",
    "    print(num1,\"+\",num2,\"=\",num1+num2)\n",
    "elif choice == \"sub\":\n",
    "    print(num1,\"-\",num2,\"=\",num1-num2)\n",
    "else:\n",
    "    print(\"Worng Choice\")"
   ]
  },
  {
   "cell_type": "code",
   "execution_count": 135,
   "metadata": {},
   "outputs": [
    {
     "name": "stdout",
     "output_type": "stream",
     "text": [
      "0\n",
      "1\n",
      "2\n",
      "3\n",
      "4\n"
     ]
    }
   ],
   "source": [
    "# series till 5\n",
    "for i in range(5):\n",
    "    print(i)"
   ]
  },
  {
   "cell_type": "code",
   "execution_count": 136,
   "metadata": {},
   "outputs": [
    {
     "name": "stdout",
     "output_type": "stream",
     "text": [
      "2\n",
      "3\n",
      "4\n",
      "5\n"
     ]
    }
   ],
   "source": [
    "# Series from 2  to 6\n",
    "for i in range(2,6):\n",
    "    print(i)"
   ]
  },
  {
   "cell_type": "code",
   "execution_count": 137,
   "metadata": {},
   "outputs": [
    {
     "name": "stdout",
     "output_type": "stream",
     "text": [
      "2\n",
      "7\n",
      "12\n",
      "17\n",
      "22\n",
      "27\n",
      "32\n",
      "37\n"
     ]
    }
   ],
   "source": [
    "# Series from 2 to 40 with 5 steps:\n",
    "for i in range(2,40,5):\n",
    "    print(i)"
   ]
  },
  {
   "cell_type": "code",
   "execution_count": 138,
   "metadata": {},
   "outputs": [
    {
     "name": "stdout",
     "output_type": "stream",
     "text": [
      "Violet\n",
      "Indigo\n",
      "Blue\n",
      "Green\n",
      "Orange\n",
      "Red\n",
      "Yellow\n"
     ]
    }
   ],
   "source": [
    "colors = [\"Violet\", \"Indigo\", \"Blue\", \"Green\", \"Orange\", \"Red\", \"Yellow\"]\n",
    "for color in colors:\n",
    "    print(color)"
   ]
  },
  {
   "cell_type": "code",
   "execution_count": 139,
   "metadata": {},
   "outputs": [
    {
     "name": "stdout",
     "output_type": "stream",
     "text": [
      "Violet\n",
      "Indigo\n",
      "Blue\n",
      "Green\n",
      "Orange\n",
      "Red\n",
      "Yellow\n"
     ]
    }
   ],
   "source": [
    "for index in range(len(colors)):\n",
    "    print(colors[index])"
   ]
  },
  {
   "cell_type": "code",
   "execution_count": 140,
   "metadata": {},
   "outputs": [
    {
     "name": "stdout",
     "output_type": "stream",
     "text": [
      "* \n",
      "* * \n",
      "* * * \n",
      "* * * * \n",
      "* * * * * \n"
     ]
    }
   ],
   "source": [
    "# star pattern one\n",
    "for i in range(5):\n",
    "    for j in range(i+1):\n",
    "        print(\"*\",end=\" \")\n",
    "    print()"
   ]
  },
  {
   "cell_type": "code",
   "execution_count": 141,
   "metadata": {},
   "outputs": [],
   "source": [
    "# star pattern two"
   ]
  },
  {
   "cell_type": "code",
   "execution_count": 142,
   "metadata": {},
   "outputs": [],
   "source": [
    "# star pattern three"
   ]
  },
  {
   "cell_type": "code",
   "execution_count": 143,
   "metadata": {},
   "outputs": [],
   "source": [
    "# star pattern four"
   ]
  },
  {
   "cell_type": "code",
   "execution_count": 144,
   "metadata": {},
   "outputs": [],
   "source": [
    "# star pattern five"
   ]
  },
  {
   "cell_type": "code",
   "execution_count": 145,
   "metadata": {},
   "outputs": [
    {
     "name": "stdout",
     "output_type": "stream",
     "text": [
      "16 \n",
      "16 8 \n",
      "16 8 4 \n",
      "16 8 4 2 \n",
      "16 8 4 2 1 \n"
     ]
    }
   ],
   "source": [
    "# Number pattern\n",
    "init_num = 16\n",
    "lines = 5\n",
    "for i in range(lines):\n",
    "    num = init_num\n",
    "    for j in range(i+1):\n",
    "        print(num, end=\" \")\n",
    "        num //= 2\n",
    "    print()"
   ]
  },
  {
   "cell_type": "code",
   "execution_count": 146,
   "metadata": {},
   "outputs": [
    {
     "name": "stdout",
     "output_type": "stream",
     "text": [
      "1\t2\t3\t4\t5\t6\t7\t8\t9\t\n",
      "2\t4\t6\t8\t10\t12\t14\t16\t18\t\n",
      "3\t6\t9\t12\t15\t18\t21\t24\t27\t\n",
      "4\t8\t12\t16\t20\t24\t28\t32\t36\t\n",
      "5\t10\t15\t20\t25\t30\t35\t40\t45\t\n",
      "6\t12\t18\t24\t30\t36\t42\t48\t54\t\n",
      "7\t14\t21\t28\t35\t42\t49\t56\t63\t\n",
      "8\t16\t24\t32\t40\t48\t56\t64\t72\t\n",
      "9\t18\t27\t36\t45\t54\t63\t72\t81\t\n"
     ]
    }
   ],
   "source": [
    "# Nested 'for' loop\n",
    "\n",
    "for i in range(1, 10):\n",
    "    for j in range(1, 10):\n",
    "        print(i*j, end=\"\\t\")\n",
    "    print()"
   ]
  },
  {
   "cell_type": "code",
   "execution_count": 147,
   "metadata": {},
   "outputs": [
    {
     "name": "stdout",
     "output_type": "stream",
     "text": [
      "List of Salaries : [50000, 30000, 80000, 100000, 120000]\n",
      "Salary of Ram is incremented by 69 %.\n",
      "New salaries is : [50000, 50700.0, 80000, 100000, 120000]\n"
     ]
    }
   ],
   "source": [
    "names = [\"Ravi\", \"Ram\", \"Siddarth\", \"Kumar\", \"Verma\"]\n",
    "salaries = [50000, 30000, 80000, 100000, 120000]\n",
    "\n",
    "print(\"List of Salaries :\", end=\" \")\n",
    "print(salaries)\n",
    "\n",
    "promot = input(\"Who to promote :\")\n",
    "hike = int(input(\"Percent of hike :\"))\n",
    "\n",
    "for i in range(len(names)):\n",
    "    if names[i] == promot:\n",
    "        percent = hike / 100\n",
    "        increment = salaries[i]*percent\n",
    "        salaries[i] += increment\n",
    "\n",
    "print(\"Salary of\", promot, \"is incremented by\", hike,\"%.\")\n",
    "print(\"New salaries is :\", salaries)"
   ]
  },
  {
   "cell_type": "code",
   "execution_count": 148,
   "metadata": {},
   "outputs": [
    {
     "name": "stdout",
     "output_type": "stream",
     "text": [
      "Hello, Time python\n",
      "Hello, Time python\n",
      "Hello, Time python\n",
      "Hello, Time python\n"
     ]
    }
   ],
   "source": [
    "import time \n",
    "\n",
    "start_time = time.time()\n",
    "duration = 10\n",
    "\n",
    "while time.time() - start_time < duration:\n",
    "    print(\"Hello, Time python\")\n",
    "    time.sleep(3)"
   ]
  },
  {
   "cell_type": "code",
   "execution_count": 149,
   "metadata": {},
   "outputs": [
    {
     "name": "stdout",
     "output_type": "stream",
     "text": [
      "['Ravi', 'Ram', 'Siddarth', 'Kumar', 'Verma']\n"
     ]
    }
   ],
   "source": [
    "names = [\"ravi\", \"ram\", \"siddarth\", \"kumar\", \"verma\"]\n",
    "for i in range(len(names)):\n",
    "    if not names[i][0].isupper():\n",
    "        names[i] = names[i].capitalize()\n",
    "print(names)"
   ]
  },
  {
   "cell_type": "code",
   "execution_count": 150,
   "metadata": {},
   "outputs": [
    {
     "name": "stdout",
     "output_type": "stream",
     "text": [
      "Even Numbers till 60 are [2, 4, 6, 8, 10, 12, 14, 16, 18, 20, 22, 24, 26, 28, 30, 32, 34, 36, 38, 40, 42, 44, 46, 48, 50, 52, 54, 56, 58, 60]\n"
     ]
    }
   ],
   "source": [
    "def print_even(x):\n",
    "    even_num = []\n",
    "    for i in range(1, x+1):\n",
    "        if i%2 == 0:\n",
    "            even_num.append(i)\n",
    "    print(f\"Even Numbers till\",x,\"are\",even_num)\n",
    "\n",
    "N = int(input(\"Enter the limit :\"))\n",
    "print_even(x=N)"
   ]
  },
  {
   "cell_type": "code",
   "execution_count": 151,
   "metadata": {},
   "outputs": [
    {
     "name": "stdout",
     "output_type": "stream",
     "text": [
      "7\n",
      "-116\n",
      "5\n"
     ]
    }
   ],
   "source": [
    "# Lambda Function\n",
    "# identifier = lambda argument : expression\n",
    "\n",
    "add = lambda x, y: x+y\n",
    "sub = lambda a, b: a-b\n",
    "mult = lambda p, q: p*q\n",
    "\n",
    "print(add(3,4))\n",
    "print(sub(5,121))\n",
    "print(add(3,2))"
   ]
  },
  {
   "cell_type": "code",
   "execution_count": 152,
   "metadata": {},
   "outputs": [
    {
     "name": "stdout",
     "output_type": "stream",
     "text": [
      "120\n"
     ]
    }
   ],
   "source": [
    "# Lambda Function for adding 2 user inputed numbers \n",
    "user_add = lambda: int(input(\"First Number :\")) + int(input(\"Second Number :\"))\n",
    "print(user_add())"
   ]
  },
  {
   "cell_type": "code",
   "execution_count": 153,
   "metadata": {},
   "outputs": [
    {
     "name": "stdout",
     "output_type": "stream",
     "text": [
      "even\n"
     ]
    }
   ],
   "source": [
    "# Lambda Function for finding the number is even or odd\n",
    "even_odd = lambda x : 'even' if x%2==0 else 'odd' \n",
    "print(even_odd(int(input())))"
   ]
  },
  {
   "cell_type": "code",
   "execution_count": 154,
   "metadata": {},
   "outputs": [
    {
     "name": "stdout",
     "output_type": "stream",
     "text": [
      "90\n"
     ]
    }
   ],
   "source": [
    "# Lambda Function for finding the largest number\n",
    "largestof2 = lambda x, y: x if x>y else y\n",
    "print(largestof2(int(input()), int(input())))"
   ]
  },
  {
   "cell_type": "code",
   "execution_count": 159,
   "metadata": {},
   "outputs": [
    {
     "name": "stdout",
     "output_type": "stream",
     "text": [
      "[169, 4, 118336, 25, 321489, 9]\n"
     ]
    }
   ],
   "source": [
    "# Lambda Function for manipulate list elements\n",
    "numbers = [13,2,344,5,567,3]\n",
    "square_list = lambda x : [i ** 2 for i in x]\n",
    "sq_numbers = square_list(numbers)\n",
    "print(sq_numbers)"
   ]
  },
  {
   "cell_type": "code",
   "execution_count": 158,
   "metadata": {},
   "outputs": [
    {
     "name": "stdout",
     "output_type": "stream",
     "text": [
      "{'Name': 'Rai', 'Number': 320}\n",
      "{'Name': 'Ravi', 'Number': 321}\n",
      "{'Name': 'Raju', 'Number': 322}\n",
      "{'Name': 'Kumar', 'Number': 328}\n",
      "{'Name': 'Darma', 'Number': 329}\n"
     ]
    }
   ],
   "source": [
    "# List of Dictionaries\n",
    "# Employee List\n",
    "employee_list = [\n",
    "    {'Name': 'Ravi', 'Number': 321},\n",
    "    {'Name': 'Kumar', 'Number': 328},\n",
    "    {'Name': 'Raju', 'Number': 322},\n",
    "    {'Name': 'Darma', 'Number': 329},\n",
    "    {'Name': 'Rai', 'Number': 320},\n",
    "]\n",
    "\n",
    "# Sort the list on key as Employee Number\n",
    "sorted_employee_list = sorted(employee_list, key=lambda x : x[\"Number\"])\n",
    "\n",
    "# Print the sorted list\n",
    "for employee in sorted_employee_list:\n",
    "    print(employee)"
   ]
  },
  {
   "cell_type": "code",
   "execution_count": 163,
   "metadata": {},
   "outputs": [
    {
     "data": {
      "text/plain": [
       "1"
      ]
     },
     "execution_count": 163,
     "metadata": {},
     "output_type": "execute_result"
    }
   ],
   "source": [
    "# Recursion\n",
    "\n",
    "# Factorial of the number\n",
    "def fact(x):\n",
    "    if x == 0:\n",
    "        return 1\n",
    "    elif x == 1:\n",
    "        return 1\n",
    "    elif x > 1:\n",
    "        return x * fact(x-1)\n",
    "    else:\n",
    "        return 0\n",
    "fact(int(input()))"
   ]
  },
  {
   "cell_type": "code",
   "execution_count": 171,
   "metadata": {},
   "outputs": [
    {
     "data": {
      "text/plain": [
       "4095"
      ]
     },
     "execution_count": 171,
     "metadata": {},
     "output_type": "execute_result"
    }
   ],
   "source": [
    "\n",
    "def recur_sum(x):\n",
    "    if x == 1:\n",
    "        return 1\n",
    "    elif x == 0:\n",
    "        return 0\n",
    "    elif x > 0:\n",
    "        return x + recur_sum(x-1)\n",
    "    else:\n",
    "        return 'Invade'\n",
    "\n",
    "recur_sum(int(input()))\n"
   ]
  },
  {
   "cell_type": "code",
   "execution_count": 175,
   "metadata": {},
   "outputs": [
    {
     "name": "stdout",
     "output_type": "stream",
     "text": [
      "0 1 1 2 3 5 8 13 21 "
     ]
    }
   ],
   "source": [
    "def fibonacci(x):\n",
    "    a,b = 0,1\n",
    "    for i in range(x):\n",
    "        print(a, end=\" \")\n",
    "        a, b = b, a+b\n",
    "\n",
    "fibonacci(9)"
   ]
  },
  {
   "cell_type": "code",
   "execution_count": null,
   "metadata": {},
   "outputs": [],
   "source": []
  },
  {
   "cell_type": "code",
   "execution_count": null,
   "metadata": {},
   "outputs": [],
   "source": []
  },
  {
   "cell_type": "code",
   "execution_count": null,
   "metadata": {},
   "outputs": [],
   "source": []
  },
  {
   "cell_type": "code",
   "execution_count": null,
   "metadata": {},
   "outputs": [],
   "source": []
  },
  {
   "cell_type": "code",
   "execution_count": null,
   "metadata": {},
   "outputs": [],
   "source": []
  },
  {
   "cell_type": "code",
   "execution_count": null,
   "metadata": {},
   "outputs": [],
   "source": []
  },
  {
   "cell_type": "code",
   "execution_count": null,
   "metadata": {},
   "outputs": [],
   "source": []
  },
  {
   "cell_type": "code",
   "execution_count": null,
   "metadata": {},
   "outputs": [],
   "source": []
  },
  {
   "cell_type": "code",
   "execution_count": null,
   "metadata": {},
   "outputs": [],
   "source": []
  },
  {
   "cell_type": "code",
   "execution_count": null,
   "metadata": {},
   "outputs": [],
   "source": []
  },
  {
   "cell_type": "code",
   "execution_count": null,
   "metadata": {},
   "outputs": [],
   "source": []
  }
 ],
 "metadata": {
  "kernelspec": {
   "display_name": "Python 3 (ipykernel)",
   "language": "python",
   "name": "python3"
  },
  "language_info": {
   "codemirror_mode": {
    "name": "ipython",
    "version": 3
   },
   "file_extension": ".py",
   "mimetype": "text/x-python",
   "name": "python",
   "nbconvert_exporter": "python",
   "pygments_lexer": "ipython3",
   "version": "3.11.3"
  },
  "orig_nbformat": 4
 },
 "nbformat": 4,
 "nbformat_minor": 2
}
