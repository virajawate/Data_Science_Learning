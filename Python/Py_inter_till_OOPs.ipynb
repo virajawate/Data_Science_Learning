{
 "cells": [
  {
   "cell_type": "code",
   "execution_count": 1,
   "metadata": {},
   "outputs": [
    {
     "name": "stdout",
     "output_type": "stream",
     "text": [
      "Run time Error....\n"
     ]
    }
   ],
   "source": [
    "# Exception Handling\n",
    "\"\"\"\n",
    "Mechanism for handling runtime errors (known as exceptions).\n",
    "Can process blocks of code to check for runtime error occurance.\n",
    "We use 'try' and 'except' code blocks.\n",
    "\"\"\"\n",
    "\n",
    "try:\n",
    "    print(A, \"is good,,,,\")\n",
    "except:\n",
    "    print(\"Run time Error....\")"
   ]
  },
  {
   "cell_type": "code",
   "execution_count": 6,
   "metadata": {},
   "outputs": [
    {
     "name": "stdout",
     "output_type": "stream",
     "text": [
      "0.06153846153846154\n"
     ]
    }
   ],
   "source": [
    "# Zero Division Error\n",
    "n = int(input(\"numerator\"))\n",
    "d = int(input(\"denominator\"))\n",
    "try:\n",
    "    div = n/d\n",
    "    print(div)\n",
    "except:\n",
    "    print(\"Denominator not valid\")"
   ]
  },
  {
   "cell_type": "code",
   "execution_count": 13,
   "metadata": {},
   "outputs": [
    {
     "name": "stdout",
     "output_type": "stream",
     "text": [
      "0.930232558139535\n"
     ]
    }
   ],
   "source": [
    "# Value Error\n",
    "n = int(input(\"numerator\"))\n",
    "d = int(input(\"denominator\"))\n",
    "try:\n",
    "    div = n/d\n",
    "    print(div)\n",
    "except ValueError:\n",
    "    print(\"Denominator not valid...\")\n",
    "except ZeroDivisionError:\n",
    "    print(\"Divided Zero in the fraction...\")"
   ]
  },
  {
   "cell_type": "code",
   "execution_count": 17,
   "metadata": {},
   "outputs": [
    {
     "name": "stdout",
     "output_type": "stream",
     "text": [
      "Error...Data-type NOT MATCH.\n"
     ]
    }
   ],
   "source": [
    "# Type Error\n",
    "try:\n",
    "    x = \"10\"\n",
    "    y = 2\n",
    "    \n",
    "    z = x + y\n",
    "    print(\"Result\", z)\n",
    "except TypeError:\n",
    "    print(\"Error...Data-type NOT MATCH.\")"
   ]
  },
  {
   "cell_type": "code",
   "execution_count": 19,
   "metadata": {},
   "outputs": [
    {
     "name": "stdout",
     "output_type": "stream",
     "text": [
      "2 4\n",
      "Index out of limit\n"
     ]
    }
   ],
   "source": [
    "# Index Error\n",
    "try:\n",
    "    list1 = [1, 2, 4]\n",
    "    print(2, list1[2])\n",
    "    print(3, list1[3])\n",
    "except IndexError:\n",
    "    print(\"Index out of limit\")"
   ]
  },
  {
   "cell_type": "code",
   "execution_count": 21,
   "metadata": {},
   "outputs": [
    {
     "name": "stdout",
     "output_type": "stream",
     "text": [
      "Ravi\n",
      "Key not of bound....\n"
     ]
    }
   ],
   "source": [
    "# Key Error\n",
    "try:\n",
    "    dict = {\"name\" : \"Ravi\", \"Age\" : 43}\n",
    "    print(dict[\"name\"])\n",
    "    print(dict[\"Number\"])\n",
    "except KeyError:\n",
    "    print(\"Key not of bound....\")"
   ]
  },
  {
   "cell_type": "code",
   "execution_count": 27,
   "metadata": {},
   "outputs": [
    {
     "name": "stdout",
     "output_type": "stream",
     "text": [
      "This is the HelloWorld....\n"
     ]
    }
   ],
   "source": [
    "# FileNotFound Error\n",
    "try:\n",
    "    file_loc = \"file_text.txt\"\n",
    "    with open(file_loc, \"r\") as file:\n",
    "        content = file.read()\n",
    "        print(content)\n",
    "except:\n",
    "    print(f'File not found in the location : {file_loc}')"
   ]
  },
  {
   "cell_type": "code",
   "execution_count": 23,
   "metadata": {},
   "outputs": [
    {
     "data": {
      "text/plain": [
       "'c:\\\\Users\\\\viraj\\\\Documents\\\\Viraj-Doc\\\\Mtech\\\\Coding\\\\Python\\\\Learning_DS'"
      ]
     },
     "execution_count": 23,
     "metadata": {},
     "output_type": "execute_result"
    }
   ],
   "source": [
    "pwd"
   ]
  },
  {
   "cell_type": "code",
   "execution_count": 24,
   "metadata": {},
   "outputs": [],
   "source": [
    "# I/o Error\n",
    "try:\n",
    "    file_loc = \"file_text.txt\"\n",
    "\n",
    "    with open(file_loc, \"w\") as file:\n",
    "        file.write(\"This is the HelloWorld....\")\n",
    "\n",
    "except IOError:\n",
    "    print(f'File not in the location : {file_loc}')"
   ]
  },
  {
   "cell_type": "code",
   "execution_count": 28,
   "metadata": {},
   "outputs": [
    {
     "name": "stdout",
     "output_type": "stream",
     "text": [
      "Library Not FOund\n"
     ]
    }
   ],
   "source": [
    "# Import Error\n",
    "try:\n",
    "    import exception_lib\n",
    "except ImportError:\n",
    "    print(\"Library Not FOund\")"
   ]
  },
  {
   "cell_type": "code",
   "execution_count": 29,
   "metadata": {},
   "outputs": [
    {
     "name": "stdout",
     "output_type": "stream",
     "text": [
      "Insufficient memory for operation....\n"
     ]
    }
   ],
   "source": [
    "# Memory Error\n",
    "try:\n",
    "    large = [1] * (10 ** 12)\n",
    "    \"\"\"\n",
    "    The phrase [1] * (10 ** 12) generates a list\n",
    "    by repeatedly repeating the element [1].\n",
    "    \"\"\"\n",
    "except MemoryError:\n",
    "    print(\"Insufficient memory for operation....\")"
   ]
  },
  {
   "cell_type": "code",
   "execution_count": 35,
   "metadata": {},
   "outputs": [
    {
     "name": "stdout",
     "output_type": "stream",
     "text": [
      "55386674463439018090090274801154348524257129278744299597641593845563798089082108260533680241518614454587315288973519761101361292444327091973627419076319677517394936494292733467170530698249650894225563607830911514410461777813004513485517246400679835590281508824862755304045427326594254076420240644170541605455608718691610721133403182013031520409098878176020291363689474346539184807226278734144559467846194177365440932885623640951887965203239925322107559656641282073446082727584359985540412564084027584411486239300474916958928928005939538409532082668786503335587140648406934152705667410985027891171959226618064971572123564175360383207722553548694550763645653131781492581064359076431946094240756252908437604728951723269775214863276073804375555492822009099376933854711164400312147716328905991438327943786208363343434926684416552689071977511048316955566406250000000000000000000000000000000000000000000000000000000000000000000000000000000000000000000000000000000000000000000000000000000000000000000000000000000000000000000000000000000000000000000000000000000000000000000000000000000000000000000000000000000000000000000000000000000000000000000000000000000000000000000000000000000000000000000000000000000000000000000000000000000000000000000000000000000000000000000000000000000000000000000000000000000000000000000000000000000000000000000000000000000000000000000000000000000000000000000000000000000000000000000000000000000000000000000000000000000000000000000000000000000000000000000000000000000000000000000000000000000000000000000000000000000000000000000000000000000000000000000000000000000000000000000000000000000000000000000000000000000000000000000000000000000000000000000000000000000000000000000000000000000000000000000000000000000000000000000000000000000000000000000000000000000000000000000000000000000000000000000000000000000000000000000000000000000000000000000000000000000000000000000000000000000000000000000000000000000000000000000000000000000000000000000000000000000000000000000000000000000000000000000000000000000000000000000000000000000000000000000000000000000000000000000000000000000000000000000000000000000000000000000000000000000000000000000000000000000000000000000000000000000000000000000000000000000000000000000000000000000000000000000000000000000000000000000000000000000000000000000000000000000000000000000000000000000000000000000000000000000000000000000000000000000000000000000000000000000000000000000000000000000000000000000000000000000000000000000000000000000000000000000000000000000000000000000000000000000000000000000000000000000000000000000000000000000000000000000000000000000000000000000000000000000000000000000000000000000000000000000000000000000000000000000000000000000000000000000000000000000000000000000000000000000000000000000000000000000000000000000000000000000000000000000000000000000000000000000000000000000000000000000000000000000000000000000000000000000000000000000000000000000000000000000000000000000000000000000000000000000000000000000000000000000000000000000000000000000000000000000000000000000000000000000000000000000000000000000000000000000000000000000000000000000000000000000000000000000000000000000000000000000000000000000000000000000000000000000000000000000000000000000000000000000000000000000000000000000000000000000000000000000000000000000000000000000000000000\n"
     ]
    }
   ],
   "source": [
    "# Overflow Error\n",
    "\n",
    "\"\"\"\n",
    "Raising the computation till the meomory overflow....\n",
    "\"\"\"\n",
    "try:\n",
    "    result = 500 ** 1220\n",
    "except OverflowError:\n",
    "    print(\"Memory Overflow due to Calculations...\")\n",
    "else:\n",
    "    print(result)\n"
   ]
  },
  {
   "cell_type": "code",
   "execution_count": 36,
   "metadata": {},
   "outputs": [
    {
     "name": "stdout",
     "output_type": "stream",
     "text": [
      "'age' object has no attribute....\n"
     ]
    }
   ],
   "source": [
    "# Attribute Error\n",
    "try:\n",
    "    age = 20\n",
    "    age.append(32)\n",
    "except:\n",
    "    print(\"'age' object has no attribute....\")\n",
    "else:\n",
    "    print(age)\n"
   ]
  },
  {
   "cell_type": "code",
   "execution_count": 40,
   "metadata": {},
   "outputs": [
    {
     "ename": "SyntaxError",
     "evalue": "invalid syntax. Perhaps you forgot a comma? (2726305667.py, line 3)",
     "output_type": "error",
     "traceback": [
      "\u001b[1;36m  Cell \u001b[1;32mIn[40], line 3\u001b[1;36m\u001b[0m\n\u001b[1;33m    print(Hello Error WOrld)\u001b[0m\n\u001b[1;37m          ^\u001b[0m\n\u001b[1;31mSyntaxError\u001b[0m\u001b[1;31m:\u001b[0m invalid syntax. Perhaps you forgot a comma?\n"
     ]
    }
   ],
   "source": [
    "# Syntax Error\n",
    "try:\n",
    "    print(Hello Error WOrld)\n",
    "except SyntaxError:\n",
    "    print(\"Syntax Error....\")"
   ]
  },
  {
   "cell_type": "code",
   "execution_count": 49,
   "metadata": {},
   "outputs": [
    {
     "ename": "IndentationError",
     "evalue": "unexpected indent (2477374630.py, line 4)",
     "output_type": "error",
     "traceback": [
      "\u001b[1;36m  Cell \u001b[1;32mIn[49], line 4\u001b[1;36m\u001b[0m\n\u001b[1;33m    age = 23\u001b[0m\n\u001b[1;37m    ^\u001b[0m\n\u001b[1;31mIndentationError\u001b[0m\u001b[1;31m:\u001b[0m unexpected indent\n"
     ]
    }
   ],
   "source": [
    "# Indentation Error\n",
    "try:\n",
    "     name = \"Viraj\"\n",
    "         age = 23\n",
    "except IndentationError:\n",
    "    print(\"There is the indentationError....\")"
   ]
  },
  {
   "cell_type": "code",
   "execution_count": 50,
   "metadata": {},
   "outputs": [
    {
     "name": "stdout",
     "output_type": "stream",
     "text": [
      "NameError\n"
     ]
    }
   ],
   "source": [
    "# Name Error\n",
    "try:\n",
    "    side = 3\n",
    "    print(sides)\n",
    "except NameError:\n",
    "    print(\"NameError\")"
   ]
  },
  {
   "cell_type": "code",
   "execution_count": 51,
   "metadata": {},
   "outputs": [],
   "source": [
    "def quiz_on_exception():\n",
    "    # Quiz Questions\n",
    "    quiz_data = [\n",
    "        {\n",
    "            \"question\": \"Which keyword is used for exception handling?\",\n",
    "            \"options\": ['a) raise', 'b) try', 'c) handle', 'd) exception'],\n",
    "            \"answer\": 'b'\n",
    "        },\n",
    "        {\n",
    "            \"question\": \"What is the purpose of the 'finally' clause in Python exception handling?\",\n",
    "            \"options\": ['a) It executes no matter what', 'b) It is executed if an exception occurs', 'c) It is executed if no exception', 'd) None of the above'],\n",
    "            \"answer\": 'a'\n",
    "        },\n",
    "        {\n",
    "            \"question\": \"Which built-in exception is raised when a function or operation is not implemented yet?\",\n",
    "            \"options\": ['a) NotImplementedError', 'b) ArithmeticError', 'c) BufferError', 'd) AssertionError'],\n",
    "            \"answer\": 'a'\n",
    "        },\n",
    "        {\n",
    "            \"question\": \"Which of the following exceptions is NOT raised by Python built-in operations?\",\n",
    "            \"options\": ['a) IOError', 'b) FileNotFoundError', 'c) KeyNotFoundError', 'd) ZeroDivisionError'],\n",
    "            \"answer\": 'c'\n",
    "        },\n",
    "        {\n",
    "            \"question\": \"What exception is raised when a local or global name is not found?\",\n",
    "            \"options\": ['a) AttributeError', 'b) KeyError', 'c) ImportError', 'd) NameError'],\n",
    "            \"answer\": 'd'\n",
    "        },\n",
    "        {\n",
    "            \"question\": \"What exception is raised when the parser encounters a syntax error?\",\n",
    "            \"options\": ['a) AttributeError', 'b) SyntaxError', 'c) IndentationError', 'd) ValueError'],\n",
    "            \"answer\": 'b'\n",
    "        },\n",
    "        {\n",
    "            \"question\": \"What exception is raised when there is incorrect indentation?\",\n",
    "            \"options\": ['a) IndentationError', 'b) ValueError', 'c) SyntaxError', 'd) TypeError'],\n",
    "            \"answer\": 'a'\n",
    "        },\n",
    "        {\n",
    "            \"question\": \"What exception is raised when an operation or function receives an argument of the right type but an inappropriate value?\",\n",
    "            \"options\": ['a) ValueError', 'b) TypeError', 'c) IndexError', 'd) KeyError'],\n",
    "            \"answer\": 'a'\n",
    "        },\n",
    "        {\n",
    "            \"question\": \"What exception is raised when a sequence subscript is out of range?\",\n",
    "            \"options\": ['a) KeyError', 'b) ValueError', 'c) TypeError', 'd) IndexError'],\n",
    "            \"answer\": 'd'\n",
    "        },\n",
    "        {\n",
    "            \"question\": \"What exception is raised when an import statement fails to find the module definition or when a from ... import fails to find a name that is to be imported?\",\n",
    "            \"options\": ['a) ImportError', 'b) ValueError', 'c) FileNotFoundError', 'd) AttributeError'],\n",
    "            \"answer\": 'a'\n",
    "        },\n",
    "        {\n",
    "            \"question\": \"What exception is raised when an operation runs out of memory?\",\n",
    "            \"options\": ['a) MemoryError', 'b) BufferError', 'c) OverflowError', 'd) ArithmeticError'],\n",
    "            \"answer\": 'a'\n",
    "        },\n",
    "        {\n",
    "            \"question\": \"What exception is raised when the result of an arithmetic operation is too large to be expressed by the normal number format?\",\n",
    "            \"options\": ['a) OverflowError', 'b) MemoryError', 'c) IndexError', 'd) ArithmeticError'],\n",
    "            \"answer\": 'a'\n",
    "        },\n",
    "        {\n",
    "            \"question\": \"What exception is raised when an attribute reference or assignment fails?\",\n",
    "            \"options\": ['a) AttributeError', 'b) KeyError', 'c) ImportError', 'd) NameError'],\n",
    "            \"answer\": 'a'\n",
    "        },\n",
    "        {\n",
    "            \"question\": \"What exception is raised when a file or directory is requested but doesn’t exist?\",\n",
    "            \"options\": ['a) FileNotFoundError', 'b) IOError', 'c) ImportError', 'd) KeyError'],\n",
    "            \"answer\": 'a'\n",
    "        },\n",
    "        {\n",
    "            \"question\": \"What exception is raised when a dictionary key is not found?\",\n",
    "            \"options\": ['a) KeyError', 'b) ValueError', 'c) IndexError', 'd) FileNotFoundError'],\n",
    "            \"answer\": 'a'\n",
    "        },\n",
    "    ]\n",
    "\n",
    "    def ask_question(question_data):\n",
    "        print(question_data[\"question\"])\n",
    "        for option in question_data[\"options\"]:\n",
    "            print(option)\n",
    "        while True:\n",
    "            try:\n",
    "                user_answer = input(\"Enter your answer: \")\n",
    "                if user_answer in ['a', 'b', 'c', 'd']:\n",
    "                    correct = user_answer == question_data[\"answer\"]\n",
    "                    if not correct:\n",
    "                        print(f\"Incorrect.\")\n",
    "                    return user_answer, question_data[\"answer\"], correct\n",
    "                else:\n",
    "                    raise ValueError(\"Invalid option. Please enter a, b, c, or d.\")\n",
    "            except ValueError as e:\n",
    "                print(e)\n",
    "\n",
    "    score = 0\n",
    "    all_answers = []  # a list to store all the user's answers and correct answers\n",
    "\n",
    "    for question_data in quiz_data:\n",
    "        user_answer, correct_answer, correct = ask_question(question_data)\n",
    "        all_answers.append((question_data[\"question\"], user_answer, correct_answer, correct))\n",
    "        if correct:\n",
    "            print(\"Correct!\")\n",
    "            score += 1\n",
    "\n",
    "    print(\"\\n\"+\"-\"*30+\"\\nQuiz Results\\n\"+\"-\"*30)\n",
    "    for item in all_answers:\n",
    "        print(f\"Question: {item[0]}\\nYour Answer: {item[1]}\\nCorrect Answer: {item[2]}\\n{'Correct' if item[3] else 'Incorrect'}\")\n",
    "        print(\"-\"*30)\n",
    "    print(f\"You scored {score}/{len(quiz_data)}.\")\n"
   ]
  },
  {
   "cell_type": "code",
   "execution_count": null,
   "metadata": {},
   "outputs": [],
   "source": [
    "# Quiz in exceptions\n",
    "quiz_on_exception()"
   ]
  },
  {
   "cell_type": "code",
   "execution_count": null,
   "metadata": {},
   "outputs": [],
   "source": []
  },
  {
   "cell_type": "code",
   "execution_count": null,
   "metadata": {},
   "outputs": [],
   "source": []
  },
  {
   "cell_type": "code",
   "execution_count": null,
   "metadata": {},
   "outputs": [],
   "source": []
  },
  {
   "cell_type": "code",
   "execution_count": null,
   "metadata": {},
   "outputs": [],
   "source": []
  }
 ],
 "metadata": {
  "kernelspec": {
   "display_name": "Python 3 (ipykernel)",
   "language": "python",
   "name": "python3"
  },
  "language_info": {
   "codemirror_mode": {
    "name": "ipython",
    "version": 3
   },
   "file_extension": ".py",
   "mimetype": "text/x-python",
   "name": "python",
   "nbconvert_exporter": "python",
   "pygments_lexer": "ipython3",
   "version": "3.11.4"
  },
  "orig_nbformat": 4
 },
 "nbformat": 4,
 "nbformat_minor": 2
}
