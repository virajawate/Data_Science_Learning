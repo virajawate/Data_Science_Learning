{
 "cells": [
  {
   "cell_type": "markdown",
   "metadata": {},
   "source": [
    "# OOPS"
   ]
  },
  {
   "cell_type": "code",
   "execution_count": 1,
   "metadata": {},
   "outputs": [],
   "source": [
    "class person:\n",
    "    def __init__(self, name):\n",
    "        self.name = name\n",
    "\n",
    "    def display_name(self):\n",
    "        print(f\"Name is : {self.name}\")"
   ]
  },
  {
   "cell_type": "code",
   "execution_count": 2,
   "metadata": {},
   "outputs": [
    {
     "name": "stdout",
     "output_type": "stream",
     "text": [
      "Name is : Viraj\n"
     ]
    }
   ],
   "source": [
    "First = person(\"Viraj\")\n",
    "First.display_name()"
   ]
  },
  {
   "cell_type": "code",
   "execution_count": 3,
   "metadata": {},
   "outputs": [],
   "source": [
    "person1 = person(\"Sha\")"
   ]
  },
  {
   "cell_type": "code",
   "execution_count": 4,
   "metadata": {},
   "outputs": [],
   "source": [
    "class Employee:\n",
    "    \"\"\"\n",
    "    Class of Employee data\n",
    "\n",
    "    parameters: \n",
    "    str Name\n",
    "    int Number\n",
    "    int Salary\n",
    "\n",
    "    returns:\n",
    "    Incrementing function: Incremented Salary\n",
    "    Promoting function   : Promotes Employee Number\n",
    "\n",
    "    \"\"\"\n",
    "\n",
    "    # Constructor Function\n",
    "    def __init__(self, Name, Number, Salary):\n",
    "        self.person = Name\n",
    "        self.emp_num = Number\n",
    "        self.ctc = Salary\n",
    "\n",
    "    # Getting the Information\n",
    "    def display_info(self):\n",
    "        print(self.person, \"is with employee number \",\n",
    "              self.emp_num, \"with package\", self.ctc)\n",
    "\n",
    "    # Function to increment the salary\n",
    "    def increment(self):\n",
    "        self.ctc += 1000\n",
    "\n",
    "    # Function to promote the employee number\n",
    "    def promote(self):\n",
    "        self.emp_num += 100"
   ]
  },
  {
   "cell_type": "code",
   "execution_count": 5,
   "metadata": {},
   "outputs": [
    {
     "name": "stdout",
     "output_type": "stream",
     "text": [
      "Viraj is with employee number  2344 with package 40000\n",
      "Got increment....\n",
      "Viraj is with employee number  2344 with package 41000\n",
      "Got Promoted....\n",
      "Viraj is with employee number  2444 with package 41000\n"
     ]
    }
   ],
   "source": [
    "emp1 = Employee(\"Viraj\", 2344, 40000)\n",
    "emp1.display_info()\n",
    "print(\"Got increment....\")\n",
    "emp1.increment()\n",
    "emp1.display_info()\n",
    "print(\"Got Promoted....\")\n",
    "emp1.promote()\n",
    "emp1.display_info()"
   ]
  },
  {
   "cell_type": "code",
   "execution_count": 6,
   "metadata": {},
   "outputs": [
    {
     "name": "stdout",
     "output_type": "stream",
     "text": [
      "\n",
      "    Class of Employee data\n",
      "\n",
      "    parameters: \n",
      "    str Name\n",
      "    int Number\n",
      "    int Salary\n",
      "\n",
      "    returns:\n",
      "    Incrementing function: Incremented Salary\n",
      "    Promoting function   : Promotes Employee Number\n",
      "\n",
      "    \n"
     ]
    }
   ],
   "source": [
    "print(emp1.__doc__)"
   ]
  },
  {
   "cell_type": "code",
   "execution_count": 7,
   "metadata": {},
   "outputs": [],
   "source": [
    "class ATM:\n",
    "    def register(self, Name, Deposite, Type, password):\n",
    "        self.Acc_name = Name\n",
    "        self.Acc_balance = Deposite\n",
    "        self.Acc_type = Type\n",
    "        self.Acc_key = password\n",
    "    \n",
    "    def check_balance(self, code):\n",
    "        if code == self.Acc_key:\n",
    "            print(f\"Your Balance is {self.Acc_balance}....\")\n",
    "        else:\n",
    "            print(\"Invalide Password....\")\n",
    "    \n",
    "    def withdraw_(self, code, amount):\n",
    "        if code == self.Acc_key and amount < self.Acc_balance:\n",
    "            print(\"Amount is being withdrawn....\")\n",
    "            self.Acc_balance -= amount\n",
    "            print(\"Withdrawal completed....\")\n",
    "        elif amount > self.Acc_balance:\n",
    "            print(\"Insufficient Balance....\")\n",
    "        else:\n",
    "            print(\"Invalide Password....\")\n",
    "    \n",
    "    def ministatement(self, code):\n",
    "        if code == self.Acc_key:\n",
    "            print(f\" Name = {self.Acc_name} \\n Balance = {self.Acc_balance} \\n Account Type = {self.Acc_type} \\n Thank you for banking.\")\n",
    "        else:\n",
    "            print(\"Invalide Password....\")\n",
    "    \n",
    "    def deposite_(self, code, amount):\n",
    "        if code == self.Acc_key:\n",
    "            print(\"Amount is being deposited....\")\n",
    "            self.Acc_balance += amount\n",
    "            print(\"Deposition completed....\")\n",
    "            self.ministatement(code)\n",
    "        else:\n",
    "            print(\"Invalide Password....\")\n"
   ]
  },
  {
   "cell_type": "code",
   "execution_count": 8,
   "metadata": {},
   "outputs": [],
   "source": [
    "person = ATM()"
   ]
  },
  {
   "cell_type": "code",
   "execution_count": 9,
   "metadata": {},
   "outputs": [],
   "source": [
    "person.register(\"Ramma\", 40000, 1, 123)"
   ]
  },
  {
   "cell_type": "code",
   "execution_count": 10,
   "metadata": {},
   "outputs": [
    {
     "name": "stdout",
     "output_type": "stream",
     "text": [
      "Your Balance is 40000....\n"
     ]
    }
   ],
   "source": [
    "person.check_balance(123)"
   ]
  },
  {
   "cell_type": "code",
   "execution_count": 11,
   "metadata": {},
   "outputs": [
    {
     "name": "stdout",
     "output_type": "stream",
     "text": [
      "Amount is being withdrawn....\n",
      "Withdrawal completed....\n"
     ]
    }
   ],
   "source": [
    "person.withdraw_(123, 21000)"
   ]
  },
  {
   "cell_type": "code",
   "execution_count": 12,
   "metadata": {},
   "outputs": [
    {
     "name": "stdout",
     "output_type": "stream",
     "text": [
      " Name = Ramma \n",
      " Balance = 19000 \n",
      " Account Type = 1 \n",
      " Thank you for banking.\n"
     ]
    }
   ],
   "source": [
    "person.ministatement(123)"
   ]
  },
  {
   "cell_type": "code",
   "execution_count": 13,
   "metadata": {},
   "outputs": [
    {
     "name": "stdout",
     "output_type": "stream",
     "text": [
      "Amount is being deposited....\n",
      "Deposition completed....\n",
      " Name = Ramma \n",
      " Balance = 51990 \n",
      " Account Type = 1 \n",
      " Thank you for banking.\n"
     ]
    }
   ],
   "source": [
    "person.deposite_(123, 32990)"
   ]
  },
  {
   "cell_type": "code",
   "execution_count": 14,
   "metadata": {},
   "outputs": [
    {
     "name": "stdout",
     "output_type": "stream",
     "text": [
      "Insufficient Balance....\n"
     ]
    }
   ],
   "source": [
    "person.withdraw_(123, 212121123)"
   ]
  },
  {
   "cell_type": "code",
   "execution_count": 15,
   "metadata": {},
   "outputs": [],
   "source": [
    "class ToDoList:\n",
    "    def __init__(self, owner):\n",
    "        self.name = owner\n",
    "        self.tasks = []\n",
    "\n",
    "    def add_task(self, task):\n",
    "        self.tasks.append(task)\n",
    "    \n",
    "    def completed_task(self, task):\n",
    "        if task in self.tasks:\n",
    "            self.tasks.remove(task)\n",
    "            print(f\"Task {task} successfully completed....\")\n",
    "        else:\n",
    "            print(f\"Task {task} not in the task list {self.tasks}\")\n",
    "    \n",
    "    def display_list(self):\n",
    "        print(f\"The ToDo list of {self.name} is - \")\n",
    "        for t in self.tasks:\n",
    "            print(t)"
   ]
  },
  {
   "cell_type": "code",
   "execution_count": 16,
   "metadata": {},
   "outputs": [],
   "source": [
    "veer = ToDoList(\"Veer\")\n",
    "veer.add_task(\"Bannans&Fruits\")\n",
    "veer.add_task(\"Take out Money\")\n",
    "veer.add_task(\"Water Plants\")\n",
    "veer.add_task(\"Write Code\")"
   ]
  },
  {
   "cell_type": "code",
   "execution_count": 17,
   "metadata": {},
   "outputs": [
    {
     "name": "stdout",
     "output_type": "stream",
     "text": [
      "The ToDo list of Veer is - \n",
      "Bannans&Fruits\n",
      "Take out Money\n",
      "Water Plants\n",
      "Write Code\n"
     ]
    }
   ],
   "source": [
    "veer.display_list()"
   ]
  },
  {
   "cell_type": "code",
   "execution_count": 18,
   "metadata": {},
   "outputs": [
    {
     "name": "stdout",
     "output_type": "stream",
     "text": [
      "Task Write Code successfully completed....\n"
     ]
    }
   ],
   "source": [
    "veer.completed_task(\"Write Code\")"
   ]
  },
  {
   "cell_type": "code",
   "execution_count": 19,
   "metadata": {},
   "outputs": [
    {
     "name": "stdout",
     "output_type": "stream",
     "text": [
      "The ToDo list of Veer is - \n",
      "Bannans&Fruits\n",
      "Take out Money\n",
      "Water Plants\n"
     ]
    }
   ],
   "source": [
    "veer.display_list()"
   ]
  },
  {
   "cell_type": "markdown",
   "metadata": {},
   "source": [
    "## Inheritance"
   ]
  },
  {
   "cell_type": "code",
   "execution_count": 20,
   "metadata": {},
   "outputs": [],
   "source": [
    "class Bottle:\n",
    "    def __init__(self, main_dia, main_len, cap_dia, cap_len):\n",
    "        self.Bot_dia = main_dia\n",
    "        self.Bot_len = main_len\n",
    "        self.cap_len = cap_len\n",
    "        self.cap_dia = cap_dia\n",
    "\n",
    "    def show_feature(show):\n",
    "        print(f\"Bottle features are := \\nlength = {show.Bot_len} \\ndiameter = {show.Bot_dia} \\nCap diameter = {show.cap_dia} \\nCap Length = {show.cap_len}\\n\", end=\" \")"
   ]
  },
  {
   "cell_type": "code",
   "execution_count": 21,
   "metadata": {},
   "outputs": [],
   "source": [
    "class water_bottle(Bottle):\n",
    "    def __init__(self, main_dia, main_len, cap_dia, cap_len, type):\n",
    "        super().__init__(main_dia, main_len, cap_dia, cap_len)\n",
    "        self.type = type\n",
    "    \n",
    "    def show_feature(show):\n",
    "        super().show_feature()\n",
    "        print(f\"Type = {show.type}\")\n",
    "\n",
    "class butter_bottle(Bottle):\n",
    "    def __init__(self, main_dia, main_len, cap_dia, cap_len, material, size):\n",
    "        super().__init__(main_dia, main_len, cap_dia, cap_len)\n",
    "        self.material = material\n",
    "        self.size = size\n",
    "    \n",
    "    def show_feature(show):\n",
    "        super().show_feature()\n",
    "        print(f\"Material = {show.material}\\n Size = {show.size}\", end=\"\\n\")"
   ]
  },
  {
   "cell_type": "code",
   "execution_count": 22,
   "metadata": {},
   "outputs": [
    {
     "name": "stdout",
     "output_type": "stream",
     "text": [
      "Bottle features are := \n",
      "length = 23 \n",
      "diameter = 32 \n",
      "Cap diameter = 2 \n",
      "Cap Length = 5\n",
      " Type = Tapperware\n"
     ]
    }
   ],
   "source": [
    "school_bottle = water_bottle(32, 23, 2, 5, \"Tapperware\")\n",
    "school_bottle.show_feature()"
   ]
  },
  {
   "cell_type": "code",
   "execution_count": 23,
   "metadata": {},
   "outputs": [
    {
     "name": "stdout",
     "output_type": "stream",
     "text": [
      "Bottle features are := \n",
      "length = 15 \n",
      "diameter = 30 \n",
      "Cap diameter = 30 \n",
      "Cap Length = 5\n",
      " Material = Plastic\n",
      " Size = M\n",
      "Bottle features are := \n",
      "length = 12 \n",
      "diameter = 25 \n",
      "Cap diameter = 25 \n",
      "Cap Length = 5\n",
      " Material = Glass\n",
      " Size = L\n"
     ]
    }
   ],
   "source": [
    "Peanut_butter = butter_bottle(30, 15, 30, 5, \"Plastic\", \"M\")\n",
    "White_butter = butter_bottle(25, 12, 25, 5, \"Glass\", \"L\")\n",
    "Peanut_butter.show_feature()\n",
    "White_butter.show_feature()"
   ]
  },
  {
   "cell_type": "code",
   "execution_count": 24,
   "metadata": {},
   "outputs": [
    {
     "data": {
      "text/plain": [
       "['__class__',\n",
       " '__delattr__',\n",
       " '__dict__',\n",
       " '__dir__',\n",
       " '__doc__',\n",
       " '__eq__',\n",
       " '__format__',\n",
       " '__ge__',\n",
       " '__getattribute__',\n",
       " '__getstate__',\n",
       " '__gt__',\n",
       " '__hash__',\n",
       " '__init__',\n",
       " '__init_subclass__',\n",
       " '__le__',\n",
       " '__lt__',\n",
       " '__module__',\n",
       " '__ne__',\n",
       " '__new__',\n",
       " '__reduce__',\n",
       " '__reduce_ex__',\n",
       " '__repr__',\n",
       " '__setattr__',\n",
       " '__sizeof__',\n",
       " '__str__',\n",
       " '__subclasshook__',\n",
       " '__weakref__',\n",
       " 'show_feature']"
      ]
     },
     "execution_count": 24,
     "metadata": {},
     "output_type": "execute_result"
    }
   ],
   "source": [
    "dir(Bottle)"
   ]
  },
  {
   "cell_type": "code",
   "execution_count": 2,
   "metadata": {},
   "outputs": [],
   "source": [
    "class School:\n",
    "    def __init__(self, name, dob):\n",
    "        self.__name = name\n",
    "        self.__dob = dob\n",
    "    \n",
    "    def show_info(show):\n",
    "        print(f\"The name is : {show.__name}\")\n",
    "        print(f\"Date of birth : {show.__dob}\")\n",
    "    \n",
    "    def change_name(change, name):\n",
    "        change.__name = name\n",
    "        print(f\"Name has been changed to : {change.__name}\")\n",
    "    \n",
    "    def change_dob(change, date):\n",
    "        change.__dob = date\n",
    "        print(f\"Date of birth changed to : {change.__dob}\")\n",
    "\n",
    "class Employee(School):\n",
    "    def __init__(self, name, dob, post, domain, salary):\n",
    "        super().__init__(name, dob)\n",
    "        self.designation = post\n",
    "        self._field = domain\n",
    "        self.__package = salary\n",
    "    \n",
    "    def show_info(show):\n",
    "        super().show_info()\n",
    "        print(f\"Domain is : {show.designation}\")\n",
    "        print(f\"From Domain : {show._field}\")\n",
    "\n",
    "class Student(School):\n",
    "    def __init__(self, name, dob, std, gpa):\n",
    "        super().__init__(name, dob)\n",
    "        self.std = std\n",
    "        self.__marks = gpa\n",
    "    \n",
    "    def show_info(show):\n",
    "        super().show_info()\n",
    "        print(f\"Student of : {show.std}\")\n",
    "        print(f\"Marks : {show.__marks}\")\n",
    "\n",
    "\n"
   ]
  },
  {
   "cell_type": "code",
   "execution_count": 3,
   "metadata": {},
   "outputs": [],
   "source": [
    "abvp = School(\"ADAS COLLEGE\", \"31-12\")\n",
    "principle = Employee(\"Viraj\", \"31-12\", 1, \"Adminstartion\", 50000)\n",
    "teacher = Employee(\"Medha\", \"02-09\", 2, \"Mathematics\", 500000)\n",
    "ravi = Student(\"Seema\", \"02-09\", 43, 3.1)"
   ]
  },
  {
   "cell_type": "code",
   "execution_count": 4,
   "metadata": {},
   "outputs": [
    {
     "name": "stdout",
     "output_type": "stream",
     "text": [
      "The name is : ADAS COLLEGE\n",
      "Date of birth : 31-12\n"
     ]
    }
   ],
   "source": [
    "'''\n",
    "def show_info(show):\n",
    "    print(f\"The name is : {show.__name}\")   <- Private Member\n",
    "    print(f\"Date of birth : {show.__dob}\")  <- Private Member\n",
    "'''\n",
    "abvp.show_info()"
   ]
  },
  {
   "cell_type": "markdown",
   "metadata": {},
   "source": [
    "print(abvp.__name)\n",
    "-\n",
    "\"\"\"\n",
    "gives -> AttributeError: 'School' object has no attribute '__name'\n",
    "which means we can not access the private attribute from outside the class\n",
    "\"\"\""
   ]
  },
  {
   "cell_type": "code",
   "execution_count": 5,
   "metadata": {},
   "outputs": [
    {
     "name": "stdout",
     "output_type": "stream",
     "text": [
      "The name is : Viraj\n",
      "Date of birth : 31-12\n",
      "Domain is : 1\n",
      "From Domain : Adminstartion\n"
     ]
    }
   ],
   "source": [
    "\"\"\"\n",
    "def show_info(show):\n",
    "    super().show_info()\n",
    "    print(f\"Domain is : {show.designation}\")\n",
    "    print(f\"From Domain : {show._field}\")\n",
    "\"\"\"\n",
    "principle.show_info()"
   ]
  },
  {
   "cell_type": "code",
   "execution_count": 6,
   "metadata": {},
   "outputs": [
    {
     "name": "stdout",
     "output_type": "stream",
     "text": [
      "The name is : Medha\n",
      "Date of birth : 02-09\n",
      "Domain is : 2\n",
      "From Domain : Mathematics\n"
     ]
    }
   ],
   "source": [
    "\"\"\"\n",
    "def show_info(show):\n",
    "    super().show_info()\n",
    "    print(f\"Domain is : {show.designation}\")<- Public Member\n",
    "    print(f\"From Domain : {show._field}\")   <- Protected Member \n",
    "\"\"\"\n",
    "teacher.show_info()"
   ]
  },
  {
   "cell_type": "code",
   "execution_count": 7,
   "metadata": {},
   "outputs": [
    {
     "name": "stdout",
     "output_type": "stream",
     "text": [
      "The name is : Seema\n",
      "Date of birth : 02-09\n",
      "Student of : 43\n",
      "Marks : 3.1\n"
     ]
    }
   ],
   "source": [
    "\"\"\"\n",
    "def show_info(show):\n",
    "    super().show_info()\n",
    "    print(f\"Student of : {show.std}\") <- Public Member\n",
    "    print(f\"Marks : {show.__marks}\")  <- Private Member\n",
    "\n",
    "\"\"\"\n",
    "ravi.show_info()"
   ]
  },
  {
   "cell_type": "code",
   "execution_count": null,
   "metadata": {},
   "outputs": [],
   "source": []
  },
  {
   "cell_type": "code",
   "execution_count": null,
   "metadata": {},
   "outputs": [],
   "source": []
  }
 ],
 "metadata": {
  "kernelspec": {
   "display_name": "Python 3 (ipykernel)",
   "language": "python",
   "name": "python3"
  },
  "language_info": {
   "codemirror_mode": {
    "name": "ipython",
    "version": 3
   },
   "file_extension": ".py",
   "mimetype": "text/x-python",
   "name": "python",
   "nbconvert_exporter": "python",
   "pygments_lexer": "ipython3",
   "version": "3.11.4"
  },
  "orig_nbformat": 4
 },
 "nbformat": 4,
 "nbformat_minor": 2
}
