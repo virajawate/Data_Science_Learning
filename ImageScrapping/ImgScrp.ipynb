{
 "cells": [
  {
   "cell_type": "code",
   "execution_count": 25,
   "metadata": {},
   "outputs": [],
   "source": [
    "import requests\n",
    "import logging\n",
    "import os\n",
    "from bs4 import BeautifulSoup\n",
    "from urllib.request import urlopen"
   ]
  },
  {
   "cell_type": "code",
   "execution_count": 26,
   "metadata": {},
   "outputs": [],
   "source": [
    "save_dir = \"imgs\"\n",
    "if not os.path.exists(save_dir):\n",
    "    os.makedirs(save_dir)"
   ]
  },
  {
   "cell_type": "code",
   "execution_count": 27,
   "metadata": {},
   "outputs": [],
   "source": [
    "query=\"Space\"\n",
    "# url = https://www.google.com/search?q=query&tbm=isch&source=lnms&sa=X&ved=2ahUKEwiq4LDZ1M2AAxVTqFYBHfi_Br8Q0pQJegQICxAB"
   ]
  },
  {
   "cell_type": "code",
   "execution_count": 28,
   "metadata": {},
   "outputs": [
    {
     "name": "stdout",
     "output_type": "stream",
     "text": [
      "<Response [200]>\n"
     ]
    }
   ],
   "source": [
    "response = requests.get(f\"https://www.google.com/search?q={query}&tbm=isch&source=lnms&sa=X&ved=2ahUKEwiq4LDZ1M2AAxVTqFYBHfi_Br8Q0pQJegQICxAB\")\n",
    "print(response)"
   ]
  },
  {
   "cell_type": "code",
   "execution_count": 29,
   "metadata": {},
   "outputs": [],
   "source": [
    "soup = BeautifulSoup(response.content,\"html.parser\")"
   ]
  },
  {
   "cell_type": "code",
   "execution_count": 30,
   "metadata": {},
   "outputs": [
    {
     "name": "stdout",
     "output_type": "stream",
     "text": [
      "<!DOCTYPE html PUBLIC \"-//WAPFORUM//DTD XHTML Mobile 1.0//EN\" \"http://www.wapforum.org/DTD/xhtml-mobile10.dtd\">\n",
      "<html lang=\"en-IN\" xmlns=\"http://www.w3.org/1999/xhtml\"><head><meta content=\"application/xhtml+xml; charset=utf-8\" http-equiv=\"Content-Type\"/><meta content=\"no-cache\" name=\"Cache-Control\"/><title>Space - Google Search</title><style>a{text-decoration:none;color:inherit}a:hover{text-decoration:underline}a img{border:0}body{font-family:arial,sans-serif;padding:8px;margin:0 auto;max-width:700px;min-width:240px;}.FbhRzb{border-left:thin solid #dadce0;border-right:thin solid #dadce0;border-top:thin solid #dadce0;height:40px;overflow:hidden}.n692Zd{margin-bottom:10px}.cvifge{height:40px;border-spacing:0}.QvGUP{height:40px;padding:0 8px 0 8px;vertical-align:top}.O4cRJf{height:40px;width:100%;padding:0;padding-right:16px}.O1ePr{height:40px;padding:0;vertical-align:top}.kgJEQe{height:36px;width:98px;vertical-align:top;margin-top:4px}.lXLRf{vertical-align:top}.MhzMZd{border:0;vertical-align:middle;font-size:14px;height:40px;padding:0;width:100%;padding-left:16px}.xB0fq{height:40px;border:none;font-size:14px;background-color:#1a73e8;color:#fff;padding:0 16px;margin:0;vertical-align:top;cursor:pointer}.xB0fq:focus{border:1px solid #1a73e8}.M7pB2{border:thin solid #dadce0;margin:0 0 3px 0;font-size:13px;font-weight:500;height:40px}.euZec{width:100%;height:40px;text-align:center;border-spacing:0}table.euZec td{padding:0;width:25%}.QIqI7{display:inline-block;padding-top:4px;font-weight:bold;color:#4285f4}.EY24We{border-bottom:2px solid #4285f4}.CsQyDc{display:inline-block;color:#70757a}.TuS8Ad{font-size:14px}.HddGcc{padding:8px;color:#70757a}.dzp8ae{font-weight:bold;color:#3c4043}.rEM8G{color:#70757a}.bookcf{table-layout:fixed;width:100%;border-spacing:0}.InWNIe{text-align:center}.uZgmoc{border:thin solid #dadce0;color:#70757a;font-size:14px;text-align:center;table-layout:fixed;width:100%}.frGj1b{display:block;padding:12px 0 12px 0;width:100%}.BnJWBc{text-align:center;padding:6px 0 13px 0;height:35px}.e3goi{vertical-align:top;padding:0;height:180px}.GpQGbf{margin:auto;border-collapse:collapse;border-spacing:0;width:100%}</style></head><body><style>.X6ZCif{color:#202124;font-size:11px;line-height:16px;display:inline-block;padding-top:2px;overflow:hidden;padding-bottom:4px;width:100%}.TwVfHd{border-radius:16px;border:thin solid #dadce0;display:inline-block;padding:8px 8px;margin-right:8px;margin-bottom:4px}.yekiAe{background-color:#dadce0}.jjVJ4e{width:100%}.ezO2md{border:thin solid #dadce0;padding:12px 16px 12px 16px;margin-bottom:10px;font-family:arial,sans-serif}.lIMUZd{font-family:arial,sans-serif}.RntSmf{border-spacing:0}.lgD2Tc{width:100%}.SpelHe{text-align:center}.SpelHe{position:relative}.deHqpb{bottom:0;left:0;margin:auto;position:absolute;right:0;top:0}.kCmkOe{position:relative}.ID6Z3b{background-image:url(https://www.gstatic.com/search_trustx/visibility_off_icon_p0-7d897bf44bafe5436baa9009e8716337.png);background-repeat:no-repeat;background-position:center;background-size:20px}.kCmkOe{width:162px;height:140px;line-height:140px;overflow:'hidden';text-align:center}.DS1iW{text-align:center;margin:auto;vertical-align:middle;max-width:162px;max-height:140px}.AlD19d{padding-top:2px;padding-bottom:8px;}.fYyStc{word-break:break-word}.ynsChf{display:block;white-space:nowrap;overflow:hidden;text-overflow:ellipsis}.Fj3V3b{color:#1967d2;font-size:14px;line-height:20px}.FrIlee{color:#202124;font-size:11px;line-height:16px}.F9iS2e{color:#70757a;font-size:11px;line-height:16px}.WMQ2Le{color:#70757a;font-size:12px;line-height:16px}.x3G5ab{color:#202124;font-size:12px;line-height:16px}.fuLhoc{color:#1967d2;font-size:16px;line-height:20px}.epoveb{font-size:24px;line-height:28px;font-weight:400;color:#202124}.dXDvrc{color:#0d652d;font-size:14px;line-height:20px;word-wrap:break-word}.dloBPe{font-weight:bold}.YVIcad{color:#70757a}.JkVVdd{color:#ea4335}.oXZRFd{color:#ea4335}.MQHtg{color:#fbbc04}.pyMRrb{color:#1e8e3e}.EtTZid{color:#1e8e3e}.M3vVJe{color:#1967d2}.qXLe6d{display:block}.NHQNef{font-style:italic}.Cb8Z7c{white-space:pre}a.ZWRArf{text-decoration:none}a .CVA68e:hover{text-decoration:underline}</style><div class=\"n692Zd\"><div class=\"BnJWBc\"><a class=\"lXLRf\" href=\"/?sa=X&amp;sca_esv=566149086&amp;output=images&amp;ie=UTF-8&amp;tbm=isch&amp;ved=0ahUKEwi2htbD_bKBAxXW3TgGHSaaAQcQPAgC\"><img alt=\"Google\" class=\"kgJEQe\" src=\"/images/branding/searchlogo/1x/googlelogo_desk_heirloom_color_150x55dp.gif\"/></a></div><div class=\"FbhRzb\"><form action=\"/search\"><input name=\"sca_esv\" type=\"hidden\" value=\"566149086\"/><input name=\"ie\" type=\"hidden\" value=\"ISO-8859-1\"/><input name=\"tbm\" type=\"hidden\" value=\"isch\"/><input name=\"oq\" type=\"hidden\"/><input name=\"aqs\" type=\"hidden\"/><table class=\"cvifge\"><tr><td class=\"O4cRJf\"><input class=\"MhzMZd\" name=\"q\" type=\"text\" value=\"Space\"/></td><td class=\"O1ePr\"><input class=\"xB0fq\" type=\"submit\" value=\"Search\"/></td></tr></table></form></div><div class=\"M7pB2\"><table class=\"euZec\"><tbody><tr><td><a class=\"CsQyDc\" href=\"/search?q=Space&amp;sca_esv=566149086&amp;ie=UTF-8&amp;source=lnms&amp;sa=X&amp;ved=0ahUKEwi2htbD_bKBAxXW3TgGHSaaAQcQ_AUIBCgA\">ALL</a></td><td class=\"EY24We\"><span class=\"QIqI7\">IMAGES</span></td><td><a class=\"CsQyDc\" href=\"/search?q=Space&amp;sca_esv=566149086&amp;ie=UTF-8&amp;tbm=nws&amp;source=lnms&amp;sa=X&amp;ved=0ahUKEwi2htbD_bKBAxXW3TgGHSaaAQcQ_AUIBigC\">NEWS</a></td><td><a class=\"CsQyDc\" href=\"/search?q=Space&amp;sca_esv=566149086&amp;ie=UTF-8&amp;tbm=vid&amp;source=lnms&amp;sa=X&amp;ved=0ahUKEwi2htbD_bKBAxXW3TgGHSaaAQcQ_AUIBygD\">VIDEOS</a></td></tr></tbody></table></div></div><div class=\"X6ZCif\"><a class=\"TwVfHd\" href=\"/search?sca_esv=566149086&amp;ie=UTF-8&amp;tbm=isch&amp;q=Space&amp;chips=q:space,g_1:galaxy&amp;sa=X&amp;ved=0ahUKEwi2htbD_bKBAxXW3TgGHSaaAQcQ4lYICygA\">galaxy</a><a class=\"TwVfHd\" href=\"/search?sca_esv=566149086&amp;ie=UTF-8&amp;tbm=isch&amp;q=Space&amp;chips=q:space,g_1:wallpaper&amp;sa=X&amp;ved=0ahUKEwi2htbD_bKBAxXW3TgGHSaaAQcQ4lYIDCgB\">wallpaper</a><a class=\"TwVfHd\" href=\"/search?sca_esv=566149086&amp;ie=UTF-8&amp;tbm=isch&amp;q=Space&amp;chips=q:space,g_1:aesthetic&amp;sa=X&amp;ved=0ahUKEwi2htbD_bKBAxXW3TgGHSaaAQcQ4lYIDSgC\">aesthetic</a><a class=\"TwVfHd\" href=\"/search?sca_esv=566149086&amp;ie=UTF-8&amp;tbm=isch&amp;q=Space&amp;chips=q:space,g_1:nebula&amp;sa=X&amp;ved=0ahUKEwi2htbD_bKBAxXW3TgGHSaaAQcQ4lYIDigD\">nebula</a><a class=\"TwVfHd\" href=\"/search?sca_esv=566149086&amp;ie=UTF-8&amp;tbm=isch&amp;q=Space&amp;chips=q:space,g_1:high+resolution&amp;sa=X&amp;ved=0ahUKEwi2htbD_bKBAxXW3TgGHSaaAQcQ4lYIDygE\">high resolution</a><a class=\"TwVfHd\" href=\"/search?sca_esv=566149086&amp;ie=UTF-8&amp;tbm=isch&amp;q=Space&amp;chips=q:space,g_1:planet&amp;sa=X&amp;ved=0ahUKEwi2htbD_bKBAxXW3TgGHSaaAQcQ4lYIECgF\">planet</a><a class=\"TwVfHd\" href=\"/search?sca_esv=566149086&amp;ie=UTF-8&amp;tbm=isch&amp;q=Space&amp;chips=q:space,g_1:universe&amp;sa=X&amp;ved=0ahUKEwi2htbD_bKBAxXW3TgGHSaaAQcQ4lYIESgG\">universe</a><a class=\"TwVfHd\" href=\"/search?sca_esv=566149086&amp;ie=UTF-8&amp;tbm=isch&amp;q=Space&amp;chips=q:space,g_1:earth&amp;sa=X&amp;ved=0ahUKEwi2htbD_bKBAxXW3TgGHSaaAQcQ4lYIEigH\">earth</a><a class=\"TwVfHd\" href=\"/search?sca_esv=566149086&amp;ie=UTF-8&amp;tbm=isch&amp;q=Space&amp;chips=q:space,g_1:solar+system&amp;sa=X&amp;ved=0ahUKEwi2htbD_bKBAxXW3TgGHSaaAQcQ4lYIEygI\">solar system</a><a class=\"TwVfHd\" href=\"/search?sca_esv=566149086&amp;ie=UTF-8&amp;tbm=isch&amp;q=Space&amp;chips=q:space,g_1:blue&amp;sa=X&amp;ved=0ahUKEwi2htbD_bKBAxXW3TgGHSaaAQcQ4lYIFCgJ\">blue</a></div><div><table class=\"GpQGbf\"><tr><td align=\"center\" class=\"e3goi\"><div class=\"jjVJ4e\"> <div> <div class=\"lIMUZd\"><div><table class=\"RntSmf\"><tr><td><a href=\"/url?q=https://starwalk.space/en/news/what-is-space&amp;sa=U&amp;ved=2ahUKEwi2htbD_bKBAxXW3TgGHSaaAQcQqoUBegQIARAB&amp;usg=AOvVaw1MjIQdyj53QgF4jCFOZI-N\"><div class=\"kCmkOe\"><img alt=\"\" class=\"DS1iW\" src=\"https://encrypted-tbn0.gstatic.com/images?q=tbn:ANd9GcQMS33GV0Otp1HfP85DIrPSd10Ys_Px3bLi9KsQ3KUn-P2_MIPLnNXm094bcw&amp;s\"/></div></a></td></tr><tr><td><a href=\"/url?q=https://starwalk.space/en/news/what-is-space&amp;sa=U&amp;ved=2ahUKEwi2htbD_bKBAxXW3TgGHSaaAQcQr4kDegQIARAC&amp;usg=AOvVaw305K4NXNuc4pcqCP84XUe5\"><div class=\"AlD19d\"> <span class=\"qXLe6d x3G5ab\"> <span class=\"fYyStc\">What Does Space Look Like |...</span> </span> <span class=\"qXLe6d F9iS2e\"> <span class=\"fYyStc\">starwalk.space</span> </span> </div></a></td></tr></table></div></div> </div> </div></td><td align=\"center\" class=\"e3goi\"><div class=\"jjVJ4e\"> <div> <div class=\"lIMUZd\"><div><table class=\"RntSmf\"><tr><td><a href=\"/url?q=https://science.howstuffworks.com/space-smell.htm&amp;sa=U&amp;ved=2ahUKEwi2htbD_bKBAxXW3TgGHSaaAQcQqoUBegQIExAB&amp;usg=AOvVaw34HT_2cbtIKODDwS8ql4Lr\"><div class=\"kCmkOe\"><img alt=\"\" class=\"DS1iW\" src=\"https://encrypted-tbn0.gstatic.com/images?q=tbn:ANd9GcQBN1Fz4bQIt4b21Vzj1jxAtOr-PgJz6-3Eph-A4KxEZbDHUbz0VTEUJPzS4tM&amp;s\"/></div></a></td></tr><tr><td><a href=\"/url?q=https://science.howstuffworks.com/space-smell.htm&amp;sa=U&amp;ved=2ahUKEwi2htbD_bKBAxXW3TgGHSaaAQcQr4kDegQIExAC&amp;usg=AOvVaw0fyrLFmBpjUbSr4Vu16ohX\"><div class=\"AlD19d\"> <span class=\"qXLe6d x3G5ab\"> <span class=\"fYyStc\">What Does Space Smell Like?...</span> </span> <span class=\"qXLe6d F9iS2e\"> <span class=\"fYyStc\">science.howstuffworks.com</span> </span> </div></a></td></tr></table></div></div> </div> </div></td><td align=\"center\" class=\"e3goi\"><div class=\"jjVJ4e\"> <div> <div class=\"lIMUZd\"><div><table class=\"RntSmf\"><tr><td><a href=\"/url?q=https://www.freepik.com/free-photos-vectors/space&amp;sa=U&amp;ved=2ahUKEwi2htbD_bKBAxXW3TgGHSaaAQcQqoUBegQIEhAB&amp;usg=AOvVaw3e6CezPF24iqazaQAlsZfd\"><div class=\"kCmkOe\"><img alt=\"\" class=\"DS1iW\" src=\"https://encrypted-tbn0.gstatic.com/images?q=tbn:ANd9GcTqPpTdkOwAtxNfBb7SY0pykvfLVS-WcGHTU9nS7UuJ2LpJ0chl489iZCI9Xtg&amp;s\"/></div></a></td></tr><tr><td><a href=\"/url?q=https://www.freepik.com/free-photos-vectors/space&amp;sa=U&amp;ved=2ahUKEwi2htbD_bKBAxXW3TgGHSaaAQcQr4kDegQIEhAC&amp;usg=AOvVaw3lvBw62pKxm638RWvSD0ju\"><div class=\"AlD19d\"> <span class=\"qXLe6d x3G5ab\"> <span class=\"fYyStc\">Space Images - Free...</span> </span> <span class=\"qXLe6d F9iS2e\"> <span class=\"fYyStc\">www.freepik.com</span> </span> </div></a></td></tr></table></div></div> </div> </div></td><td align=\"center\" class=\"e3goi\"><div class=\"jjVJ4e\"> <div> <div class=\"lIMUZd\"><div><table class=\"RntSmf\"><tr><td><a href=\"/url?q=https://unsplash.com/images/nature/space&amp;sa=U&amp;ved=2ahUKEwi2htbD_bKBAxXW3TgGHSaaAQcQqoUBegQIEBAB&amp;usg=AOvVaw0nJj9FLhSoLUDhfxcRTZ6v\"><div class=\"kCmkOe\"><img alt=\"\" class=\"DS1iW\" src=\"https://encrypted-tbn0.gstatic.com/images?q=tbn:ANd9GcQdea5WSDmNdZ_FaVEVtga2on2HpFQDYDHlZo0qq1j8MuRu33UFCtnCUnP15A&amp;s\"/></div></a></td></tr><tr><td><a href=\"/url?q=https://unsplash.com/images/nature/space&amp;sa=U&amp;ved=2ahUKEwi2htbD_bKBAxXW3TgGHSaaAQcQr4kDegQIEBAC&amp;usg=AOvVaw1OCBHnzE-KH7U2PQBTGOuT\"><div class=\"AlD19d\"> <span class=\"qXLe6d x3G5ab\"> <span class=\"fYyStc\">20+ Space Pictures &amp; Images...</span> </span> <span class=\"qXLe6d F9iS2e\"> <span class=\"fYyStc\">unsplash.com</span> </span> </div></a></td></tr></table></div></div> </div> </div></td></tr><tr><td align=\"center\" class=\"e3goi\"><div class=\"jjVJ4e\"> <div> <div class=\"lIMUZd\"><div><table class=\"RntSmf\"><tr><td><a href=\"/url?q=https://www.freepik.com/free-photos-vectors/space-background&amp;sa=U&amp;ved=2ahUKEwi2htbD_bKBAxXW3TgGHSaaAQcQqoUBegQIERAB&amp;usg=AOvVaw0zdFt87LEydEfNNwGc15fe\"><div class=\"kCmkOe\"><img alt=\"\" class=\"DS1iW\" src=\"https://encrypted-tbn0.gstatic.com/images?q=tbn:ANd9GcT6xXvU5j6anuZqkMRNBsCRr6deBK3xi68KGEsBSTB8vKDiq5-Zt_4V-FUTOw&amp;s\"/></div></a></td></tr><tr><td><a href=\"/url?q=https://www.freepik.com/free-photos-vectors/space-background&amp;sa=U&amp;ved=2ahUKEwi2htbD_bKBAxXW3TgGHSaaAQcQr4kDegQIERAC&amp;usg=AOvVaw1dAsgsHPqy7nnBEqgrbHzx\"><div class=\"AlD19d\"> <span class=\"qXLe6d x3G5ab\"> <span class=\"fYyStc\">Space Background Images -...</span> </span> <span class=\"qXLe6d F9iS2e\"> <span class=\"fYyStc\">www.freepik.com</span> </span> </div></a></td></tr></table></div></div> </div> </div></td><td align=\"center\" class=\"e3goi\"><div class=\"jjVJ4e\"> <div> <div class=\"lIMUZd\"><div><table class=\"RntSmf\"><tr><td><a href=\"/url?q=https://en.wikipedia.org/wiki/Universe&amp;sa=U&amp;ved=2ahUKEwi2htbD_bKBAxXW3TgGHSaaAQcQqoUBegQIDxAB&amp;usg=AOvVaw0xJOBjNExahgvnPbcTDVMm\"><div class=\"kCmkOe\"><img alt=\"\" class=\"DS1iW\" src=\"https://encrypted-tbn0.gstatic.com/images?q=tbn:ANd9GcST5V7prTnCkYs4qstYonEHxyuqrIhj5fxjL30u7IowSC1-pYZQ627seL2_K2I&amp;s\"/></div></a></td></tr><tr><td><a href=\"/url?q=https://en.wikipedia.org/wiki/Universe&amp;sa=U&amp;ved=2ahUKEwi2htbD_bKBAxXW3TgGHSaaAQcQr4kDegQIDxAC&amp;usg=AOvVaw0o9hHtxVq20-t0h3UfUCuo\"><div class=\"AlD19d\"> <span class=\"qXLe6d x3G5ab\"> <span class=\"fYyStc\">Universe - Wikipedia</span> </span> <span class=\"qXLe6d F9iS2e\"> <span class=\"fYyStc\">en.wikipedia.org</span> </span> </div></a></td></tr></table></div></div> </div> </div></td><td align=\"center\" class=\"e3goi\"><div class=\"jjVJ4e\"> <div> <div class=\"lIMUZd\"><div><table class=\"RntSmf\"><tr><td><a href=\"/url?q=https://pixabay.com/images/search/space/&amp;sa=U&amp;ved=2ahUKEwi2htbD_bKBAxXW3TgGHSaaAQcQqoUBegQICxAB&amp;usg=AOvVaw12DvBzaxgsCy3nrSIB7DXe\"><div class=\"kCmkOe\"><img alt=\"\" class=\"DS1iW\" src=\"https://encrypted-tbn0.gstatic.com/images?q=tbn:ANd9GcTvbQHOTfJiSQYQEsTbxL2aBe3I6xvT_8npEoik-G4xyye9KecBEixczk37Iyc&amp;s\"/></div></a></td></tr><tr><td><a href=\"/url?q=https://pixabay.com/images/search/space/&amp;sa=U&amp;ved=2ahUKEwi2htbD_bKBAxXW3TgGHSaaAQcQr4kDegQICxAC&amp;usg=AOvVaw198nO3F_23vwPc75eV8hky\"><div class=\"AlD19d\"> <span class=\"qXLe6d x3G5ab\"> <span class=\"fYyStc\">20,000+ Best Free Space...</span> </span> <span class=\"qXLe6d F9iS2e\"> <span class=\"fYyStc\">pixabay.com</span> </span> </div></a></td></tr></table></div></div> </div> </div></td><td align=\"center\" class=\"e3goi\"><div class=\"jjVJ4e\"> <div> <div class=\"lIMUZd\"><div><table class=\"RntSmf\"><tr><td><a href=\"/url?q=https://www.pbs.org/newshour/science/analysis-why-trash-in-space-is-a-major-problem-with-no-clear-fix&amp;sa=U&amp;ved=2ahUKEwi2htbD_bKBAxXW3TgGHSaaAQcQqoUBegQIDRAB&amp;usg=AOvVaw0xOkKt9c2i7m9I_hT8lUhR\"><div class=\"kCmkOe\"><img alt=\"\" class=\"DS1iW\" src=\"https://encrypted-tbn0.gstatic.com/images?q=tbn:ANd9GcRtsqcNTCpScwFYcozb9Ny-gBLpunuSimo6I4vSVUMDTjv5tFgAY-RRP1UVWdQ&amp;s\"/></div></a></td></tr><tr><td><a href=\"/url?q=https://www.pbs.org/newshour/science/analysis-why-trash-in-space-is-a-major-problem-with-no-clear-fix&amp;sa=U&amp;ved=2ahUKEwi2htbD_bKBAxXW3TgGHSaaAQcQr4kDegQIDRAC&amp;usg=AOvVaw3UNpj1G8e82sCmpASXA896\"><div class=\"AlD19d\"> <span class=\"qXLe6d x3G5ab\"> <span class=\"fYyStc\">Analysis: Why trash in...</span> </span> <span class=\"qXLe6d F9iS2e\"> <span class=\"fYyStc\">www.pbs.org</span> </span> </div></a></td></tr></table></div></div> </div> </div></td></tr><tr><td align=\"center\" class=\"e3goi\"><div class=\"jjVJ4e\"> <div> <div class=\"lIMUZd\"><div><table class=\"RntSmf\"><tr><td><a href=\"/url?q=https://www.astronomy.com/science/astro-for-kids-how-many-stars-are-there-in-space/&amp;sa=U&amp;ved=2ahUKEwi2htbD_bKBAxXW3TgGHSaaAQcQqoUBegQICRAB&amp;usg=AOvVaw3np23hqk8pe_Hn9l_jSPf0\"><div class=\"kCmkOe\"><img alt=\"\" class=\"DS1iW\" src=\"https://encrypted-tbn0.gstatic.com/images?q=tbn:ANd9GcQeaGfto6MCEBZqrcXZtGXYjGGc555ds2AJppH4U9jSG2sBwArNIiWh1JyJRw&amp;s\"/></div></a></td></tr><tr><td><a href=\"/url?q=https://www.astronomy.com/science/astro-for-kids-how-many-stars-are-there-in-space/&amp;sa=U&amp;ved=2ahUKEwi2htbD_bKBAxXW3TgGHSaaAQcQr4kDegQICRAC&amp;usg=AOvVaw1HMkvswuFw01aOMXOZdnn0\"><div class=\"AlD19d\"> <span class=\"qXLe6d x3G5ab\"> <span class=\"fYyStc\">Astro for kids: How many...</span> </span> <span class=\"qXLe6d F9iS2e\"> <span class=\"fYyStc\">www.astronomy.com</span> </span> </div></a></td></tr></table></div></div> </div> </div></td><td align=\"center\" class=\"e3goi\"><div class=\"jjVJ4e\"> <div> <div class=\"lIMUZd\"><div><table class=\"RntSmf\"><tr><td><a href=\"/url?q=https://www.skyatnightmagazine.com/space-science/facts-about-astronomy-space&amp;sa=U&amp;ved=2ahUKEwi2htbD_bKBAxXW3TgGHSaaAQcQqoUBegQIChAB&amp;usg=AOvVaw0udsls23kmWP_h-yKgpYFd\"><div class=\"kCmkOe\"><img alt=\"\" class=\"DS1iW\" src=\"https://encrypted-tbn0.gstatic.com/images?q=tbn:ANd9GcReJFby2n4GMOB9S71n-vqgestRVp1C541Hnwzz8PJLnAN2_WWuCVvxEko0uxo&amp;s\"/></div></a></td></tr><tr><td><a href=\"/url?q=https://www.skyatnightmagazine.com/space-science/facts-about-astronomy-space&amp;sa=U&amp;ved=2ahUKEwi2htbD_bKBAxXW3TgGHSaaAQcQr4kDegQIChAC&amp;usg=AOvVaw21jbXCHW0C2ZvI4VtS8wXY\"><div class=\"AlD19d\"> <span class=\"qXLe6d x3G5ab\"> <span class=\"fYyStc\">20 amazing facts about...</span> </span> <span class=\"qXLe6d F9iS2e\"> <span class=\"fYyStc\">www.skyatnightmagazine.com</span> </span> </div></a></td></tr></table></div></div> </div> </div></td><td align=\"center\" class=\"e3goi\"><div class=\"jjVJ4e\"> <div> <div class=\"lIMUZd\"><div><table class=\"RntSmf\"><tr><td><a href=\"/url?q=https://www.collinsaerospace.com/what-we-do/industries/space&amp;sa=U&amp;ved=2ahUKEwi2htbD_bKBAxXW3TgGHSaaAQcQqoUBegQIDhAB&amp;usg=AOvVaw0K-xLkZEgjP1ShBicgOPWL\"><div class=\"kCmkOe\"><img alt=\"\" class=\"DS1iW\" src=\"https://encrypted-tbn0.gstatic.com/images?q=tbn:ANd9GcSey_7NuNy2DiGaLE6cjfCjQ_qNJzO1NwuNIs3XWDhde_CdEbcnWKgxzWFbm0Q&amp;s\"/></div></a></td></tr><tr><td><a href=\"/url?q=https://www.collinsaerospace.com/what-we-do/industries/space&amp;sa=U&amp;ved=2ahUKEwi2htbD_bKBAxXW3TgGHSaaAQcQr4kDegQIDhAC&amp;usg=AOvVaw1-SU15DdmHLbgHOPxh5W79\"><div class=\"AlD19d\"> <span class=\"qXLe6d x3G5ab\"> <span class=\"fYyStc\">Space | Collins Aerospace</span> </span> <span class=\"qXLe6d F9iS2e\"> <span class=\"fYyStc\">www.collinsaerospace.com</span> </span> </div></a></td></tr></table></div></div> </div> </div></td><td align=\"center\" class=\"e3goi\"><div class=\"jjVJ4e\"> <div> <div class=\"lIMUZd\"><div><table class=\"RntSmf\"><tr><td><a href=\"/url?q=https://www.nasa.gov/image-feature/goddard/2022/nasa-s-webb-reveals-cosmic-cliffs-glittering-landscape-of-star-birth&amp;sa=U&amp;ved=2ahUKEwi2htbD_bKBAxXW3TgGHSaaAQcQqoUBegQIDBAB&amp;usg=AOvVaw1r9ne4I2dAnosDMOfgr508\"><div class=\"kCmkOe\"><img alt=\"\" class=\"DS1iW\" src=\"https://encrypted-tbn0.gstatic.com/images?q=tbn:ANd9GcRrumkTnPzhmLzfpptpoXkCXDorfGMr-VVtzL0ak8p-tKybw4Q_mTTApP4pGw&amp;s\"/></div></a></td></tr><tr><td><a href=\"/url?q=https://www.nasa.gov/image-feature/goddard/2022/nasa-s-webb-reveals-cosmic-cliffs-glittering-landscape-of-star-birth&amp;sa=U&amp;ved=2ahUKEwi2htbD_bKBAxXW3TgGHSaaAQcQr4kDegQIDBAC&amp;usg=AOvVaw36aYwUQCWcmlhu-K7Xsfpr\"><div class=\"AlD19d\"> <span class=\"qXLe6d x3G5ab\"> <span class=\"fYyStc\">NASA's Webb Reveals Cosmic...</span> </span> <span class=\"qXLe6d F9iS2e\"> <span class=\"fYyStc\">www.nasa.gov</span> </span> </div></a></td></tr></table></div></div> </div> </div></td></tr><tr><td align=\"center\" class=\"e3goi\"><div class=\"jjVJ4e\"> <div> <div class=\"lIMUZd\"><div><table class=\"RntSmf\"><tr><td><a href=\"/url?q=https://esawebb.org/news/weic2216/&amp;sa=U&amp;ved=2ahUKEwi2htbD_bKBAxXW3TgGHSaaAQcQqoUBegQICBAB&amp;usg=AOvVaw1N__M5R9Phn54A3qEEgeAw\"><div class=\"kCmkOe\"><img alt=\"\" class=\"DS1iW\" src=\"https://encrypted-tbn0.gstatic.com/images?q=tbn:ANd9GcR5qpvS2diAIEwibO0KIwhbBlj3kJLc0GFovrEr_3g0w27GBUc6Sy5Oy_PkOw&amp;s\"/></div></a></td></tr><tr><td><a href=\"/url?q=https://esawebb.org/news/weic2216/&amp;sa=U&amp;ved=2ahUKEwi2htbD_bKBAxXW3TgGHSaaAQcQr4kDegQICBAC&amp;usg=AOvVaw35soHVV_Qs8Lfrhv8rPgJx\"><div class=\"AlD19d\"> <span class=\"qXLe6d x3G5ab\"> <span class=\"fYyStc\">Webb Takes a Stunning,...</span> </span> <span class=\"qXLe6d F9iS2e\"> <span class=\"fYyStc\">esawebb.org</span> </span> </div></a></td></tr></table></div></div> </div> </div></td><td align=\"center\" class=\"e3goi\"><div class=\"jjVJ4e\"> <div> <div class=\"lIMUZd\"><div><table class=\"RntSmf\"><tr><td><a href=\"/url?q=https://stock.adobe.com/images/panorama-of-a-galaxy-planets-and-stars-in-space-banner-design-many-light-years-away-there-are-many-galaxies-and-nebulas-in-space-a-vast-universe-a-substantial-structure-generative-ai/559133954&amp;sa=U&amp;ved=2ahUKEwi2htbD_bKBAxXW3TgGHSaaAQcQqoUBegQIAhAB&amp;usg=AOvVaw18UkJ05AVRYs0T6pDESx8D\"><div class=\"kCmkOe\"><img alt=\"\" class=\"DS1iW\" src=\"https://encrypted-tbn0.gstatic.com/images?q=tbn:ANd9GcRpSKejHrfBcZJzymVUXk6-8HX5IC5IWA1vTm6S5xhPmmTQTUrhzIz1Ss0J0z0&amp;s\"/></div></a></td></tr><tr><td><a href=\"/url?q=https://stock.adobe.com/images/panorama-of-a-galaxy-planets-and-stars-in-space-banner-design-many-light-years-away-there-are-many-galaxies-and-nebulas-in-space-a-vast-universe-a-substantial-structure-generative-ai/559133954&amp;sa=U&amp;ved=2ahUKEwi2htbD_bKBAxXW3TgGHSaaAQcQr4kDegQIAhAC&amp;usg=AOvVaw3YpYF_HODqE0oDRtHRl0TL\"><div class=\"AlD19d\"> <span class=\"qXLe6d x3G5ab\"> <span class=\"fYyStc\">panorama of a galaxy,...</span> </span> <span class=\"qXLe6d F9iS2e\"> <span class=\"fYyStc\">stock.adobe.com</span> </span> </div></a></td></tr></table></div></div> </div> </div></td><td align=\"center\" class=\"e3goi\"><div class=\"jjVJ4e\"> <div> <div class=\"lIMUZd\"><div><table class=\"RntSmf\"><tr><td><a href=\"/url?q=https://www.space.com/how-cold-is-space&amp;sa=U&amp;ved=2ahUKEwi2htbD_bKBAxXW3TgGHSaaAQcQqoUBegQIAxAB&amp;usg=AOvVaw38kL6rQj1uQOF808Kg08tx\"><div class=\"kCmkOe\"><img alt=\"\" class=\"DS1iW\" src=\"https://encrypted-tbn0.gstatic.com/images?q=tbn:ANd9GcThqqewFLCXl6oX1nHN9foni1WDo9dVeEg93Ypy3x9oXxIA3_ZUtCQxI6Jz0Q&amp;s\"/></div></a></td></tr><tr><td><a href=\"/url?q=https://www.space.com/how-cold-is-space&amp;sa=U&amp;ved=2ahUKEwi2htbD_bKBAxXW3TgGHSaaAQcQr4kDegQIAxAC&amp;usg=AOvVaw1DLMFBJ-pIZ4ypFS1qFlqI\"><div class=\"AlD19d\"> <span class=\"qXLe6d x3G5ab\"> <span class=\"fYyStc\">How cold is space? Physics...</span> </span> <span class=\"qXLe6d F9iS2e\"> <span class=\"fYyStc\">www.space.com</span> </span> </div></a></td></tr></table></div></div> </div> </div></td><td align=\"center\" class=\"e3goi\"><div class=\"jjVJ4e\"> <div> <div class=\"lIMUZd\"><div><table class=\"RntSmf\"><tr><td><a href=\"/url?q=https://www.pexels.com/search/space/&amp;sa=U&amp;ved=2ahUKEwi2htbD_bKBAxXW3TgGHSaaAQcQqoUBegQIBBAB&amp;usg=AOvVaw2AnqhyX8HuMcB71WyIfN0n\"><div class=\"kCmkOe\"><img alt=\"\" class=\"DS1iW\" src=\"https://encrypted-tbn0.gstatic.com/images?q=tbn:ANd9GcRVwb-_bPgKxBZqVx51F3r1VOWDeZVHiXbgnHGQpD1qdfSQx5xztCWdSP-9ig&amp;s\"/></div></a></td></tr><tr><td><a href=\"/url?q=https://www.pexels.com/search/space/&amp;sa=U&amp;ved=2ahUKEwi2htbD_bKBAxXW3TgGHSaaAQcQr4kDegQIBBAC&amp;usg=AOvVaw0PpuQJzCu0RfJbmytcrZ0N\"><div class=\"AlD19d\"> <span class=\"qXLe6d x3G5ab\"> <span class=\"fYyStc\">30,000+ Best Space Photos ·...</span> </span> <span class=\"qXLe6d F9iS2e\"> <span class=\"fYyStc\">www.pexels.com</span> </span> </div></a></td></tr></table></div></div> </div> </div></td></tr><tr><td align=\"center\" class=\"e3goi\"><div class=\"jjVJ4e\"> <div> <div class=\"lIMUZd\"><div><table class=\"RntSmf\"><tr><td><a href=\"/url?q=https://www.freepik.com/vectors/space&amp;sa=U&amp;ved=2ahUKEwi2htbD_bKBAxXW3TgGHSaaAQcQqoUBegQIBhAB&amp;usg=AOvVaw04A7rjSy9ue9aLPPP5g2cc\"><div class=\"kCmkOe\"><img alt=\"\" class=\"DS1iW\" src=\"https://encrypted-tbn0.gstatic.com/images?q=tbn:ANd9GcQPrkbhQciYIQzNBgxCGC5hRKFOaO6UJxaL2jvD8-uZYuEZxnX8KRR-Ez5ZQw&amp;s\"/></div></a></td></tr><tr><td><a href=\"/url?q=https://www.freepik.com/vectors/space&amp;sa=U&amp;ved=2ahUKEwi2htbD_bKBAxXW3TgGHSaaAQcQr4kDegQIBhAC&amp;usg=AOvVaw1OCYj2Y4VlzKmhESfNVNzm\"><div class=\"AlD19d\"> <span class=\"qXLe6d x3G5ab\"> <span class=\"fYyStc\">Space Vectors &amp;...</span> </span> <span class=\"qXLe6d F9iS2e\"> <span class=\"fYyStc\">www.freepik.com</span> </span> </div></a></td></tr></table></div></div> </div> </div></td><td align=\"center\" class=\"e3goi\"><div class=\"jjVJ4e\"> <div> <div class=\"lIMUZd\"><div><table class=\"RntSmf\"><tr><td><a href=\"/url?q=https://www.popularmechanics.com/space/g25941053/famous-space-missions-through-history/&amp;sa=U&amp;ved=2ahUKEwi2htbD_bKBAxXW3TgGHSaaAQcQqoUBegQIBRAB&amp;usg=AOvVaw3lqWC45G7RcAjyJEWEMaqN\"><div class=\"kCmkOe\"><img alt=\"\" class=\"DS1iW\" src=\"https://encrypted-tbn0.gstatic.com/images?q=tbn:ANd9GcRUxzFv6Kh6a35CLWDSv9cLmXCId5SmkWrXFuHbBaW3wvhaoHOGI8DKE7OYSA&amp;s\"/></div></a></td></tr><tr><td><a href=\"/url?q=https://www.popularmechanics.com/space/g25941053/famous-space-missions-through-history/&amp;sa=U&amp;ved=2ahUKEwi2htbD_bKBAxXW3TgGHSaaAQcQr4kDegQIBRAC&amp;usg=AOvVaw2x5YPDuLvzS41bsT5ELwUq\"><div class=\"AlD19d\"> <span class=\"qXLe6d x3G5ab\"> <span class=\"fYyStc\">The 16 Most Important Space...</span> </span> <span class=\"qXLe6d F9iS2e\"> <span class=\"fYyStc\">www.popularmechanics.com</span> </span> </div></a></td></tr></table></div></div> </div> </div></td><td align=\"center\" class=\"e3goi\"><div class=\"jjVJ4e\"> <div> <div class=\"lIMUZd\"><div><table class=\"RntSmf\"><tr><td><a href=\"/url?q=https://www.space.com/16080-solar-system-planets.html&amp;sa=U&amp;ved=2ahUKEwi2htbD_bKBAxXW3TgGHSaaAQcQqoUBegQIABAB&amp;usg=AOvVaw2KRtUf88Tt6RrIBF8kdvRE\"><div class=\"kCmkOe\"><img alt=\"\" class=\"DS1iW\" src=\"https://encrypted-tbn0.gstatic.com/images?q=tbn:ANd9GcTEUvgRzD2OnZjCi4TUBvH94zttixfsdT8D3vFfEGZhWXLq86hWwOqxQEO4Rpw&amp;s\"/></div></a></td></tr><tr><td><a href=\"/url?q=https://www.space.com/16080-solar-system-planets.html&amp;sa=U&amp;ved=2ahUKEwi2htbD_bKBAxXW3TgGHSaaAQcQr4kDegQIABAC&amp;usg=AOvVaw3h7rbDhQMvMoZaMsdpXJNO\"><div class=\"AlD19d\"> <span class=\"qXLe6d x3G5ab\"> <span class=\"fYyStc\">Solar system planets, order...</span> </span> <span class=\"qXLe6d F9iS2e\"> <span class=\"fYyStc\">www.space.com</span> </span> </div></a></td></tr></table></div></div> </div> </div></td><td align=\"center\" class=\"e3goi\"><div class=\"jjVJ4e\"> <div> <div class=\"lIMUZd\"><div><table class=\"RntSmf\"><tr><td><a href=\"/url?q=https://blogs.microsoft.com/blog/2020/10/20/azure-space-cloud-powered-innovation-on-and-off-the-planet/&amp;sa=U&amp;ved=2ahUKEwi2htbD_bKBAxXW3TgGHSaaAQcQqoUBegQIBxAB&amp;usg=AOvVaw0WDnntcxU8W-HQi1MFGyH8\"><div class=\"kCmkOe\"><img alt=\"\" class=\"DS1iW\" src=\"https://encrypted-tbn0.gstatic.com/images?q=tbn:ANd9GcRbfqsVyEmBaNosJbAl8YQ8l5Q5gFTBw8WprdXUzTUuiW-D1Btr7Lx1MXKozxg&amp;s\"/></div></a></td></tr><tr><td><a href=\"/url?q=https://blogs.microsoft.com/blog/2020/10/20/azure-space-cloud-powered-innovation-on-and-off-the-planet/&amp;sa=U&amp;ved=2ahUKEwi2htbD_bKBAxXW3TgGHSaaAQcQr4kDegQIBxAC&amp;usg=AOvVaw0dPHyxbrRrlNAbWDvEOydI\"><div class=\"AlD19d\"> <span class=\"qXLe6d x3G5ab\"> <span class=\"fYyStc\">Azure Space – cloud-powered...</span> </span> <span class=\"qXLe6d F9iS2e\"> <span class=\"fYyStc\">blogs.microsoft.com</span> </span> </div></a></td></tr></table></div></div> </div> </div></td></tr></table></div><table class=\"uZgmoc\"><tbody><td><a class=\"frGj1b\" href=\"/search?q=Space&amp;sca_esv=566149086&amp;ie=UTF-8&amp;tbm=isch&amp;ei=JqQHZbbbAta74-EPprSGOA&amp;start=20&amp;sa=N\">Next &gt;</a></td></tbody></table><br/><div class=\"TuS8Ad\" data-ved=\"0ahUKEwi2htbD_bKBAxXW3TgGHSaaAQcQpyoIUg\"><style>.VYM29{font-weight:bold}</style><div align=\"center\" class=\"HddGcc\"><span class=\"VYM29\">560094, Bengaluru, Karnataka</span><span> - </span><span>From your IP address</span><span> - </span><a href=\"/url?q=https://support.google.com/websearch%3Fp%3Dws_settings_location%26hl%3Den-IN&amp;sa=U&amp;ved=0ahUKEwi2htbD_bKBAxXW3TgGHSaaAQcQty4IUw&amp;usg=AOvVaw3kIXZ311d5pAYZoMdZKlzc\">Learn more</a></div><div align=\"center\"><a class=\"rEM8G\" href=\"/url?q=https://accounts.google.com/ServiceLogin%3Fcontinue%3Dhttps://www.google.com/search%253Fq%253DSpace%2526tbm%253Disch%2526source%253Dlnms%2526sa%253DX%2526ved%253D2ahUKEwiq4LDZ1M2AAxVTqFYBHfi_Br8Q0pQJegQICxAB%26hl%3Den&amp;sa=U&amp;ved=0ahUKEwi2htbD_bKBAxXW3TgGHSaaAQcQxs8CCFQ&amp;usg=AOvVaw1nyVnlY5tle2BgXZu2RWBV\">Sign in</a></div><div><table class=\"bookcf\"><tbody class=\"InWNIe\"><tr><td><a class=\"rEM8G\" href=\"https://www.google.com/preferences?hl=en&amp;sa=X&amp;ved=0ahUKEwi2htbD_bKBAxXW3TgGHSaaAQcQv5YECFU\">Settings</a></td><td><a class=\"rEM8G\" href=\"https://www.google.com/intl/en_in/policies/privacy/\">Privacy</a></td><td><a class=\"rEM8G\" href=\"https://www.google.com/intl/en_in/policies/terms/\">Terms</a></td></tr></tbody></table></div></div><div> </div></body></html>\n"
     ]
    }
   ],
   "source": [
    "print(soup)"
   ]
  },
  {
   "cell_type": "code",
   "execution_count": 31,
   "metadata": {},
   "outputs": [],
   "source": [
    "img_tags = soup.find_all(\"img\")"
   ]
  },
  {
   "cell_type": "code",
   "execution_count": 32,
   "metadata": {},
   "outputs": [],
   "source": [
    "del img_tags[0]"
   ]
  },
  {
   "cell_type": "code",
   "execution_count": 33,
   "metadata": {},
   "outputs": [
    {
     "data": {
      "text/plain": [
       "[<img alt=\"\" class=\"DS1iW\" src=\"https://encrypted-tbn0.gstatic.com/images?q=tbn:ANd9GcQMS33GV0Otp1HfP85DIrPSd10Ys_Px3bLi9KsQ3KUn-P2_MIPLnNXm094bcw&amp;s\"/>,\n",
       " <img alt=\"\" class=\"DS1iW\" src=\"https://encrypted-tbn0.gstatic.com/images?q=tbn:ANd9GcQBN1Fz4bQIt4b21Vzj1jxAtOr-PgJz6-3Eph-A4KxEZbDHUbz0VTEUJPzS4tM&amp;s\"/>,\n",
       " <img alt=\"\" class=\"DS1iW\" src=\"https://encrypted-tbn0.gstatic.com/images?q=tbn:ANd9GcTqPpTdkOwAtxNfBb7SY0pykvfLVS-WcGHTU9nS7UuJ2LpJ0chl489iZCI9Xtg&amp;s\"/>,\n",
       " <img alt=\"\" class=\"DS1iW\" src=\"https://encrypted-tbn0.gstatic.com/images?q=tbn:ANd9GcQdea5WSDmNdZ_FaVEVtga2on2HpFQDYDHlZo0qq1j8MuRu33UFCtnCUnP15A&amp;s\"/>,\n",
       " <img alt=\"\" class=\"DS1iW\" src=\"https://encrypted-tbn0.gstatic.com/images?q=tbn:ANd9GcT6xXvU5j6anuZqkMRNBsCRr6deBK3xi68KGEsBSTB8vKDiq5-Zt_4V-FUTOw&amp;s\"/>,\n",
       " <img alt=\"\" class=\"DS1iW\" src=\"https://encrypted-tbn0.gstatic.com/images?q=tbn:ANd9GcST5V7prTnCkYs4qstYonEHxyuqrIhj5fxjL30u7IowSC1-pYZQ627seL2_K2I&amp;s\"/>,\n",
       " <img alt=\"\" class=\"DS1iW\" src=\"https://encrypted-tbn0.gstatic.com/images?q=tbn:ANd9GcTvbQHOTfJiSQYQEsTbxL2aBe3I6xvT_8npEoik-G4xyye9KecBEixczk37Iyc&amp;s\"/>,\n",
       " <img alt=\"\" class=\"DS1iW\" src=\"https://encrypted-tbn0.gstatic.com/images?q=tbn:ANd9GcRtsqcNTCpScwFYcozb9Ny-gBLpunuSimo6I4vSVUMDTjv5tFgAY-RRP1UVWdQ&amp;s\"/>,\n",
       " <img alt=\"\" class=\"DS1iW\" src=\"https://encrypted-tbn0.gstatic.com/images?q=tbn:ANd9GcQeaGfto6MCEBZqrcXZtGXYjGGc555ds2AJppH4U9jSG2sBwArNIiWh1JyJRw&amp;s\"/>,\n",
       " <img alt=\"\" class=\"DS1iW\" src=\"https://encrypted-tbn0.gstatic.com/images?q=tbn:ANd9GcReJFby2n4GMOB9S71n-vqgestRVp1C541Hnwzz8PJLnAN2_WWuCVvxEko0uxo&amp;s\"/>,\n",
       " <img alt=\"\" class=\"DS1iW\" src=\"https://encrypted-tbn0.gstatic.com/images?q=tbn:ANd9GcSey_7NuNy2DiGaLE6cjfCjQ_qNJzO1NwuNIs3XWDhde_CdEbcnWKgxzWFbm0Q&amp;s\"/>,\n",
       " <img alt=\"\" class=\"DS1iW\" src=\"https://encrypted-tbn0.gstatic.com/images?q=tbn:ANd9GcRrumkTnPzhmLzfpptpoXkCXDorfGMr-VVtzL0ak8p-tKybw4Q_mTTApP4pGw&amp;s\"/>,\n",
       " <img alt=\"\" class=\"DS1iW\" src=\"https://encrypted-tbn0.gstatic.com/images?q=tbn:ANd9GcR5qpvS2diAIEwibO0KIwhbBlj3kJLc0GFovrEr_3g0w27GBUc6Sy5Oy_PkOw&amp;s\"/>,\n",
       " <img alt=\"\" class=\"DS1iW\" src=\"https://encrypted-tbn0.gstatic.com/images?q=tbn:ANd9GcRpSKejHrfBcZJzymVUXk6-8HX5IC5IWA1vTm6S5xhPmmTQTUrhzIz1Ss0J0z0&amp;s\"/>,\n",
       " <img alt=\"\" class=\"DS1iW\" src=\"https://encrypted-tbn0.gstatic.com/images?q=tbn:ANd9GcThqqewFLCXl6oX1nHN9foni1WDo9dVeEg93Ypy3x9oXxIA3_ZUtCQxI6Jz0Q&amp;s\"/>,\n",
       " <img alt=\"\" class=\"DS1iW\" src=\"https://encrypted-tbn0.gstatic.com/images?q=tbn:ANd9GcRVwb-_bPgKxBZqVx51F3r1VOWDeZVHiXbgnHGQpD1qdfSQx5xztCWdSP-9ig&amp;s\"/>,\n",
       " <img alt=\"\" class=\"DS1iW\" src=\"https://encrypted-tbn0.gstatic.com/images?q=tbn:ANd9GcQPrkbhQciYIQzNBgxCGC5hRKFOaO6UJxaL2jvD8-uZYuEZxnX8KRR-Ez5ZQw&amp;s\"/>,\n",
       " <img alt=\"\" class=\"DS1iW\" src=\"https://encrypted-tbn0.gstatic.com/images?q=tbn:ANd9GcRUxzFv6Kh6a35CLWDSv9cLmXCId5SmkWrXFuHbBaW3wvhaoHOGI8DKE7OYSA&amp;s\"/>,\n",
       " <img alt=\"\" class=\"DS1iW\" src=\"https://encrypted-tbn0.gstatic.com/images?q=tbn:ANd9GcTEUvgRzD2OnZjCi4TUBvH94zttixfsdT8D3vFfEGZhWXLq86hWwOqxQEO4Rpw&amp;s\"/>,\n",
       " <img alt=\"\" class=\"DS1iW\" src=\"https://encrypted-tbn0.gstatic.com/images?q=tbn:ANd9GcRbfqsVyEmBaNosJbAl8YQ8l5Q5gFTBw8WprdXUzTUuiW-D1Btr7Lx1MXKozxg&amp;s\"/>]"
      ]
     },
     "execution_count": 33,
     "metadata": {},
     "output_type": "execute_result"
    }
   ],
   "source": [
    "img_tags"
   ]
  },
  {
   "cell_type": "code",
   "execution_count": 34,
   "metadata": {},
   "outputs": [
    {
     "name": "stdout",
     "output_type": "stream",
     "text": [
      "https://encrypted-tbn0.gstatic.com/images?q=tbn:ANd9GcQMS33GV0Otp1HfP85DIrPSd10Ys_Px3bLi9KsQ3KUn-P2_MIPLnNXm094bcw&s\n",
      "https://encrypted-tbn0.gstatic.com/images?q=tbn:ANd9GcQBN1Fz4bQIt4b21Vzj1jxAtOr-PgJz6-3Eph-A4KxEZbDHUbz0VTEUJPzS4tM&s\n",
      "https://encrypted-tbn0.gstatic.com/images?q=tbn:ANd9GcTqPpTdkOwAtxNfBb7SY0pykvfLVS-WcGHTU9nS7UuJ2LpJ0chl489iZCI9Xtg&s\n",
      "https://encrypted-tbn0.gstatic.com/images?q=tbn:ANd9GcQdea5WSDmNdZ_FaVEVtga2on2HpFQDYDHlZo0qq1j8MuRu33UFCtnCUnP15A&s\n",
      "https://encrypted-tbn0.gstatic.com/images?q=tbn:ANd9GcT6xXvU5j6anuZqkMRNBsCRr6deBK3xi68KGEsBSTB8vKDiq5-Zt_4V-FUTOw&s\n",
      "https://encrypted-tbn0.gstatic.com/images?q=tbn:ANd9GcST5V7prTnCkYs4qstYonEHxyuqrIhj5fxjL30u7IowSC1-pYZQ627seL2_K2I&s\n",
      "https://encrypted-tbn0.gstatic.com/images?q=tbn:ANd9GcTvbQHOTfJiSQYQEsTbxL2aBe3I6xvT_8npEoik-G4xyye9KecBEixczk37Iyc&s\n",
      "https://encrypted-tbn0.gstatic.com/images?q=tbn:ANd9GcRtsqcNTCpScwFYcozb9Ny-gBLpunuSimo6I4vSVUMDTjv5tFgAY-RRP1UVWdQ&s\n",
      "https://encrypted-tbn0.gstatic.com/images?q=tbn:ANd9GcQeaGfto6MCEBZqrcXZtGXYjGGc555ds2AJppH4U9jSG2sBwArNIiWh1JyJRw&s\n",
      "https://encrypted-tbn0.gstatic.com/images?q=tbn:ANd9GcReJFby2n4GMOB9S71n-vqgestRVp1C541Hnwzz8PJLnAN2_WWuCVvxEko0uxo&s\n",
      "https://encrypted-tbn0.gstatic.com/images?q=tbn:ANd9GcSey_7NuNy2DiGaLE6cjfCjQ_qNJzO1NwuNIs3XWDhde_CdEbcnWKgxzWFbm0Q&s\n",
      "https://encrypted-tbn0.gstatic.com/images?q=tbn:ANd9GcRrumkTnPzhmLzfpptpoXkCXDorfGMr-VVtzL0ak8p-tKybw4Q_mTTApP4pGw&s\n",
      "https://encrypted-tbn0.gstatic.com/images?q=tbn:ANd9GcR5qpvS2diAIEwibO0KIwhbBlj3kJLc0GFovrEr_3g0w27GBUc6Sy5Oy_PkOw&s\n",
      "https://encrypted-tbn0.gstatic.com/images?q=tbn:ANd9GcRpSKejHrfBcZJzymVUXk6-8HX5IC5IWA1vTm6S5xhPmmTQTUrhzIz1Ss0J0z0&s\n",
      "https://encrypted-tbn0.gstatic.com/images?q=tbn:ANd9GcThqqewFLCXl6oX1nHN9foni1WDo9dVeEg93Ypy3x9oXxIA3_ZUtCQxI6Jz0Q&s\n",
      "https://encrypted-tbn0.gstatic.com/images?q=tbn:ANd9GcRVwb-_bPgKxBZqVx51F3r1VOWDeZVHiXbgnHGQpD1qdfSQx5xztCWdSP-9ig&s\n",
      "https://encrypted-tbn0.gstatic.com/images?q=tbn:ANd9GcQPrkbhQciYIQzNBgxCGC5hRKFOaO6UJxaL2jvD8-uZYuEZxnX8KRR-Ez5ZQw&s\n",
      "https://encrypted-tbn0.gstatic.com/images?q=tbn:ANd9GcRUxzFv6Kh6a35CLWDSv9cLmXCId5SmkWrXFuHbBaW3wvhaoHOGI8DKE7OYSA&s\n",
      "https://encrypted-tbn0.gstatic.com/images?q=tbn:ANd9GcTEUvgRzD2OnZjCi4TUBvH94zttixfsdT8D3vFfEGZhWXLq86hWwOqxQEO4Rpw&s\n",
      "https://encrypted-tbn0.gstatic.com/images?q=tbn:ANd9GcRbfqsVyEmBaNosJbAl8YQ8l5Q5gFTBw8WprdXUzTUuiW-D1Btr7Lx1MXKozxg&s\n"
     ]
    }
   ],
   "source": [
    "for i in img_tags:\n",
    "    print(i[\"src\"])"
   ]
  },
  {
   "cell_type": "code",
   "execution_count": 35,
   "metadata": {},
   "outputs": [],
   "source": [
    "\n",
    "for i in img_tags:\n",
    "    img_url = i[\"src\"]\n",
    "    img_org = requests.get(img_url).content\n",
    "    with open(os.path.join(save_dir,f\"{query}_{img_tags.index(i)}.jpeg\"),\"wb\") as f:\n",
    "        f.write(img_org)"
   ]
  },
  {
   "cell_type": "markdown",
   "metadata": {},
   "source": [
    "Generic for all queries."
   ]
  },
  {
   "cell_type": "code",
   "execution_count": 41,
   "metadata": {},
   "outputs": [
    {
     "name": "stdout",
     "output_type": "stream",
     "text": [
      "<Response [200]>\n",
      "https://encrypted-tbn0.gstatic.com/images?q=tbn:ANd9GcRiC2XADJ-A7RK-yllhsh3U6j2unVNW4FE_ZQA6K9Py80Iy_YCKpZgtgfg9qUo&s\n",
      "https://encrypted-tbn0.gstatic.com/images?q=tbn:ANd9GcQ6xsYR4CjLVxha9Sq_s4XlwQj-HNIqcq5W7d50BumxGhNrqvERD2UoIvvaXQ&s\n",
      "https://encrypted-tbn0.gstatic.com/images?q=tbn:ANd9GcSHLo-YZAit1Q45H0ovZ6Jno0fi64oBqtZw96X17t0xxDzvao4K0RVmab6KuCM&s\n",
      "https://encrypted-tbn0.gstatic.com/images?q=tbn:ANd9GcRprMzAnSdG0MkoX85Q53mMhrUc06fbNdixHMcxsHIutLslYWdNhlaAFR8vJw&s\n",
      "https://encrypted-tbn0.gstatic.com/images?q=tbn:ANd9GcQmEIgtm8qCMQDkF4tRRF0dQ1hkMd3_3iQZRT6qhvMUwZe4GWoaXmv8bBbABw&s\n",
      "https://encrypted-tbn0.gstatic.com/images?q=tbn:ANd9GcQD7U2Ywd3IaAbkLQykZqo2ymG-BGp4e3s6In9qJk-rba7vtVLa-O76jaLJUw&s\n",
      "https://encrypted-tbn0.gstatic.com/images?q=tbn:ANd9GcRuta5dEBMLBkiUAm67KT3obqj2blldkoMzF0xdvv9zAdT55ZcdvSThAIU0Ldw&s\n",
      "https://encrypted-tbn0.gstatic.com/images?q=tbn:ANd9GcQ3Z1QE2gfKKIT37BOk54FJZUhp-sruqr9oWUFA43p9pGZPkm51b7wX3s7Thnc&s\n",
      "https://encrypted-tbn0.gstatic.com/images?q=tbn:ANd9GcRipw6Gxrb8sAT6vLKTcssqHL_qx2YgwXFl0SN_7TZhf6QHzgm4coS0DF6x0K4&s\n",
      "https://encrypted-tbn0.gstatic.com/images?q=tbn:ANd9GcT2gE56CahRsfhwGGYF_iNcXfSm0vx8zrQlqKNZao6J7F5JSv--GPnfa7YhRQ&s\n",
      "https://encrypted-tbn0.gstatic.com/images?q=tbn:ANd9GcQTbUWc6B00n4mQNZn6B8dZ2VBhQBCvN_wg1w-982r8V_9LZws71lR0dpQevKk&s\n",
      "https://encrypted-tbn0.gstatic.com/images?q=tbn:ANd9GcSzJ1ndOtYcxGUQxkaFJSm0aYAP-QPZf-kHsieWqr-C0tSQWddU3VafwGN4oz0&s\n",
      "https://encrypted-tbn0.gstatic.com/images?q=tbn:ANd9GcT9ZB2Ym8MhL5T1mGpVMQApSpNNufGOUu6HysRD9maQTeMkzbhm4Q8EK5iKBg&s\n",
      "https://encrypted-tbn0.gstatic.com/images?q=tbn:ANd9GcTyM0zJa94JqIJapsd_P_yNX2vGC2AwDyWk_pbCenJ-lmmqAgZ8C2b4rNmZew&s\n",
      "https://encrypted-tbn0.gstatic.com/images?q=tbn:ANd9GcQWR2XoWBEAu91Wa6g7SH8upmFFMC3kILaV7WcV6EjNHrcI_SLZUzWsrN_VOGY&s\n",
      "https://encrypted-tbn0.gstatic.com/images?q=tbn:ANd9GcQ_zbundpamBonl7YEmO-Fa21PGKN_35M0U33ufn4IAX8i5nvjZ4UNk02vpEw&s\n",
      "https://encrypted-tbn0.gstatic.com/images?q=tbn:ANd9GcQz9EKviVTM585sWuSjSO5X8oiH439MgUV_SQVGJ4jhVyU67W0MMGo3Q4UCPQ&s\n",
      "https://encrypted-tbn0.gstatic.com/images?q=tbn:ANd9GcTvTlkwGh2j0yce5sUxpAL97OHKKweCEZ1l6FvHvB7YsPtczFPlATGvGPdNZw&s\n",
      "https://encrypted-tbn0.gstatic.com/images?q=tbn:ANd9GcT4rLeeyp6fRg3bIXdzeIawDvGKzzk7_eTZFnFCSXOHssOpeM4tAVdHHclwu4Y&s\n",
      "https://encrypted-tbn0.gstatic.com/images?q=tbn:ANd9GcSjxE3oaqwePLTFXPQuI4yJ1TDOuaFKhOQYKCkJ1gLM0uDcVA9McqU5cBOYdw&s\n"
     ]
    }
   ],
   "source": [
    "query = input(\"Enter the query : \")\n",
    "response = requests.get(f\"https://www.google.com/search?q={query}&tbm=isch&source=lnms&sa=X&ved=2ahUKEwiq4LDZ1M2AAxVTqFYBHfi_Br8Q0pQJegQICxAB\")\n",
    "print(response)\n",
    "soup = BeautifulSoup(response.content, \"html.parser\")\n",
    "img_tags = soup.find_all(\"img\")\n",
    "del img_tags[0]\n",
    "for i in img_tags:\n",
    "    print(i[\"src\"])\n",
    "    img_url = i[\"src\"]\n",
    "    img_org = requests.get(img_url).content\n",
    "    with open(os.path.join(save_dir, f\"{query}_{img_tags.index(i)}.jpeg\"), \"wb\") as f:\n",
    "        f.write(img_org)"
   ]
  },
  {
   "cell_type": "code",
   "execution_count": null,
   "metadata": {},
   "outputs": [],
   "source": []
  },
  {
   "cell_type": "code",
   "execution_count": null,
   "metadata": {},
   "outputs": [],
   "source": []
  },
  {
   "cell_type": "code",
   "execution_count": null,
   "metadata": {},
   "outputs": [],
   "source": []
  },
  {
   "cell_type": "code",
   "execution_count": null,
   "metadata": {},
   "outputs": [],
   "source": []
  }
 ],
 "metadata": {
  "kernelspec": {
   "display_name": "Python 3 (ipykernel)",
   "language": "python",
   "name": "python3"
  },
  "language_info": {
   "codemirror_mode": {
    "name": "ipython",
    "version": 3
   },
   "file_extension": ".py",
   "mimetype": "text/x-python",
   "name": "python",
   "nbconvert_exporter": "python",
   "pygments_lexer": "ipython3",
   "version": "3.11.4"
  },
  "orig_nbformat": 4
 },
 "nbformat": 4,
 "nbformat_minor": 2
}
