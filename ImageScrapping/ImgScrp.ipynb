{
 "cells": [
  {
   "cell_type": "code",
   "execution_count": 1,
   "metadata": {},
   "outputs": [],
   "source": [
    "import requests\n",
    "import logging\n",
    "import os\n",
    "from bs4 import BeautifulSoup\n",
    "from urllib.request import urlopen"
   ]
  },
  {
   "cell_type": "code",
   "execution_count": 4,
   "metadata": {},
   "outputs": [],
   "source": [
    "save_dir = \"/imgs\"\n",
    "if not os.path.exists(save_dir):\n",
    "    os.makedirs(save_dir)"
   ]
  },
  {
   "cell_type": "code",
   "execution_count": 5,
   "metadata": {},
   "outputs": [],
   "source": [
    "query=\"Space\"\n",
    "# url = https://www.google.com/search?q=query&tbm=isch&source=lnms&sa=X&ved=2ahUKEwiq4LDZ1M2AAxVTqFYBHfi_Br8Q0pQJegQICxAB"
   ]
  },
  {
   "cell_type": "code",
   "execution_count": 6,
   "metadata": {},
   "outputs": [
    {
     "name": "stdout",
     "output_type": "stream",
     "text": [
      "<Response [200]>\n"
     ]
    }
   ],
   "source": [
    "response = requests.get(f\"https://www.google.com/search?q={query}&tbm=isch&source=lnms&sa=X&ved=2ahUKEwiq4LDZ1M2AAxVTqFYBHfi_Br8Q0pQJegQICxAB\")\n",
    "print(response)"
   ]
  },
  {
   "cell_type": "code",
   "execution_count": 9,
   "metadata": {},
   "outputs": [],
   "source": [
    "soup = BeautifulSoup(response.content,\"html.parser\")"
   ]
  },
  {
   "cell_type": "code",
   "execution_count": 11,
   "metadata": {},
   "outputs": [
    {
     "name": "stdout",
     "output_type": "stream",
     "text": [
      "<!DOCTYPE html PUBLIC \"-//WAPFORUM//DTD XHTML Mobile 1.0//EN\" \"http://www.wapforum.org/DTD/xhtml-mobile10.dtd\">\n",
      "<html lang=\"en-IN\" xmlns=\"http://www.w3.org/1999/xhtml\"><head><meta content=\"application/xhtml+xml; charset=utf-8\" http-equiv=\"Content-Type\"/><meta content=\"no-cache\" name=\"Cache-Control\"/><title>Space - Google Search</title><style>a{text-decoration:none;color:inherit}a:hover{text-decoration:underline}a img{border:0}body{font-family:arial,sans-serif;padding:8px;margin:0 auto;max-width:700px;min-width:240px;}.FbhRzb{border-left:thin solid #dadce0;border-right:thin solid #dadce0;border-top:thin solid #dadce0;height:40px;overflow:hidden}.n692Zd{margin-bottom:10px}.cvifge{height:40px;border-spacing:0}.QvGUP{height:40px;padding:0 8px 0 8px;vertical-align:top}.O4cRJf{height:40px;width:100%;padding:0;padding-right:16px}.O1ePr{height:40px;padding:0;vertical-align:top}.kgJEQe{height:36px;width:98px;vertical-align:top;margin-top:4px}.lXLRf{vertical-align:top}.MhzMZd{border:0;vertical-align:middle;font-size:14px;height:40px;padding:0;width:100%;padding-left:16px}.xB0fq{height:40px;border:none;font-size:14px;background-color:#1a73e8;color:#fff;padding:0 16px;margin:0;vertical-align:top;cursor:pointer}.xB0fq:focus{border:1px solid #1a73e8}.M7pB2{border:thin solid #dadce0;margin:0 0 3px 0;font-size:13px;font-weight:500;height:40px}.euZec{width:100%;height:40px;text-align:center;border-spacing:0}table.euZec td{padding:0;width:25%}.QIqI7{display:inline-block;padding-top:4px;font-weight:bold;color:#4285f4}.EY24We{border-bottom:2px solid #4285f4}.CsQyDc{display:inline-block;color:#70757a}.TuS8Ad{font-size:14px}.HddGcc{padding:8px;color:#70757a}.dzp8ae{font-weight:bold;color:#3c4043}.rEM8G{color:#70757a}.bookcf{table-layout:fixed;width:100%;border-spacing:0}.InWNIe{text-align:center}.uZgmoc{border:thin solid #dadce0;color:#70757a;font-size:14px;text-align:center;table-layout:fixed;width:100%}.frGj1b{display:block;padding:12px 0 12px 0;width:100%}.BnJWBc{text-align:center;padding:6px 0 13px 0;height:35px}.e3goi{vertical-align:top;padding:0;height:180px}.GpQGbf{margin:auto;border-collapse:collapse;border-spacing:0;width:100%}</style></head><body><style>.X6ZCif{color:#202124;font-size:11px;line-height:16px;display:inline-block;padding-top:2px;overflow:hidden;padding-bottom:4px;width:100%}.TwVfHd{border-radius:16px;border:thin solid #dadce0;display:inline-block;padding:8px 8px;margin-right:8px;margin-bottom:4px}.yekiAe{background-color:#dadce0}.mnTahd{width:100%}.ezO2md{border:thin solid #dadce0;padding:12px 16px 12px 16px;margin-bottom:10px;font-family:arial,sans-serif}.lIMUZd{font-family:arial,sans-serif}.IkMU6e{border-spacing:0}.SjCsie{width:100%}.EnarA{text-align:center}.NZWO1b{width:162px;height:140px;line-height:140px;overflow:'hidden';text-align:center}.yWs4tf{text-align:center;margin:auto;vertical-align:middle;max-width:162px;max-height:140px}.jB2rPd{padding-top:2px;padding-bottom:8px;}.fYyStc{word-break:break-word}.ynsChf{display:block;white-space:nowrap;overflow:hidden;text-overflow:ellipsis}.Fj3V3b{color:#1967d2;font-size:14px;line-height:20px}.FrIlee{color:#202124;font-size:11px;line-height:16px}.F9iS2e{color:#70757a;font-size:11px;line-height:16px}.WMQ2Le{color:#70757a;font-size:12px;line-height:16px}.x3G5ab{color:#202124;font-size:12px;line-height:16px}.fuLhoc{color:#1967d2;font-size:16px;line-height:20px}.epoveb{font-size:24px;line-height:28px;font-weight:400;color:#202124}.dXDvrc{color:#0d652d;font-size:14px;line-height:20px;word-wrap:break-word}.dloBPe{font-weight:bold}.YVIcad{color:#70757a}.JkVVdd{color:#ea4335}.oXZRFd{color:#ea4335}.MQHtg{color:#fbbc04}.pyMRrb{color:#1e8e3e}.EtTZid{color:#1e8e3e}.M3vVJe{color:#1967d2}.qXLe6d{display:block}.NHQNef{font-style:italic}.Cb8Z7c{white-space:pre}a.ZWRArf{text-decoration:none}a .CVA68e:hover{text-decoration:underline}</style><div class=\"n692Zd\"><div class=\"BnJWBc\"><a class=\"lXLRf\" href=\"/?sa=X&amp;output=images&amp;ie=UTF-8&amp;tbm=isch&amp;ved=0ahUKEwiUvMHZ1c2AAxWx1TgGHfjNBVsQPAgC\"><img alt=\"Google\" class=\"kgJEQe\" src=\"/images/branding/searchlogo/1x/googlelogo_desk_heirloom_color_150x55dp.gif\"/></a></div><div class=\"FbhRzb\"><form action=\"/search\"><input name=\"ie\" type=\"hidden\" value=\"ISO-8859-1\"/><input name=\"tbm\" type=\"hidden\" value=\"isch\"/><input name=\"oq\" type=\"hidden\"/><input name=\"aqs\" type=\"hidden\"/><table class=\"cvifge\"><tr><td class=\"O4cRJf\"><input class=\"MhzMZd\" name=\"q\" type=\"text\" value=\"Space\"/></td><td class=\"O1ePr\"><input class=\"xB0fq\" type=\"submit\" value=\"Search\"/></td></tr></table></form></div><div class=\"M7pB2\"><table class=\"euZec\"><tbody><tr><td><a class=\"CsQyDc\" href=\"/search?q=Space&amp;ie=UTF-8&amp;source=lnms&amp;sa=X&amp;ved=0ahUKEwiUvMHZ1c2AAxWx1TgGHfjNBVsQ_AUIBCgA\">ALL</a></td><td class=\"EY24We\"><span class=\"QIqI7\">IMAGES</span></td><td><a class=\"CsQyDc\" href=\"/search?q=Space&amp;ie=UTF-8&amp;tbm=nws&amp;source=lnms&amp;sa=X&amp;ved=0ahUKEwiUvMHZ1c2AAxWx1TgGHfjNBVsQ_AUIBigC\">NEWS</a></td><td><a class=\"CsQyDc\" href=\"/search?q=Space&amp;ie=UTF-8&amp;tbm=vid&amp;source=lnms&amp;sa=X&amp;ved=0ahUKEwiUvMHZ1c2AAxWx1TgGHfjNBVsQ_AUIBygD\">VIDEOS</a></td></tr></tbody></table></div></div><div class=\"X6ZCif\"><a class=\"TwVfHd\" href=\"/search?ie=UTF-8&amp;tbm=isch&amp;q=Space&amp;chips=q:space,g_1:galaxy&amp;sa=X&amp;ved=0ahUKEwiUvMHZ1c2AAxWx1TgGHfjNBVsQ4lYICygA\">galaxy</a><a class=\"TwVfHd\" href=\"/search?ie=UTF-8&amp;tbm=isch&amp;q=Space&amp;chips=q:space,g_1:wallpaper&amp;sa=X&amp;ved=0ahUKEwiUvMHZ1c2AAxWx1TgGHfjNBVsQ4lYIDCgB\">wallpaper</a><a class=\"TwVfHd\" href=\"/search?ie=UTF-8&amp;tbm=isch&amp;q=Space&amp;chips=q:space,g_1:aesthetic&amp;sa=X&amp;ved=0ahUKEwiUvMHZ1c2AAxWx1TgGHfjNBVsQ4lYIDSgC\">aesthetic</a><a class=\"TwVfHd\" href=\"/search?ie=UTF-8&amp;tbm=isch&amp;q=Space&amp;chips=q:space,g_1:nebula&amp;sa=X&amp;ved=0ahUKEwiUvMHZ1c2AAxWx1TgGHfjNBVsQ4lYIDigD\">nebula</a><a class=\"TwVfHd\" href=\"/search?ie=UTF-8&amp;tbm=isch&amp;q=Space&amp;chips=q:space,g_1:high+resolution&amp;sa=X&amp;ved=0ahUKEwiUvMHZ1c2AAxWx1TgGHfjNBVsQ4lYIDygE\">high resolution</a><a class=\"TwVfHd\" href=\"/search?ie=UTF-8&amp;tbm=isch&amp;q=Space&amp;chips=q:space,g_1:planet&amp;sa=X&amp;ved=0ahUKEwiUvMHZ1c2AAxWx1TgGHfjNBVsQ4lYIECgF\">planet</a><a class=\"TwVfHd\" href=\"/search?ie=UTF-8&amp;tbm=isch&amp;q=Space&amp;chips=q:space,g_1:universe&amp;sa=X&amp;ved=0ahUKEwiUvMHZ1c2AAxWx1TgGHfjNBVsQ4lYIESgG\">universe</a><a class=\"TwVfHd\" href=\"/search?ie=UTF-8&amp;tbm=isch&amp;q=Space&amp;chips=q:space,g_1:earth&amp;sa=X&amp;ved=0ahUKEwiUvMHZ1c2AAxWx1TgGHfjNBVsQ4lYIEigH\">earth</a><a class=\"TwVfHd\" href=\"/search?ie=UTF-8&amp;tbm=isch&amp;q=Space&amp;chips=q:space,g_1:solar+system&amp;sa=X&amp;ved=0ahUKEwiUvMHZ1c2AAxWx1TgGHfjNBVsQ4lYIEygI\">solar system</a><a class=\"TwVfHd\" href=\"/search?ie=UTF-8&amp;tbm=isch&amp;q=Space&amp;chips=q:space,g_1:blue&amp;sa=X&amp;ved=0ahUKEwiUvMHZ1c2AAxWx1TgGHfjNBVsQ4lYIFCgJ\">blue</a></div><div><table class=\"GpQGbf\"><tr><td align=\"center\" class=\"e3goi\"><div class=\"mnTahd\"> <div> <div class=\"lIMUZd\"><div><table class=\"IkMU6e\"><tr><td><a href=\"/url?q=https://starwalk.space/en/news/what-is-space&amp;sa=U&amp;ved=2ahUKEwiUvMHZ1c2AAxWx1TgGHfjNBVsQqoUBegQIARAB&amp;usg=AOvVaw0nj1osjrlgmwqnmH4hfeXz\"><div class=\"NZWO1b\"><img alt=\"\" class=\"yWs4tf\" src=\"https://encrypted-tbn0.gstatic.com/images?q=tbn:ANd9GcQMS33GV0Otp1HfP85DIrPSd10Ys_Px3bLi9KsQ3KUn-P2_MIPLnNXm094bcw&amp;s\"/></div></a></td></tr><tr><td><a href=\"/url?q=https://starwalk.space/en/news/what-is-space&amp;sa=U&amp;ved=2ahUKEwiUvMHZ1c2AAxWx1TgGHfjNBVsQr4kDegQIARAC&amp;usg=AOvVaw2MZo3217jCBRw1h58jRq8M\"><div class=\"jB2rPd\"> <span class=\"qXLe6d x3G5ab\"> <span class=\"fYyStc\">What Does Space Look Like |...</span> </span> <span class=\"qXLe6d F9iS2e\"> <span class=\"fYyStc\">starwalk.space</span> </span> </div></a></td></tr></table></div></div> </div> </div></td><td align=\"center\" class=\"e3goi\"><div class=\"mnTahd\"> <div> <div class=\"lIMUZd\"><div><table class=\"IkMU6e\"><tr><td><a href=\"/url?q=https://www.freepik.com/free-photos-vectors/space-background&amp;sa=U&amp;ved=2ahUKEwiUvMHZ1c2AAxWx1TgGHfjNBVsQqoUBegQIExAB&amp;usg=AOvVaw08kD5PHJqN35UUr4yJQHAT\"><div class=\"NZWO1b\"><img alt=\"\" class=\"yWs4tf\" src=\"https://encrypted-tbn0.gstatic.com/images?q=tbn:ANd9GcT6xXvU5j6anuZqkMRNBsCRr6deBK3xi68KGEsBSTB8vKDiq5-Zt_4V-FUTOw&amp;s\"/></div></a></td></tr><tr><td><a href=\"/url?q=https://www.freepik.com/free-photos-vectors/space-background&amp;sa=U&amp;ved=2ahUKEwiUvMHZ1c2AAxWx1TgGHfjNBVsQr4kDegQIExAC&amp;usg=AOvVaw06kwFhiX8sOP3Sc049Qfqs\"><div class=\"jB2rPd\"> <span class=\"qXLe6d x3G5ab\"> <span class=\"fYyStc\">Space Background Images -...</span> </span> <span class=\"qXLe6d F9iS2e\"> <span class=\"fYyStc\">www.freepik.com</span> </span> </div></a></td></tr></table></div></div> </div> </div></td><td align=\"center\" class=\"e3goi\"><div class=\"mnTahd\"> <div> <div class=\"lIMUZd\"><div><table class=\"IkMU6e\"><tr><td><a href=\"/url?q=https://www.nasa.gov/feature/goddard/2023/nasa-s-webb-proves-galaxies-transformed-the-early-universe&amp;sa=U&amp;ved=2ahUKEwiUvMHZ1c2AAxWx1TgGHfjNBVsQqoUBegQIEhAB&amp;usg=AOvVaw1Q_hzh-dV2zLs0WXuHFiey\"><div class=\"NZWO1b\"><img alt=\"\" class=\"yWs4tf\" src=\"https://encrypted-tbn0.gstatic.com/images?q=tbn:ANd9GcRReRcq2pxNluyiL73jZ8hHX_LQzsrF9oKBGIS9xnVnHH9OokLAnwO5M3xw6w&amp;s\"/></div></a></td></tr><tr><td><a href=\"/url?q=https://www.nasa.gov/feature/goddard/2023/nasa-s-webb-proves-galaxies-transformed-the-early-universe&amp;sa=U&amp;ved=2ahUKEwiUvMHZ1c2AAxWx1TgGHfjNBVsQr4kDegQIEhAC&amp;usg=AOvVaw02sMypTaCP3udBHjpG6Cmi\"><div class=\"jB2rPd\"> <span class=\"qXLe6d x3G5ab\"> <span class=\"fYyStc\">NASA's Webb Proves Galaxies...</span> </span> <span class=\"qXLe6d F9iS2e\"> <span class=\"fYyStc\">www.nasa.gov</span> </span> </div></a></td></tr></table></div></div> </div> </div></td><td align=\"center\" class=\"e3goi\"><div class=\"mnTahd\"> <div> <div class=\"lIMUZd\"><div><table class=\"IkMU6e\"><tr><td><a href=\"/url?q=https://unsplash.com/images/nature/space&amp;sa=U&amp;ved=2ahUKEwiUvMHZ1c2AAxWx1TgGHfjNBVsQqoUBegQIEBAB&amp;usg=AOvVaw26mbYH7c8xKhuJb_i5mhU0\"><div class=\"NZWO1b\"><img alt=\"\" class=\"yWs4tf\" src=\"https://encrypted-tbn0.gstatic.com/images?q=tbn:ANd9GcQdea5WSDmNdZ_FaVEVtga2on2HpFQDYDHlZo0qq1j8MuRu33UFCtnCUnP15A&amp;s\"/></div></a></td></tr><tr><td><a href=\"/url?q=https://unsplash.com/images/nature/space&amp;sa=U&amp;ved=2ahUKEwiUvMHZ1c2AAxWx1TgGHfjNBVsQr4kDegQIEBAC&amp;usg=AOvVaw3LlYEp_Rhq4ptYENw3kpKA\"><div class=\"jB2rPd\"> <span class=\"qXLe6d x3G5ab\"> <span class=\"fYyStc\">20+ Space Pictures &amp; Images...</span> </span> <span class=\"qXLe6d F9iS2e\"> <span class=\"fYyStc\">unsplash.com</span> </span> </div></a></td></tr></table></div></div> </div> </div></td></tr><tr><td align=\"center\" class=\"e3goi\"><div class=\"mnTahd\"> <div> <div class=\"lIMUZd\"><div><table class=\"IkMU6e\"><tr><td><a href=\"/url?q=https://science.howstuffworks.com/space-smell.htm&amp;sa=U&amp;ved=2ahUKEwiUvMHZ1c2AAxWx1TgGHfjNBVsQqoUBegQIERAB&amp;usg=AOvVaw02uPAUS7Yb1C-ka7YY5vLs\"><div class=\"NZWO1b\"><img alt=\"\" class=\"yWs4tf\" src=\"https://encrypted-tbn0.gstatic.com/images?q=tbn:ANd9GcQBN1Fz4bQIt4b21Vzj1jxAtOr-PgJz6-3Eph-A4KxEZbDHUbz0VTEUJPzS4tM&amp;s\"/></div></a></td></tr><tr><td><a href=\"/url?q=https://science.howstuffworks.com/space-smell.htm&amp;sa=U&amp;ved=2ahUKEwiUvMHZ1c2AAxWx1TgGHfjNBVsQr4kDegQIERAC&amp;usg=AOvVaw23BIMq9ZFq9F7qocd8IXw-\"><div class=\"jB2rPd\"> <span class=\"qXLe6d x3G5ab\"> <span class=\"fYyStc\">What Does Space Smell Like?...</span> </span> <span class=\"qXLe6d F9iS2e\"> <span class=\"fYyStc\">science.howstuffworks.com</span> </span> </div></a></td></tr></table></div></div> </div> </div></td><td align=\"center\" class=\"e3goi\"><div class=\"mnTahd\"> <div> <div class=\"lIMUZd\"><div><table class=\"IkMU6e\"><tr><td><a href=\"/url?q=https://www.nasa.gov/feature/goddard/2023/webb-celebrates-first-year-of-science-with-new-image&amp;sa=U&amp;ved=2ahUKEwiUvMHZ1c2AAxWx1TgGHfjNBVsQqoUBegQIDhAB&amp;usg=AOvVaw2OUin2GbCTkFsHSmwZVxN9\"><div class=\"NZWO1b\"><img alt=\"\" class=\"yWs4tf\" src=\"https://encrypted-tbn0.gstatic.com/images?q=tbn:ANd9GcTanRnxNVo9oziYK95R3YKj4zfUNWOp8CEznsNQoQm-ji9SzQ-VJYopJ5Njp0I&amp;s\"/></div></a></td></tr><tr><td><a href=\"/url?q=https://www.nasa.gov/feature/goddard/2023/webb-celebrates-first-year-of-science-with-new-image&amp;sa=U&amp;ved=2ahUKEwiUvMHZ1c2AAxWx1TgGHfjNBVsQr4kDegQIDhAC&amp;usg=AOvVaw2ZRi5qGUycb9hDjSPmlOt8\"><div class=\"jB2rPd\"> <span class=\"qXLe6d x3G5ab\"> <span class=\"fYyStc\">Webb Celebrates First Year...</span> </span> <span class=\"qXLe6d F9iS2e\"> <span class=\"fYyStc\">www.nasa.gov</span> </span> </div></a></td></tr></table></div></div> </div> </div></td><td align=\"center\" class=\"e3goi\"><div class=\"mnTahd\"> <div> <div class=\"lIMUZd\"><div><table class=\"IkMU6e\"><tr><td><a href=\"/url?q=https://pixabay.com/images/search/space/&amp;sa=U&amp;ved=2ahUKEwiUvMHZ1c2AAxWx1TgGHfjNBVsQqoUBegQIDBAB&amp;usg=AOvVaw0nUICEHThV5zZ2rosvDHhM\"><div class=\"NZWO1b\"><img alt=\"\" class=\"yWs4tf\" src=\"https://encrypted-tbn0.gstatic.com/images?q=tbn:ANd9GcTvbQHOTfJiSQYQEsTbxL2aBe3I6xvT_8npEoik-G4xyye9KecBEixczk37Iyc&amp;s\"/></div></a></td></tr><tr><td><a href=\"/url?q=https://pixabay.com/images/search/space/&amp;sa=U&amp;ved=2ahUKEwiUvMHZ1c2AAxWx1TgGHfjNBVsQr4kDegQIDBAC&amp;usg=AOvVaw1NIUyaLcTdTjF6rXJ7iIwo\"><div class=\"jB2rPd\"> <span class=\"qXLe6d x3G5ab\"> <span class=\"fYyStc\">20,000+ Best Free Space...</span> </span> <span class=\"qXLe6d F9iS2e\"> <span class=\"fYyStc\">pixabay.com</span> </span> </div></a></td></tr></table></div></div> </div> </div></td><td align=\"center\" class=\"e3goi\"><div class=\"mnTahd\"> <div> <div class=\"lIMUZd\"><div><table class=\"IkMU6e\"><tr><td><a href=\"/url?q=https://www.space.com/how-cold-is-space&amp;sa=U&amp;ved=2ahUKEwiUvMHZ1c2AAxWx1TgGHfjNBVsQqoUBegQIDxAB&amp;usg=AOvVaw2HxNmlPLN9Si3cqArp9HPK\"><div class=\"NZWO1b\"><img alt=\"\" class=\"yWs4tf\" src=\"https://encrypted-tbn0.gstatic.com/images?q=tbn:ANd9GcThqqewFLCXl6oX1nHN9foni1WDo9dVeEg93Ypy3x9oXxIA3_ZUtCQxI6Jz0Q&amp;s\"/></div></a></td></tr><tr><td><a href=\"/url?q=https://www.space.com/how-cold-is-space&amp;sa=U&amp;ved=2ahUKEwiUvMHZ1c2AAxWx1TgGHfjNBVsQr4kDegQIDxAC&amp;usg=AOvVaw1IQYXGVc8jPlbmyv0VOGxh\"><div class=\"jB2rPd\"> <span class=\"qXLe6d x3G5ab\"> <span class=\"fYyStc\">How cold is space? Physics...</span> </span> <span class=\"qXLe6d F9iS2e\"> <span class=\"fYyStc\">www.space.com</span> </span> </div></a></td></tr></table></div></div> </div> </div></td></tr><tr><td align=\"center\" class=\"e3goi\"><div class=\"mnTahd\"> <div> <div class=\"lIMUZd\"><div><table class=\"IkMU6e\"><tr><td><a href=\"/url?q=https://www.vecteezy.com/free-vector/space-background&amp;sa=U&amp;ved=2ahUKEwiUvMHZ1c2AAxWx1TgGHfjNBVsQqoUBegQIDRAB&amp;usg=AOvVaw3buTk5gS9gk15XsCc6wTQl\"><div class=\"NZWO1b\"><img alt=\"\" class=\"yWs4tf\" src=\"https://encrypted-tbn0.gstatic.com/images?q=tbn:ANd9GcQ7DFmM8xyD00wfGZVnwQ_OeEbKav0dBN426aOk9J50Ug-KnTF6tRrLK09qEU8&amp;s\"/></div></a></td></tr><tr><td><a href=\"/url?q=https://www.vecteezy.com/free-vector/space-background&amp;sa=U&amp;ved=2ahUKEwiUvMHZ1c2AAxWx1TgGHfjNBVsQr4kDegQIDRAC&amp;usg=AOvVaw3NbAICfQdt35F4iG1WvQ18\"><div class=\"jB2rPd\"> <span class=\"qXLe6d x3G5ab\"> <span class=\"fYyStc\">Space Background Vector...</span> </span> <span class=\"qXLe6d F9iS2e\"> <span class=\"fYyStc\">www.vecteezy.com</span> </span> </div></a></td></tr></table></div></div> </div> </div></td><td align=\"center\" class=\"e3goi\"><div class=\"mnTahd\"> <div> <div class=\"lIMUZd\"><div><table class=\"IkMU6e\"><tr><td><a href=\"/url?q=https://www.newsweek.com/building-framework-public-space-education-1809982&amp;sa=U&amp;ved=2ahUKEwiUvMHZ1c2AAxWx1TgGHfjNBVsQqoUBegQICRAB&amp;usg=AOvVaw3zp75R895sgp1xQnOQ0uXZ\"><div class=\"NZWO1b\"><img alt=\"\" class=\"yWs4tf\" src=\"https://encrypted-tbn0.gstatic.com/images?q=tbn:ANd9GcQx39eP69SOyifE-hfGTp2cLOa8I_b0ez6IpYq8UPEY8cnf5mVoXtCCUF3EXQ&amp;s\"/></div></a></td></tr><tr><td><a href=\"/url?q=https://www.newsweek.com/building-framework-public-space-education-1809982&amp;sa=U&amp;ved=2ahUKEwiUvMHZ1c2AAxWx1TgGHfjNBVsQr4kDegQICRAC&amp;usg=AOvVaw3WDKzeYJ7JVz4hc9R7xSaY\"><div class=\"jB2rPd\"> <span class=\"qXLe6d x3G5ab\"> <span class=\"fYyStc\">Building A Framework for...</span> </span> <span class=\"qXLe6d F9iS2e\"> <span class=\"fYyStc\">www.newsweek.com</span> </span> </div></a></td></tr></table></div></div> </div> </div></td><td align=\"center\" class=\"e3goi\"><div class=\"mnTahd\"> <div> <div class=\"lIMUZd\"><div><table class=\"IkMU6e\"><tr><td><a href=\"/url?q=https://www.freepik.com/vectors/space&amp;sa=U&amp;ved=2ahUKEwiUvMHZ1c2AAxWx1TgGHfjNBVsQqoUBegQIChAB&amp;usg=AOvVaw3500OcdnFGex3UEEFzT6nU\"><div class=\"NZWO1b\"><img alt=\"\" class=\"yWs4tf\" src=\"https://encrypted-tbn0.gstatic.com/images?q=tbn:ANd9GcQPrkbhQciYIQzNBgxCGC5hRKFOaO6UJxaL2jvD8-uZYuEZxnX8KRR-Ez5ZQw&amp;s\"/></div></a></td></tr><tr><td><a href=\"/url?q=https://www.freepik.com/vectors/space&amp;sa=U&amp;ved=2ahUKEwiUvMHZ1c2AAxWx1TgGHfjNBVsQr4kDegQIChAC&amp;usg=AOvVaw2giQXR239S1EpKuYlhQXfR\"><div class=\"jB2rPd\"> <span class=\"qXLe6d x3G5ab\"> <span class=\"fYyStc\">Space Vectors &amp;...</span> </span> <span class=\"qXLe6d F9iS2e\"> <span class=\"fYyStc\">www.freepik.com</span> </span> </div></a></td></tr></table></div></div> </div> </div></td><td align=\"center\" class=\"e3goi\"><div class=\"mnTahd\"> <div> <div class=\"lIMUZd\"><div><table class=\"IkMU6e\"><tr><td><a href=\"/url?q=https://en.wikipedia.org/wiki/Universe&amp;sa=U&amp;ved=2ahUKEwiUvMHZ1c2AAxWx1TgGHfjNBVsQqoUBegQICxAB&amp;usg=AOvVaw1mBpSyzGOt6wculvrYxQXf\"><div class=\"NZWO1b\"><img alt=\"\" class=\"yWs4tf\" src=\"https://encrypted-tbn0.gstatic.com/images?q=tbn:ANd9GcST5V7prTnCkYs4qstYonEHxyuqrIhj5fxjL30u7IowSC1-pYZQ627seL2_K2I&amp;s\"/></div></a></td></tr><tr><td><a href=\"/url?q=https://en.wikipedia.org/wiki/Universe&amp;sa=U&amp;ved=2ahUKEwiUvMHZ1c2AAxWx1TgGHfjNBVsQr4kDegQICxAC&amp;usg=AOvVaw0_J7l9uiObwk_OvpUGPu_V\"><div class=\"jB2rPd\"> <span class=\"qXLe6d x3G5ab\"> <span class=\"fYyStc\">Universe - Wikipedia</span> </span> <span class=\"qXLe6d F9iS2e\"> <span class=\"fYyStc\">en.wikipedia.org</span> </span> </div></a></td></tr></table></div></div> </div> </div></td></tr><tr><td align=\"center\" class=\"e3goi\"><div class=\"mnTahd\"> <div> <div class=\"lIMUZd\"><div><table class=\"IkMU6e\"><tr><td><a href=\"/url?q=https://www.popularmechanics.com/space/a44617126/how-you-would-die-in-the-vacuum-of-space/&amp;sa=U&amp;ved=2ahUKEwiUvMHZ1c2AAxWx1TgGHfjNBVsQqoUBegQIAxAB&amp;usg=AOvVaw2yGwINx0M3_CvkFjsrmVnX\"><div class=\"NZWO1b\"><img alt=\"\" class=\"yWs4tf\" src=\"https://encrypted-tbn0.gstatic.com/images?q=tbn:ANd9GcQZh3i9GmyIb-jpNtSik1rQ1G4Bp8rdsrAEH-3Oiu11i17FjGc2_H1xgcQTCPc&amp;s\"/></div></a></td></tr><tr><td><a href=\"/url?q=https://www.popularmechanics.com/space/a44617126/how-you-would-die-in-the-vacuum-of-space/&amp;sa=U&amp;ved=2ahUKEwiUvMHZ1c2AAxWx1TgGHfjNBVsQr4kDegQIAxAC&amp;usg=AOvVaw0JUV2-Cl7rRLzGgI-eyVOg\"><div class=\"jB2rPd\"> <span class=\"qXLe6d x3G5ab\"> <span class=\"fYyStc\">A Cosmologist Describes...</span> </span> <span class=\"qXLe6d F9iS2e\"> <span class=\"fYyStc\">www.popularmechanics.com</span> </span> </div></a></td></tr></table></div></div> </div> </div></td><td align=\"center\" class=\"e3goi\"><div class=\"mnTahd\"> <div> <div class=\"lIMUZd\"><div><table class=\"IkMU6e\"><tr><td><a href=\"/url?q=https://www.pexels.com/search/space/&amp;sa=U&amp;ved=2ahUKEwiUvMHZ1c2AAxWx1TgGHfjNBVsQqoUBegQIBRAB&amp;usg=AOvVaw1-DhJBsJeMcECUvB0ywWix\"><div class=\"NZWO1b\"><img alt=\"\" class=\"yWs4tf\" src=\"https://encrypted-tbn0.gstatic.com/images?q=tbn:ANd9GcRVwb-_bPgKxBZqVx51F3r1VOWDeZVHiXbgnHGQpD1qdfSQx5xztCWdSP-9ig&amp;s\"/></div></a></td></tr><tr><td><a href=\"/url?q=https://www.pexels.com/search/space/&amp;sa=U&amp;ved=2ahUKEwiUvMHZ1c2AAxWx1TgGHfjNBVsQr4kDegQIBRAC&amp;usg=AOvVaw0XsEJoN3cJIzsvDUXT0dv2\"><div class=\"jB2rPd\"> <span class=\"qXLe6d x3G5ab\"> <span class=\"fYyStc\">30,000+ Best Space Photos ·...</span> </span> <span class=\"qXLe6d F9iS2e\"> <span class=\"fYyStc\">www.pexels.com</span> </span> </div></a></td></tr></table></div></div> </div> </div></td><td align=\"center\" class=\"e3goi\"><div class=\"mnTahd\"> <div> <div class=\"lIMUZd\"><div><table class=\"IkMU6e\"><tr><td><a href=\"/url?q=https://www.collinsaerospace.com/what-we-do/industries/space&amp;sa=U&amp;ved=2ahUKEwiUvMHZ1c2AAxWx1TgGHfjNBVsQqoUBegQIBBAB&amp;usg=AOvVaw3u9YYJ2BAsAKNHQ-DBzE2p\"><div class=\"NZWO1b\"><img alt=\"\" class=\"yWs4tf\" src=\"https://encrypted-tbn0.gstatic.com/images?q=tbn:ANd9GcSey_7NuNy2DiGaLE6cjfCjQ_qNJzO1NwuNIs3XWDhde_CdEbcnWKgxzWFbm0Q&amp;s\"/></div></a></td></tr><tr><td><a href=\"/url?q=https://www.collinsaerospace.com/what-we-do/industries/space&amp;sa=U&amp;ved=2ahUKEwiUvMHZ1c2AAxWx1TgGHfjNBVsQr4kDegQIBBAC&amp;usg=AOvVaw1YabKv4bDLBpfSohgRQJ3C\"><div class=\"jB2rPd\"> <span class=\"qXLe6d x3G5ab\"> <span class=\"fYyStc\">Space | Collins Aerospace</span> </span> <span class=\"qXLe6d F9iS2e\"> <span class=\"fYyStc\">www.collinsaerospace.com</span> </span> </div></a></td></tr></table></div></div> </div> </div></td><td align=\"center\" class=\"e3goi\"><div class=\"mnTahd\"> <div> <div class=\"lIMUZd\"><div><table class=\"IkMU6e\"><tr><td><a href=\"/url?q=https://www.nationalgeographic.com/science/article/galaxies&amp;sa=U&amp;ved=2ahUKEwiUvMHZ1c2AAxWx1TgGHfjNBVsQqoUBegQIABAB&amp;usg=AOvVaw0Awsy_fr2DpdF81tqmWmpU\"><div class=\"NZWO1b\"><img alt=\"\" class=\"yWs4tf\" src=\"https://encrypted-tbn0.gstatic.com/images?q=tbn:ANd9GcSmFMK3JrY_jeyQ4IEjiYrSSnFraeydPaLYTSbZdxxb6ADLCxAJ6jQ_IR5mIg&amp;s\"/></div></a></td></tr><tr><td><a href=\"/url?q=https://www.nationalgeographic.com/science/article/galaxies&amp;sa=U&amp;ved=2ahUKEwiUvMHZ1c2AAxWx1TgGHfjNBVsQr4kDegQIABAC&amp;usg=AOvVaw1OVMSb_BOVjPlAdagHUQYy\"><div class=\"jB2rPd\"> <span class=\"qXLe6d x3G5ab\"> <span class=\"fYyStc\">Galaxies—facts and...</span> </span> <span class=\"qXLe6d F9iS2e\"> <span class=\"fYyStc\">www.nationalgeographic.com</span> </span> </div></a></td></tr></table></div></div> </div> </div></td></tr><tr><td align=\"center\" class=\"e3goi\"><div class=\"mnTahd\"> <div> <div class=\"lIMUZd\"><div><table class=\"IkMU6e\"><tr><td><a href=\"/url?q=https://www.pexels.com/search/space/&amp;sa=U&amp;ved=2ahUKEwiUvMHZ1c2AAxWx1TgGHfjNBVsQqoUBegQIBhAB&amp;usg=AOvVaw0dp0-A4kGNnZp0zaTMmu6P\"><div class=\"NZWO1b\"><img alt=\"\" class=\"yWs4tf\" src=\"https://encrypted-tbn0.gstatic.com/images?q=tbn:ANd9GcRnyafh7CdqKhGfBxa-Qvdmw3h78od3bKwDHiYOJDowSDR4TqSYK5yO4-RITvM&amp;s\"/></div></a></td></tr><tr><td><a href=\"/url?q=https://www.pexels.com/search/space/&amp;sa=U&amp;ved=2ahUKEwiUvMHZ1c2AAxWx1TgGHfjNBVsQr4kDegQIBhAC&amp;usg=AOvVaw0OkQ_4e_STd0xxGmi_NZL3\"><div class=\"jB2rPd\"> <span class=\"qXLe6d x3G5ab\"> <span class=\"fYyStc\">30,000+ Best Space Photos ·...</span> </span> <span class=\"qXLe6d F9iS2e\"> <span class=\"fYyStc\">www.pexels.com</span> </span> </div></a></td></tr></table></div></div> </div> </div></td><td align=\"center\" class=\"e3goi\"><div class=\"mnTahd\"> <div> <div class=\"lIMUZd\"><div><table class=\"IkMU6e\"><tr><td><a href=\"/url?q=https://www.astronomy.com/science/astro-for-kids-how-many-stars-are-there-in-space/&amp;sa=U&amp;ved=2ahUKEwiUvMHZ1c2AAxWx1TgGHfjNBVsQqoUBegQICBAB&amp;usg=AOvVaw2sufhJvATmBsZ2rc0hefJn\"><div class=\"NZWO1b\"><img alt=\"\" class=\"yWs4tf\" src=\"https://encrypted-tbn0.gstatic.com/images?q=tbn:ANd9GcQeaGfto6MCEBZqrcXZtGXYjGGc555ds2AJppH4U9jSG2sBwArNIiWh1JyJRw&amp;s\"/></div></a></td></tr><tr><td><a href=\"/url?q=https://www.astronomy.com/science/astro-for-kids-how-many-stars-are-there-in-space/&amp;sa=U&amp;ved=2ahUKEwiUvMHZ1c2AAxWx1TgGHfjNBVsQr4kDegQICBAC&amp;usg=AOvVaw2QDgke-qypeyKhoHzVjxs9\"><div class=\"jB2rPd\"> <span class=\"qXLe6d x3G5ab\"> <span class=\"fYyStc\">Astro for kids: How many...</span> </span> <span class=\"qXLe6d F9iS2e\"> <span class=\"fYyStc\">www.astronomy.com</span> </span> </div></a></td></tr></table></div></div> </div> </div></td><td align=\"center\" class=\"e3goi\"><div class=\"mnTahd\"> <div> <div class=\"lIMUZd\"><div><table class=\"IkMU6e\"><tr><td><a href=\"/url?q=https://www.theatlantic.com/science/archive/2023/01/unique-nostalgia-space/672639/&amp;sa=U&amp;ved=2ahUKEwiUvMHZ1c2AAxWx1TgGHfjNBVsQqoUBegQIBxAB&amp;usg=AOvVaw035d8LWYIckGWoV6iU5Ydy\"><div class=\"NZWO1b\"><img alt=\"\" class=\"yWs4tf\" src=\"https://encrypted-tbn0.gstatic.com/images?q=tbn:ANd9GcQwtq6pQdGs0l9u1RossLc6aShgJjuU6icjCH0jatw_v8pMoT1Lx50MF5ghvQ&amp;s\"/></div></a></td></tr><tr><td><a href=\"/url?q=https://www.theatlantic.com/science/archive/2023/01/unique-nostalgia-space/672639/&amp;sa=U&amp;ved=2ahUKEwiUvMHZ1c2AAxWx1TgGHfjNBVsQr4kDegQIBxAC&amp;usg=AOvVaw0TJd068G3L0_mrJlxZ84ij\"><div class=\"jB2rPd\"> <span class=\"qXLe6d x3G5ab\"> <span class=\"fYyStc\">The Existential Wonder of...</span> </span> <span class=\"qXLe6d F9iS2e\"> <span class=\"fYyStc\">www.theatlantic.com</span> </span> </div></a></td></tr></table></div></div> </div> </div></td><td align=\"center\" class=\"e3goi\"><div class=\"mnTahd\"> <div> <div class=\"lIMUZd\"><div><table class=\"IkMU6e\"><tr><td><a href=\"/url?q=https://spaceplace.nasa.gov/galaxy/en/&amp;sa=U&amp;ved=2ahUKEwiUvMHZ1c2AAxWx1TgGHfjNBVsQqoUBegQIAhAB&amp;usg=AOvVaw1Exi015rrttqpig4PBCMH6\"><div class=\"NZWO1b\"><img alt=\"\" class=\"yWs4tf\" src=\"https://encrypted-tbn0.gstatic.com/images?q=tbn:ANd9GcTdeN-cgGBtMDUtuXM511jp9IikZ7UryNJV3Fnir6cqG3OLFzPxvKtBGa80hQ&amp;s\"/></div></a></td></tr><tr><td><a href=\"/url?q=https://spaceplace.nasa.gov/galaxy/en/&amp;sa=U&amp;ved=2ahUKEwiUvMHZ1c2AAxWx1TgGHfjNBVsQr4kDegQIAhAC&amp;usg=AOvVaw1VlPdxIRp13Hk2j3JwViOF\"><div class=\"jB2rPd\"> <span class=\"qXLe6d x3G5ab\"> <span class=\"fYyStc\">What Is a Galaxy? | NASA...</span> </span> <span class=\"qXLe6d F9iS2e\"> <span class=\"fYyStc\">spaceplace.nasa.gov</span> </span> </div></a></td></tr></table></div></div> </div> </div></td></tr></table></div><table class=\"uZgmoc\"><tbody><td><a class=\"frGj1b\" href=\"/search?q=Space&amp;ie=UTF-8&amp;tbm=isch&amp;ei=ZIbSZJT6M7Gr4-EP-JuX2AU&amp;start=20&amp;sa=N\">Next &gt;</a></td></tbody></table><br/><div class=\"TuS8Ad\" data-ved=\"0ahUKEwiUvMHZ1c2AAxWx1TgGHfjNBVsQpyoIUg\"><style>.VYM29{font-weight:bold}</style><div align=\"center\" class=\"HddGcc\"><span class=\"VYM29\">Bengaluru, Karnataka</span><span> - </span><span>From your IP address</span><span> - </span><a href=\"/url?q=https://support.google.com/websearch%3Fp%3Dws_settings_location%26hl%3Den-IN&amp;sa=U&amp;ved=0ahUKEwiUvMHZ1c2AAxWx1TgGHfjNBVsQty4IUw&amp;usg=AOvVaw3RsIPhteptRV1ImNtBgAsl\">Learn more</a></div><div align=\"center\"><a class=\"rEM8G\" href=\"/url?q=https://accounts.google.com/ServiceLogin%3Fcontinue%3Dhttps://www.google.com/search%253Fq%253DSpace%2526tbm%253Disch%2526source%253Dlnms%2526sa%253DX%2526ved%253D2ahUKEwiq4LDZ1M2AAxVTqFYBHfi_Br8Q0pQJegQICxAB%26hl%3Den&amp;sa=U&amp;ved=0ahUKEwiUvMHZ1c2AAxWx1TgGHfjNBVsQxs8CCFQ&amp;usg=AOvVaw3_Cn4VJCKJkE0G-vHxOFDq\">Sign in</a></div><div><table class=\"bookcf\"><tbody class=\"InWNIe\"><tr><td><a class=\"rEM8G\" href=\"https://www.google.com/preferences?hl=en&amp;sa=X&amp;ved=0ahUKEwiUvMHZ1c2AAxWx1TgGHfjNBVsQv5YECFU\">Settings</a></td><td><a class=\"rEM8G\" href=\"https://www.google.com/intl/en_in/policies/privacy/\">Privacy</a></td><td><a class=\"rEM8G\" href=\"https://www.google.com/intl/en_in/policies/terms/\">Terms</a></td></tr></tbody></table></div></div><div> </div></body></html>\n"
     ]
    }
   ],
   "source": [
    "print(soup)"
   ]
  },
  {
   "cell_type": "code",
   "execution_count": 14,
   "metadata": {},
   "outputs": [],
   "source": [
    "img_tags = soup.find_all(\"img\")"
   ]
  },
  {
   "cell_type": "code",
   "execution_count": 15,
   "metadata": {},
   "outputs": [],
   "source": [
    "del img_tags[0]"
   ]
  },
  {
   "cell_type": "code",
   "execution_count": 17,
   "metadata": {},
   "outputs": [
    {
     "data": {
      "text/plain": [
       "[<img alt=\"\" class=\"yWs4tf\" src=\"https://encrypted-tbn0.gstatic.com/images?q=tbn:ANd9GcQMS33GV0Otp1HfP85DIrPSd10Ys_Px3bLi9KsQ3KUn-P2_MIPLnNXm094bcw&amp;s\"/>,\n",
       " <img alt=\"\" class=\"yWs4tf\" src=\"https://encrypted-tbn0.gstatic.com/images?q=tbn:ANd9GcT6xXvU5j6anuZqkMRNBsCRr6deBK3xi68KGEsBSTB8vKDiq5-Zt_4V-FUTOw&amp;s\"/>,\n",
       " <img alt=\"\" class=\"yWs4tf\" src=\"https://encrypted-tbn0.gstatic.com/images?q=tbn:ANd9GcRReRcq2pxNluyiL73jZ8hHX_LQzsrF9oKBGIS9xnVnHH9OokLAnwO5M3xw6w&amp;s\"/>,\n",
       " <img alt=\"\" class=\"yWs4tf\" src=\"https://encrypted-tbn0.gstatic.com/images?q=tbn:ANd9GcQdea5WSDmNdZ_FaVEVtga2on2HpFQDYDHlZo0qq1j8MuRu33UFCtnCUnP15A&amp;s\"/>,\n",
       " <img alt=\"\" class=\"yWs4tf\" src=\"https://encrypted-tbn0.gstatic.com/images?q=tbn:ANd9GcQBN1Fz4bQIt4b21Vzj1jxAtOr-PgJz6-3Eph-A4KxEZbDHUbz0VTEUJPzS4tM&amp;s\"/>,\n",
       " <img alt=\"\" class=\"yWs4tf\" src=\"https://encrypted-tbn0.gstatic.com/images?q=tbn:ANd9GcTanRnxNVo9oziYK95R3YKj4zfUNWOp8CEznsNQoQm-ji9SzQ-VJYopJ5Njp0I&amp;s\"/>,\n",
       " <img alt=\"\" class=\"yWs4tf\" src=\"https://encrypted-tbn0.gstatic.com/images?q=tbn:ANd9GcTvbQHOTfJiSQYQEsTbxL2aBe3I6xvT_8npEoik-G4xyye9KecBEixczk37Iyc&amp;s\"/>,\n",
       " <img alt=\"\" class=\"yWs4tf\" src=\"https://encrypted-tbn0.gstatic.com/images?q=tbn:ANd9GcThqqewFLCXl6oX1nHN9foni1WDo9dVeEg93Ypy3x9oXxIA3_ZUtCQxI6Jz0Q&amp;s\"/>,\n",
       " <img alt=\"\" class=\"yWs4tf\" src=\"https://encrypted-tbn0.gstatic.com/images?q=tbn:ANd9GcQ7DFmM8xyD00wfGZVnwQ_OeEbKav0dBN426aOk9J50Ug-KnTF6tRrLK09qEU8&amp;s\"/>,\n",
       " <img alt=\"\" class=\"yWs4tf\" src=\"https://encrypted-tbn0.gstatic.com/images?q=tbn:ANd9GcQx39eP69SOyifE-hfGTp2cLOa8I_b0ez6IpYq8UPEY8cnf5mVoXtCCUF3EXQ&amp;s\"/>,\n",
       " <img alt=\"\" class=\"yWs4tf\" src=\"https://encrypted-tbn0.gstatic.com/images?q=tbn:ANd9GcQPrkbhQciYIQzNBgxCGC5hRKFOaO6UJxaL2jvD8-uZYuEZxnX8KRR-Ez5ZQw&amp;s\"/>,\n",
       " <img alt=\"\" class=\"yWs4tf\" src=\"https://encrypted-tbn0.gstatic.com/images?q=tbn:ANd9GcST5V7prTnCkYs4qstYonEHxyuqrIhj5fxjL30u7IowSC1-pYZQ627seL2_K2I&amp;s\"/>,\n",
       " <img alt=\"\" class=\"yWs4tf\" src=\"https://encrypted-tbn0.gstatic.com/images?q=tbn:ANd9GcQZh3i9GmyIb-jpNtSik1rQ1G4Bp8rdsrAEH-3Oiu11i17FjGc2_H1xgcQTCPc&amp;s\"/>,\n",
       " <img alt=\"\" class=\"yWs4tf\" src=\"https://encrypted-tbn0.gstatic.com/images?q=tbn:ANd9GcRVwb-_bPgKxBZqVx51F3r1VOWDeZVHiXbgnHGQpD1qdfSQx5xztCWdSP-9ig&amp;s\"/>,\n",
       " <img alt=\"\" class=\"yWs4tf\" src=\"https://encrypted-tbn0.gstatic.com/images?q=tbn:ANd9GcSey_7NuNy2DiGaLE6cjfCjQ_qNJzO1NwuNIs3XWDhde_CdEbcnWKgxzWFbm0Q&amp;s\"/>,\n",
       " <img alt=\"\" class=\"yWs4tf\" src=\"https://encrypted-tbn0.gstatic.com/images?q=tbn:ANd9GcSmFMK3JrY_jeyQ4IEjiYrSSnFraeydPaLYTSbZdxxb6ADLCxAJ6jQ_IR5mIg&amp;s\"/>,\n",
       " <img alt=\"\" class=\"yWs4tf\" src=\"https://encrypted-tbn0.gstatic.com/images?q=tbn:ANd9GcRnyafh7CdqKhGfBxa-Qvdmw3h78od3bKwDHiYOJDowSDR4TqSYK5yO4-RITvM&amp;s\"/>,\n",
       " <img alt=\"\" class=\"yWs4tf\" src=\"https://encrypted-tbn0.gstatic.com/images?q=tbn:ANd9GcQeaGfto6MCEBZqrcXZtGXYjGGc555ds2AJppH4U9jSG2sBwArNIiWh1JyJRw&amp;s\"/>,\n",
       " <img alt=\"\" class=\"yWs4tf\" src=\"https://encrypted-tbn0.gstatic.com/images?q=tbn:ANd9GcQwtq6pQdGs0l9u1RossLc6aShgJjuU6icjCH0jatw_v8pMoT1Lx50MF5ghvQ&amp;s\"/>,\n",
       " <img alt=\"\" class=\"yWs4tf\" src=\"https://encrypted-tbn0.gstatic.com/images?q=tbn:ANd9GcTdeN-cgGBtMDUtuXM511jp9IikZ7UryNJV3Fnir6cqG3OLFzPxvKtBGa80hQ&amp;s\"/>]"
      ]
     },
     "execution_count": 17,
     "metadata": {},
     "output_type": "execute_result"
    }
   ],
   "source": [
    "img_tags"
   ]
  },
  {
   "cell_type": "code",
   "execution_count": 19,
   "metadata": {},
   "outputs": [
    {
     "name": "stdout",
     "output_type": "stream",
     "text": [
      "https://encrypted-tbn0.gstatic.com/images?q=tbn:ANd9GcQMS33GV0Otp1HfP85DIrPSd10Ys_Px3bLi9KsQ3KUn-P2_MIPLnNXm094bcw&s\n",
      "https://encrypted-tbn0.gstatic.com/images?q=tbn:ANd9GcT6xXvU5j6anuZqkMRNBsCRr6deBK3xi68KGEsBSTB8vKDiq5-Zt_4V-FUTOw&s\n",
      "https://encrypted-tbn0.gstatic.com/images?q=tbn:ANd9GcRReRcq2pxNluyiL73jZ8hHX_LQzsrF9oKBGIS9xnVnHH9OokLAnwO5M3xw6w&s\n",
      "https://encrypted-tbn0.gstatic.com/images?q=tbn:ANd9GcQdea5WSDmNdZ_FaVEVtga2on2HpFQDYDHlZo0qq1j8MuRu33UFCtnCUnP15A&s\n",
      "https://encrypted-tbn0.gstatic.com/images?q=tbn:ANd9GcQBN1Fz4bQIt4b21Vzj1jxAtOr-PgJz6-3Eph-A4KxEZbDHUbz0VTEUJPzS4tM&s\n",
      "https://encrypted-tbn0.gstatic.com/images?q=tbn:ANd9GcTanRnxNVo9oziYK95R3YKj4zfUNWOp8CEznsNQoQm-ji9SzQ-VJYopJ5Njp0I&s\n",
      "https://encrypted-tbn0.gstatic.com/images?q=tbn:ANd9GcTvbQHOTfJiSQYQEsTbxL2aBe3I6xvT_8npEoik-G4xyye9KecBEixczk37Iyc&s\n",
      "https://encrypted-tbn0.gstatic.com/images?q=tbn:ANd9GcThqqewFLCXl6oX1nHN9foni1WDo9dVeEg93Ypy3x9oXxIA3_ZUtCQxI6Jz0Q&s\n",
      "https://encrypted-tbn0.gstatic.com/images?q=tbn:ANd9GcQ7DFmM8xyD00wfGZVnwQ_OeEbKav0dBN426aOk9J50Ug-KnTF6tRrLK09qEU8&s\n",
      "https://encrypted-tbn0.gstatic.com/images?q=tbn:ANd9GcQx39eP69SOyifE-hfGTp2cLOa8I_b0ez6IpYq8UPEY8cnf5mVoXtCCUF3EXQ&s\n",
      "https://encrypted-tbn0.gstatic.com/images?q=tbn:ANd9GcQPrkbhQciYIQzNBgxCGC5hRKFOaO6UJxaL2jvD8-uZYuEZxnX8KRR-Ez5ZQw&s\n",
      "https://encrypted-tbn0.gstatic.com/images?q=tbn:ANd9GcST5V7prTnCkYs4qstYonEHxyuqrIhj5fxjL30u7IowSC1-pYZQ627seL2_K2I&s\n",
      "https://encrypted-tbn0.gstatic.com/images?q=tbn:ANd9GcQZh3i9GmyIb-jpNtSik1rQ1G4Bp8rdsrAEH-3Oiu11i17FjGc2_H1xgcQTCPc&s\n",
      "https://encrypted-tbn0.gstatic.com/images?q=tbn:ANd9GcRVwb-_bPgKxBZqVx51F3r1VOWDeZVHiXbgnHGQpD1qdfSQx5xztCWdSP-9ig&s\n",
      "https://encrypted-tbn0.gstatic.com/images?q=tbn:ANd9GcSey_7NuNy2DiGaLE6cjfCjQ_qNJzO1NwuNIs3XWDhde_CdEbcnWKgxzWFbm0Q&s\n",
      "https://encrypted-tbn0.gstatic.com/images?q=tbn:ANd9GcSmFMK3JrY_jeyQ4IEjiYrSSnFraeydPaLYTSbZdxxb6ADLCxAJ6jQ_IR5mIg&s\n",
      "https://encrypted-tbn0.gstatic.com/images?q=tbn:ANd9GcRnyafh7CdqKhGfBxa-Qvdmw3h78od3bKwDHiYOJDowSDR4TqSYK5yO4-RITvM&s\n",
      "https://encrypted-tbn0.gstatic.com/images?q=tbn:ANd9GcQeaGfto6MCEBZqrcXZtGXYjGGc555ds2AJppH4U9jSG2sBwArNIiWh1JyJRw&s\n",
      "https://encrypted-tbn0.gstatic.com/images?q=tbn:ANd9GcQwtq6pQdGs0l9u1RossLc6aShgJjuU6icjCH0jatw_v8pMoT1Lx50MF5ghvQ&s\n",
      "https://encrypted-tbn0.gstatic.com/images?q=tbn:ANd9GcTdeN-cgGBtMDUtuXM511jp9IikZ7UryNJV3Fnir6cqG3OLFzPxvKtBGa80hQ&s\n"
     ]
    }
   ],
   "source": [
    "for i in img_tags:\n",
    "    print(i[\"src\"])"
   ]
  },
  {
   "cell_type": "code",
   "execution_count": 22,
   "metadata": {},
   "outputs": [],
   "source": [
    "\n",
    "for i in img_tags:\n",
    "    img_url = i[\"src\"]\n",
    "    img_org = requests.get(img_url).content\n",
    "    with open(os.path.join(save_dir,f\"{query}_{img_tags.index(i)}.jpeg\"),\"wb\") as f:\n",
    "        f.write(img_org)"
   ]
  },
  {
   "cell_type": "code",
   "execution_count": null,
   "metadata": {},
   "outputs": [],
   "source": []
  },
  {
   "cell_type": "code",
   "execution_count": null,
   "metadata": {},
   "outputs": [],
   "source": []
  },
  {
   "cell_type": "code",
   "execution_count": null,
   "metadata": {},
   "outputs": [],
   "source": []
  },
  {
   "cell_type": "code",
   "execution_count": null,
   "metadata": {},
   "outputs": [],
   "source": []
  }
 ],
 "metadata": {
  "kernelspec": {
   "display_name": "Python 3 (ipykernel)",
   "language": "python",
   "name": "python3"
  },
  "language_info": {
   "codemirror_mode": {
    "name": "ipython",
    "version": 3
   },
   "file_extension": ".py",
   "mimetype": "text/x-python",
   "name": "python",
   "nbconvert_exporter": "python",
   "pygments_lexer": "ipython3",
   "version": "3.11.4"
  },
  "orig_nbformat": 4
 },
 "nbformat": 4,
 "nbformat_minor": 2
}
